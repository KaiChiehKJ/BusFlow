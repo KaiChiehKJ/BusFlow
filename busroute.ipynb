{
 "cells": [
  {
   "cell_type": "code",
   "execution_count": 1,
   "metadata": {},
   "outputs": [],
   "source": [
    "import geopandas as gpd\n",
    "import pandas as pd\n",
    "import os\n",
    "from shapely.geometry import Point, LineString\n",
    "from busroute import snap_points_to_line, split_routes\n",
    "\n",
    "# busroute.shp 的 欄位名稱(因每次資料來源提供的會有所不同)\n",
    "route_routename_col = 'RouteNameZ'\n",
    "route_direction_col = 'Direction'\n",
    "\n",
    "# Seq 的欄位名稱 (因每次資料來源提供的會有所不同)\n",
    "seq_routename_col = 'RouteName'\n",
    "seq_direction_col = 'Direction'\n",
    "seq_seq_col = 'Seq'\n",
    "seq_lat_col = 'Lat'\n",
    "seq_lng_col = 'Lon'\n",
    "\n",
    "busroute = gpd.read_file(os.path.join(os.getcwd(),'..', 'input','Shp','BusRoute.shp'))\n",
    "seq = seq = pd.read_csv(os.path.join(os.getcwd(),'..', 'input','seq.csv'))"
   ]
  },
  {
   "cell_type": "code",
   "execution_count": 2,
   "metadata": {},
   "outputs": [
    {
     "name": "stdout",
     "output_type": "stream",
     "text": [
      "可計算的路線共有: 379 條\n",
      "只有路線檔案的路線: []\n",
      "只有站序檔案的路線: []\n"
     ]
    }
   ],
   "source": [
    "# 只做同時有站序 & 路線檔案的\n",
    "routelist = list(set(list(busroute[route_routename_col])) & set(list(seq[seq_routename_col])))\n",
    "print(\"可計算的路線共有:\", len(routelist),'條')\n",
    "only_in_route = list(set(busroute[route_routename_col]) - set(seq[seq_routename_col]))\n",
    "print(\"只有路線檔案的路線:\", only_in_route)\n",
    "only_in_seq = list(set(seq[seq_routename_col]) - set(busroute[route_routename_col]))\n",
    "print(\"只有站序檔案的路線:\", only_in_seq)"
   ]
  },
  {
   "cell_type": "code",
   "execution_count": 3,
   "metadata": {},
   "outputs": [],
   "source": [
    "shp_outputfolder = os.path.join(os.getcwd(),'..', 'output','shp')\n",
    "os.makedirs(shp_outputfolder, exist_ok=True)"
   ]
  },
  {
   "cell_type": "markdown",
   "metadata": {},
   "source": [
    "以下嘗試"
   ]
  },
  {
   "cell_type": "code",
   "execution_count": 4,
   "metadata": {},
   "outputs": [
    {
     "name": "stdout",
     "output_type": "stream",
     "text": [
      "現在示範的路線編號為： L118\n",
      "現在示範的方向為： 0\n"
     ]
    }
   ],
   "source": [
    "route = routelist[4]\n",
    "print(\"現在示範的路線編號為：\", route)\n",
    "\n",
    "directions = [0,1]\n",
    "direction = directions[0]\n",
    "print(\"現在示範的方向為：\", direction)"
   ]
  },
  {
   "cell_type": "code",
   "execution_count": 5,
   "metadata": {},
   "outputs": [],
   "source": [
    "busroute_select = busroute[ (busroute[route_routename_col] == route) & (busroute[route_direction_col] == direction)][[route_routename_col,route_direction_col,'geometry' ]].reset_index(drop = True)\n",
    "seq_select = seq[ (seq[seq_routename_col] == route) & (seq[seq_direction_col] == direction) ].sort_values(seq_seq_col).reset_index(drop = True)\n",
    "# 假設 seq_select 包含 Lat 和 Lon 欄位，創建一個 geometry 欄位\n",
    "seq_select['geometry'] = seq_select.apply(lambda row: Point(row[seq_lng_col], row[seq_lat_col]), axis=1)\n",
    "# 將 Pandas DataFrame 轉換為 GeoDataFrame\n",
    "seq_select = gpd.GeoDataFrame(seq_select, geometry='geometry').drop_duplicates(subset=[seq_seq_col]).reset_index(drop = True)\n",
    "seq_select = seq_select.set_crs(epsg=4326, inplace=True)"
   ]
  },
  {
   "cell_type": "code",
   "execution_count": 107,
   "metadata": {},
   "outputs": [],
   "source": [
    "# busroute_select.to_file(os.path.join(shp_outputfolder, 'busroute_select.shp'))\n",
    "# seq_select.to_file(os.path.join(shp_outputfolder, 'seq_select.shp'))"
   ]
  },
  {
   "cell_type": "code",
   "execution_count": 6,
   "metadata": {},
   "outputs": [],
   "source": [
    "# (1) 把公車站點（投影到路線上）\n",
    "# 假設 busroute_select 和 seq_select 已經是 GeoDataFrames，並且你已經知道欄位名稱\n",
    "seq_select = snap_points_to_line(seq_select, busroute_select, \n",
    "                                         route_routename_col=route_routename_col, \n",
    "                                         route_direction_col=route_direction_col, \n",
    "                                         seq_routename_col=seq_routename_col, \n",
    "                                         seq_direction_col=seq_direction_col, \n",
    "                                         seq_lat_col=seq_lat_col, \n",
    "                                         seq_lng_col=seq_lng_col)"
   ]
  },
  {
   "cell_type": "markdown",
   "metadata": {},
   "source": [
    "(2) 把路線進行拆分"
   ]
  },
  {
   "cell_type": "code",
   "execution_count": 27,
   "metadata": {},
   "outputs": [],
   "source": [
    "segment = split_routes(busroute_select, seq_select, route_routename_col = 'RouteNameZ').set_crs(epsg=4326, inplace=True)\n",
    "segment = segment.to_crs(epsg=3826)\n",
    "# 計算長度，這樣長度將以米為單位\n",
    "segment['length'] = segment.geometry.length\n",
    "\n",
    "segment['Direction'] = segment['Direction'].astype(int)\n",
    "segment['OD'] = segment['StartSeq'].astype(str) + \"-\" + segment['EndSeq'].astype(str)\n",
    "segment = segment[['RouteName', 'OD', 'Direction', 'StartSeq', 'EndSeq', 'length' ,'geometry']]\n"
   ]
  },
  {
   "cell_type": "code",
   "execution_count": 28,
   "metadata": {},
   "outputs": [
    {
     "data": {
      "text/html": [
       "<div>\n",
       "<style scoped>\n",
       "    .dataframe tbody tr th:only-of-type {\n",
       "        vertical-align: middle;\n",
       "    }\n",
       "\n",
       "    .dataframe tbody tr th {\n",
       "        vertical-align: top;\n",
       "    }\n",
       "\n",
       "    .dataframe thead th {\n",
       "        text-align: right;\n",
       "    }\n",
       "</style>\n",
       "<table border=\"1\" class=\"dataframe\">\n",
       "  <thead>\n",
       "    <tr style=\"text-align: right;\">\n",
       "      <th></th>\n",
       "      <th>RouteName</th>\n",
       "      <th>OD</th>\n",
       "      <th>Direction</th>\n",
       "      <th>StartSeq</th>\n",
       "      <th>EndSeq</th>\n",
       "      <th>length</th>\n",
       "      <th>geometry</th>\n",
       "    </tr>\n",
       "  </thead>\n",
       "  <tbody>\n",
       "    <tr>\n",
       "      <th>0</th>\n",
       "      <td>L118</td>\n",
       "      <td>1-2</td>\n",
       "      <td>0</td>\n",
       "      <td>1</td>\n",
       "      <td>2</td>\n",
       "      <td>346.696295</td>\n",
       "      <td>LINESTRING (278403.503 2757570.066, 278404.137...</td>\n",
       "    </tr>\n",
       "    <tr>\n",
       "      <th>1</th>\n",
       "      <td>L118</td>\n",
       "      <td>2-3</td>\n",
       "      <td>0</td>\n",
       "      <td>2</td>\n",
       "      <td>3</td>\n",
       "      <td>366.607347</td>\n",
       "      <td>LINESTRING (278515.118 2757830.764, 278559.249...</td>\n",
       "    </tr>\n",
       "    <tr>\n",
       "      <th>2</th>\n",
       "      <td>L118</td>\n",
       "      <td>3-4</td>\n",
       "      <td>0</td>\n",
       "      <td>3</td>\n",
       "      <td>4</td>\n",
       "      <td>321.231688</td>\n",
       "      <td>LINESTRING (278741.162 2758024.177, 278741.887...</td>\n",
       "    </tr>\n",
       "    <tr>\n",
       "      <th>3</th>\n",
       "      <td>L118</td>\n",
       "      <td>4-5</td>\n",
       "      <td>0</td>\n",
       "      <td>4</td>\n",
       "      <td>5</td>\n",
       "      <td>376.452089</td>\n",
       "      <td>LINESTRING (278726.979 2758305.782, 278760.135...</td>\n",
       "    </tr>\n",
       "    <tr>\n",
       "      <th>4</th>\n",
       "      <td>L118</td>\n",
       "      <td>5-6</td>\n",
       "      <td>0</td>\n",
       "      <td>5</td>\n",
       "      <td>6</td>\n",
       "      <td>476.002399</td>\n",
       "      <td>LINESTRING (278763.202 2758678.049, 278772.721...</td>\n",
       "    </tr>\n",
       "    <tr>\n",
       "      <th>...</th>\n",
       "      <td>...</td>\n",
       "      <td>...</td>\n",
       "      <td>...</td>\n",
       "      <td>...</td>\n",
       "      <td>...</td>\n",
       "      <td>...</td>\n",
       "      <td>...</td>\n",
       "    </tr>\n",
       "    <tr>\n",
       "      <th>65</th>\n",
       "      <td>L118</td>\n",
       "      <td>66-67</td>\n",
       "      <td>0</td>\n",
       "      <td>66</td>\n",
       "      <td>67</td>\n",
       "      <td>697.299248</td>\n",
       "      <td>LINESTRING (277360.589 2758405.988, 277365.642...</td>\n",
       "    </tr>\n",
       "    <tr>\n",
       "      <th>66</th>\n",
       "      <td>L118</td>\n",
       "      <td>67-68</td>\n",
       "      <td>0</td>\n",
       "      <td>67</td>\n",
       "      <td>68</td>\n",
       "      <td>952.683980</td>\n",
       "      <td>LINESTRING (277990.654 2758209.756, 278091.163...</td>\n",
       "    </tr>\n",
       "    <tr>\n",
       "      <th>67</th>\n",
       "      <td>L118</td>\n",
       "      <td>68-69</td>\n",
       "      <td>0</td>\n",
       "      <td>68</td>\n",
       "      <td>69</td>\n",
       "      <td>338.911731</td>\n",
       "      <td>LINESTRING (278734.841 2758026.236, 278732.816...</td>\n",
       "    </tr>\n",
       "    <tr>\n",
       "      <th>68</th>\n",
       "      <td>L118</td>\n",
       "      <td>69-70</td>\n",
       "      <td>0</td>\n",
       "      <td>69</td>\n",
       "      <td>70</td>\n",
       "      <td>275.436662</td>\n",
       "      <td>LINESTRING (278730.454 2757687.842, 278730.488...</td>\n",
       "    </tr>\n",
       "    <tr>\n",
       "      <th>69</th>\n",
       "      <td>L118</td>\n",
       "      <td>70-71</td>\n",
       "      <td>0</td>\n",
       "      <td>70</td>\n",
       "      <td>71</td>\n",
       "      <td>29907.755420</td>\n",
       "      <td>LINESTRING (278569.088 2757587.691, 278572.118...</td>\n",
       "    </tr>\n",
       "  </tbody>\n",
       "</table>\n",
       "<p>70 rows × 7 columns</p>\n",
       "</div>"
      ],
      "text/plain": [
       "   RouteName     OD  Direction  StartSeq  EndSeq        length  \\\n",
       "0       L118    1-2          0         1       2    346.696295   \n",
       "1       L118    2-3          0         2       3    366.607347   \n",
       "2       L118    3-4          0         3       4    321.231688   \n",
       "3       L118    4-5          0         4       5    376.452089   \n",
       "4       L118    5-6          0         5       6    476.002399   \n",
       "..       ...    ...        ...       ...     ...           ...   \n",
       "65      L118  66-67          0        66      67    697.299248   \n",
       "66      L118  67-68          0        67      68    952.683980   \n",
       "67      L118  68-69          0        68      69    338.911731   \n",
       "68      L118  69-70          0        69      70    275.436662   \n",
       "69      L118  70-71          0        70      71  29907.755420   \n",
       "\n",
       "                                             geometry  \n",
       "0   LINESTRING (278403.503 2757570.066, 278404.137...  \n",
       "1   LINESTRING (278515.118 2757830.764, 278559.249...  \n",
       "2   LINESTRING (278741.162 2758024.177, 278741.887...  \n",
       "3   LINESTRING (278726.979 2758305.782, 278760.135...  \n",
       "4   LINESTRING (278763.202 2758678.049, 278772.721...  \n",
       "..                                                ...  \n",
       "65  LINESTRING (277360.589 2758405.988, 277365.642...  \n",
       "66  LINESTRING (277990.654 2758209.756, 278091.163...  \n",
       "67  LINESTRING (278734.841 2758026.236, 278732.816...  \n",
       "68  LINESTRING (278730.454 2757687.842, 278730.488...  \n",
       "69  LINESTRING (278569.088 2757587.691, 278572.118...  \n",
       "\n",
       "[70 rows x 7 columns]"
      ]
     },
     "execution_count": 28,
     "metadata": {},
     "output_type": "execute_result"
    }
   ],
   "source": [
    "segment"
   ]
  }
 ],
 "metadata": {
  "kernelspec": {
   "display_name": "Python 3",
   "language": "python",
   "name": "python3"
  },
  "language_info": {
   "codemirror_mode": {
    "name": "ipython",
    "version": 3
   },
   "file_extension": ".py",
   "mimetype": "text/x-python",
   "name": "python",
   "nbconvert_exporter": "python",
   "pygments_lexer": "ipython3",
   "version": "3.11.9"
  }
 },
 "nbformat": 4,
 "nbformat_minor": 2
}
