{
 "cells": [
  {
   "cell_type": "code",
   "execution_count": 6,
   "metadata": {},
   "outputs": [],
   "source": [
    "import geopandas as gpd\n",
    "import pandas as pd\n",
    "import os\n",
    "from shapely.geometry import Point, LineString\n",
    "from busroute import snap_points_to_line\n",
    "\n",
    "# busroute.shp 的 欄位名稱(因每次資料來源提供的會有所不同)\n",
    "route_routename_col = 'RouteNameZ'\n",
    "route_direction_col = 'Direction'\n",
    "\n",
    "# Seq 的欄位名稱 (因每次資料來源提供的會有所不同)\n",
    "seq_routename_col = 'RouteName'\n",
    "seq_direction_col = 'Direction'\n",
    "seq_seq_col = 'Seq'\n",
    "seq_lat_col = 'Lat'\n",
    "seq_lng_col = 'Lon'\n",
    "\n",
    "busroute = gpd.read_file(os.path.join(os.getcwd(),'..', 'input','Shp','BusRoute.shp'))\n",
    "seq = seq = pd.read_csv(os.path.join(os.getcwd(),'..', 'input','seq.csv'))"
   ]
  },
  {
   "cell_type": "code",
   "execution_count": 7,
   "metadata": {},
   "outputs": [
    {
     "name": "stdout",
     "output_type": "stream",
     "text": [
      "可計算的路線共有: 379 條\n",
      "只有路線檔案的路線: []\n",
      "只有站序檔案的路線: []\n"
     ]
    }
   ],
   "source": [
    "# 只做同時有站序 & 路線檔案的\n",
    "routelist = list(set(list(busroute[route_routename_col])) & set(list(seq[seq_routename_col])))\n",
    "print(\"可計算的路線共有:\", len(routelist),'條')\n",
    "only_in_route = list(set(busroute[route_routename_col]) - set(seq[seq_routename_col]))\n",
    "print(\"只有路線檔案的路線:\", only_in_route)\n",
    "only_in_seq = list(set(seq[seq_routename_col]) - set(busroute[route_routename_col]))\n",
    "print(\"只有站序檔案的路線:\", only_in_seq)"
   ]
  },
  {
   "cell_type": "code",
   "execution_count": 8,
   "metadata": {},
   "outputs": [],
   "source": [
    "shp_outputfolder = os.path.join(os.getcwd(),'..', 'output','shp')\n",
    "os.makedirs(shp_outputfolder, exist_ok=True)"
   ]
  },
  {
   "cell_type": "markdown",
   "metadata": {},
   "source": [
    "以下嘗試"
   ]
  },
  {
   "cell_type": "code",
   "execution_count": 74,
   "metadata": {},
   "outputs": [
    {
     "name": "stdout",
     "output_type": "stream",
     "text": [
      "現在示範的路線編號為： 5038\n",
      "現在示範的方向為： 0\n"
     ]
    }
   ],
   "source": [
    "route = routelist[4]\n",
    "print(\"現在示範的路線編號為：\", route)\n",
    "\n",
    "directions = [0,1]\n",
    "direction = directions[0]\n",
    "print(\"現在示範的方向為：\", direction)"
   ]
  },
  {
   "cell_type": "code",
   "execution_count": 75,
   "metadata": {},
   "outputs": [],
   "source": [
    "busroute_select = busroute[ (busroute[route_routename_col] == route) & (busroute[route_direction_col] == direction)][[route_routename_col,route_direction_col,'geometry' ]].reset_index(drop = True)\n",
    "seq_select = seq[ (seq[seq_routename_col] == route) & (seq[seq_direction_col] == direction) ].sort_values(seq_seq_col).reset_index(drop = True)\n",
    "# 假設 seq_select 包含 Lat 和 Lon 欄位，創建一個 geometry 欄位\n",
    "seq_select['geometry'] = seq_select.apply(lambda row: Point(row[seq_lng_col], row[seq_lat_col]), axis=1)\n",
    "# 將 Pandas DataFrame 轉換為 GeoDataFrame\n",
    "seq_select = gpd.GeoDataFrame(seq_select, geometry='geometry').drop_duplicates(subset=[seq_seq_col]).reset_index(drop = True)\n",
    "seq_select = seq_select.set_crs(epsg=4326, inplace=True)"
   ]
  },
  {
   "cell_type": "code",
   "execution_count": 76,
   "metadata": {},
   "outputs": [],
   "source": [
    "busroute_select.to_file(os.path.join(shp_outputfolder, 'busroute_select.shp'))\n",
    "seq_select.to_file(os.path.join(shp_outputfolder, 'seq_select.shp'))"
   ]
  },
  {
   "cell_type": "code",
   "execution_count": 77,
   "metadata": {},
   "outputs": [],
   "source": [
    "# (1) 把公車站點（投影到路線上）\n",
    "# 假設 busroute_select 和 seq_select 已經是 GeoDataFrames，並且你已經知道欄位名稱\n",
    "seq_select = snap_points_to_line(seq_select, busroute_select, \n",
    "                                         route_routename_col=route_routename_col, \n",
    "                                         route_direction_col=route_direction_col, \n",
    "                                         seq_routename_col=seq_routename_col, \n",
    "                                         seq_direction_col=seq_direction_col, \n",
    "                                         seq_lat_col=seq_lat_col, \n",
    "                                         seq_lng_col=seq_lng_col)"
   ]
  },
  {
   "cell_type": "markdown",
   "metadata": {},
   "source": [
    "(2) 把路線進行拆分"
   ]
  },
  {
   "cell_type": "code",
   "execution_count": 78,
   "metadata": {},
   "outputs": [],
   "source": [
    "# busroute.shp 的 欄位名稱(因每次資料來源提供的會有所不同)\n",
    "route_routename_col = 'RouteNameZ'\n",
    "route_direction_col = 'Direction'\n",
    "\n",
    "# Seq 的欄位名稱 (因每次資料來源提供的會有所不同)\n",
    "seq_routename_col = 'RouteName'\n",
    "seq_direction_col = 'Direction'\n",
    "seq_seq_col = 'Seq'\n",
    "seq_lat_col = 'Lat'\n",
    "seq_lng_col = 'Lon'"
   ]
  },
  {
   "cell_type": "code",
   "execution_count": 79,
   "metadata": {},
   "outputs": [],
   "source": [
    "busroute_select = busroute_select.rename(columns = {route_routename_col:'RouteName',route_direction_col:'Direction'})\n",
    "seq_select = seq_select.rename(columns = {seq_routename_col:'RouteName', seq_direction_col:'Direction', seq_seq_col:'Seq'})"
   ]
  },
  {
   "cell_type": "code",
   "execution_count": 81,
   "metadata": {},
   "outputs": [
    {
     "name": "stdout",
     "output_type": "stream",
     "text": [
      "   RouteName  StartSeq  EndSeq  \\\n",
      "0       5038         1       2   \n",
      "1       5038         2       3   \n",
      "2       5038         3       4   \n",
      "3       5038         4       5   \n",
      "4       5038         5       6   \n",
      "5       5038         6       7   \n",
      "6       5038         7       8   \n",
      "7       5038         8       9   \n",
      "8       5038         9      10   \n",
      "9       5038        10      11   \n",
      "10      5038        11      12   \n",
      "11      5038        12      13   \n",
      "12      5038        13      14   \n",
      "13      5038        14      15   \n",
      "14      5038        15      16   \n",
      "15      5038        16      17   \n",
      "16      5038        17      18   \n",
      "17      5038        18      19   \n",
      "18      5038        19      20   \n",
      "19      5038        20      21   \n",
      "20      5038        21      22   \n",
      "21      5038        22      23   \n",
      "22      5038        23      24   \n",
      "23      5038        24      25   \n",
      "24      5038        25      26   \n",
      "25      5038        26      27   \n",
      "26      5038        27      28   \n",
      "27      5038        28      29   \n",
      "28      5038        29      30   \n",
      "29      5038        30      31   \n",
      "30      5038        31      32   \n",
      "31      5038        32      33   \n",
      "32      5038        33      34   \n",
      "33      5038        34      35   \n",
      "34      5038        35      36   \n",
      "35      5038        36      37   \n",
      "36      5038        37      38   \n",
      "37      5038        38      39   \n",
      "38      5038        39      40   \n",
      "\n",
      "                                             geometry  \n",
      "0   LINESTRING (121.22389 24.95321, 121.2221 24.95...  \n",
      "1   LINESTRING (121.22195 24.95524, 121.22077 24.9...  \n",
      "2   LINESTRING (121.22023 24.95549, 121.21904 24.9...  \n",
      "3   LINESTRING (121.21639 24.95549, 121.21597 24.9...  \n",
      "4   LINESTRING (121.21365 24.95703, 121.21232 24.9...  \n",
      "5   LINESTRING (121.21232 24.95826, 121.21097 24.9...  \n",
      "6   LINESTRING (121.21069 24.95971, 121.21059 24.9...  \n",
      "7   LINESTRING (121.20813 24.96062, 121.20735 24.9...  \n",
      "8   LINESTRING (121.20665 24.9612, 121.20604 24.96...  \n",
      "9   LINESTRING (121.20438 24.96454, 121.20422 24.9...  \n",
      "10  LINESTRING (121.2026 24.96858, 121.20201 24.97...  \n",
      "11  LINESTRING (121.20124 24.97108, 121.20102 24.9...  \n",
      "12  LINESTRING (121.19874 24.97342, 121.19855 24.9...  \n",
      "13  LINESTRING (121.19598 24.97637, 121.19555 24.9...  \n",
      "14  LINESTRING (121.19342 24.97971, 121.19268 24.9...  \n",
      "15  LINESTRING (121.19259 24.98053, 121.19158 24.9...  \n",
      "16  LINESTRING (121.18957 24.98322, 121.18768 24.9...  \n",
      "17  LINESTRING (121.18768 24.98438, 121.18689 24.9...  \n",
      "18  LINESTRING (121.18624 24.98527, 121.1836 24.98...  \n",
      "19  LINESTRING (121.18323 24.98713, 121.18195 24.9...  \n",
      "20  LINESTRING (121.17961 24.98918, 121.17761 24.9...  \n",
      "21  LINESTRING (121.17709 24.99035, 121.17508 24.9...  \n",
      "22  LINESTRING (121.17508 24.99127, 121.17453 24.9...  \n",
      "23  LINESTRING (121.17278 24.99208, 121.17072 24.9...  \n",
      "24  LINESTRING (121.17072 24.99269, 121.17044 24.9...  \n",
      "25  LINESTRING (121.16986 24.99571, 121.1698 24.99...  \n",
      "26  LINESTRING (121.17015 24.99924, 121.17016 24.9...  \n",
      "27  LINESTRING (121.16793 25.0046, 121.16766 25.00...  \n",
      "28  LINESTRING (121.16785 25.00836, 121.16846 25.0...  \n",
      "29  LINESTRING (121.16854 25.01025, 121.16874 25.0...  \n",
      "30  LINESTRING (121.169 25.01133, 121.17004 25.012...  \n",
      "31  LINESTRING (121.1705 25.01339, 121.17138 25.01...  \n",
      "32  LINESTRING (121.17254 25.01653, 121.17307 25.0...  \n",
      "33  LINESTRING (121.17181 25.01806, 121.17014 25.0...  \n",
      "34  LINESTRING (121.17014 25.01863, 121.16975 25.0...  \n",
      "35  LINESTRING (121.16808 25.01996, 121.16662 25.0...  \n",
      "36  LINESTRING (121.16662 25.02102, 121.16512 25.0...  \n",
      "37  LINESTRING (121.16512 25.0221, 121.16475 25.02...  \n",
      "38  LINESTRING (121.16404 25.02311, 121.1633 25.02...  \n"
     ]
    }
   ],
   "source": [
    "def split_routes(busroute_select, seq_select):\n",
    "    import pandas as pd\n",
    "    import geopandas as gpd\n",
    "    from shapely.geometry import LineString, Point\n",
    "    from shapely.ops import substring\n",
    "\n",
    "    output = []\n",
    "\n",
    "    for _, route in busroute_select.iterrows():\n",
    "        route_name = route['RouteName']\n",
    "        direction = route['Direction']\n",
    "        geometry = route['geometry']\n",
    "\n",
    "        # 過濾對應路線與方向的站點\n",
    "        stops = seq_select[(seq_select['RouteName'] == route_name) & \n",
    "                           (seq_select['Direction'] == direction)].sort_values('Seq')\n",
    "\n",
    "        # 確保站點順序對應於路線\n",
    "        stop_coords = [(row['Lon'], row['Lat']) for _, row in stops.iterrows()]\n",
    "\n",
    "        for i in range(len(stop_coords) - 1):\n",
    "            start_point = Point(stop_coords[i])\n",
    "            end_point = Point(stop_coords[i + 1])\n",
    "\n",
    "            # 找到站點在路線中的比例位置\n",
    "            start_distance = geometry.project(start_point)\n",
    "            end_distance = geometry.project(end_point)\n",
    "\n",
    "            # 提取路線幾何分段\n",
    "            segment = substring(geometry, start_distance, end_distance)\n",
    "\n",
    "            output.append({\n",
    "                'RouteName': route_name,\n",
    "                'StartSeq': stops.iloc[i]['Seq'],\n",
    "                'EndSeq': stops.iloc[i + 1]['Seq'],\n",
    "                'geometry': segment\n",
    "            })\n",
    "\n",
    "    return gpd.GeoDataFrame(output)\n",
    "\n",
    "# 執行切分\n",
    "result = split_routes(busroute_select, seq_select)\n",
    "\n",
    "# 設定輸出格式\n",
    "print(result)\n",
    "# 你可以將結果保存到檔案，例如：\n",
    "# result.to_file(\"output_segments.geojson\", driver=\"GeoJSON\")\n"
   ]
  },
  {
   "cell_type": "code",
   "execution_count": 83,
   "metadata": {},
   "outputs": [],
   "source": [
    "result.crs"
   ]
  },
  {
   "cell_type": "code",
   "execution_count": 84,
   "metadata": {},
   "outputs": [],
   "source": [
    "result = gpd.GeoDataFrame(result, geometry='geometry')\n",
    "result = result.set_crs(epsg=4326, inplace=True)"
   ]
  },
  {
   "cell_type": "code",
   "execution_count": 85,
   "metadata": {},
   "outputs": [],
   "source": [
    "result.to_file(os.path.join(shp_outputfolder, 'busroute_segment.shp'))"
   ]
  }
 ],
 "metadata": {
  "kernelspec": {
   "display_name": "Python 3",
   "language": "python",
   "name": "python3"
  },
  "language_info": {
   "codemirror_mode": {
    "name": "ipython",
    "version": 3
   },
   "file_extension": ".py",
   "mimetype": "text/x-python",
   "name": "python",
   "nbconvert_exporter": "python",
   "pygments_lexer": "ipython3",
   "version": "3.11.9"
  }
 },
 "nbformat": 4,
 "nbformat_minor": 2
}
