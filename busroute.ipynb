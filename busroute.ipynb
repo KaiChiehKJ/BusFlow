{
 "cells": [
  {
   "cell_type": "code",
   "execution_count": 12,
   "metadata": {},
   "outputs": [],
   "source": [
    "import geopandas as gpd\n",
    "import pandas as pd\n",
    "import os\n",
    "from shapely.geometry import Point, LineString\n",
    "from busroute import snap_points_to_line, split_routes\n",
    "\n",
    "# busroute.shp 的 欄位名稱(因每次資料來源提供的會有所不同)\n",
    "route_routename_col = 'RouteNameZ'\n",
    "route_direction_col = 'Direction'\n",
    "\n",
    "# Seq 的欄位名稱 (因每次資料來源提供的會有所不同)\n",
    "seq_routename_col = 'RouteName'\n",
    "seq_direction_col = 'Direction'\n",
    "seq_seq_col = 'Seq'\n",
    "seq_lat_col = 'Lat'\n",
    "seq_lng_col = 'Lon'\n",
    "\n",
    "shp_outputfolder = os.path.join(os.getcwd(),'..', 'output','shp')\n",
    "os.makedirs(shp_outputfolder, exist_ok=True)\n",
    "\n",
    "busroute = gpd.read_file(os.path.join(os.getcwd(),'..', 'input','Shp','BusRoute.shp'))\n",
    "seq = seq = pd.read_csv(os.path.join(os.getcwd(),'..', 'input','seq.csv'))"
   ]
  },
  {
   "cell_type": "code",
   "execution_count": 13,
   "metadata": {},
   "outputs": [
    {
     "name": "stdout",
     "output_type": "stream",
     "text": [
      "可計算的路線共有: 379 條\n",
      "只有路線檔案的路線: []\n",
      "只有站序檔案的路線: []\n"
     ]
    }
   ],
   "source": [
    "# 只做同時有站序 & 路線檔案的\n",
    "routelist = list(set(list(busroute[route_routename_col])) & set(list(seq[seq_routename_col])))\n",
    "print(\"可計算的路線共有:\", len(routelist),'條')\n",
    "only_in_route = list(set(busroute[route_routename_col]) - set(seq[seq_routename_col]))\n",
    "print(\"只有路線檔案的路線:\", only_in_route)\n",
    "only_in_seq = list(set(seq[seq_routename_col]) - set(busroute[route_routename_col]))\n",
    "print(\"只有站序檔案的路線:\", only_in_seq)"
   ]
  },
  {
   "cell_type": "code",
   "execution_count": null,
   "metadata": {},
   "outputs": [],
   "source": [
    "allgeodataframe = []\n",
    "for route in routelist:\n",
    "    for direction in [0,1]:\n",
    "        try:\n",
    "            # 取得對應的方向的route\n",
    "            busroute_select = busroute[ (busroute[route_routename_col] == route) & (busroute[route_direction_col] == direction)][[route_routename_col,route_direction_col,'geometry' ]].reset_index(drop = True)\n",
    "            # 也要有對應的seq\n",
    "            seq_select = seq[ (seq[seq_routename_col] == route) & (seq[seq_direction_col] == direction) ].sort_values(seq_seq_col).reset_index(drop = True)\n",
    "            seq_select['geometry'] = seq_select.apply(lambda row: Point(row[seq_lng_col], row[seq_lat_col]), axis=1)\n",
    "            # 將seq_select從 Pandas DataFrame 轉換為 GeoDataFrame\n",
    "            seq_select = gpd.GeoDataFrame(seq_select, geometry='geometry').drop_duplicates(subset=[seq_seq_col]).reset_index(drop = True)\n",
    "            seq_select = seq_select.set_crs(epsg=4326, inplace=True)\n",
    "\n",
    "            # (1) 把公車站點（投影到路線上）\n",
    "            # 假設 busroute_select 和 seq_select 已經是 GeoDataFrames，並且你已經知道欄位名稱\n",
    "            seq_select = snap_points_to_line(seq_select, busroute_select, \n",
    "                                                    route_routename_col=route_routename_col, \n",
    "                                                    route_direction_col=route_direction_col, \n",
    "                                                    seq_routename_col=seq_routename_col, \n",
    "                                                    seq_direction_col=seq_direction_col, \n",
    "                                                    seq_lat_col=seq_lat_col, \n",
    "                                                    seq_lng_col=seq_lng_col)\n",
    "            \n",
    "            # (2) 把路線進行拆分\n",
    "            segment = split_routes(busroute_select, seq_select, route_routename_col = 'RouteNameZ').set_crs(epsg=4326, inplace=True)\n",
    "            segment = segment.to_crs(epsg=3826) # 轉換為TWD97的才有辦法進行計算\n",
    "            segment['length'] = segment.geometry.length # 計算長度，這樣長度將以米為單位\n",
    "            segment['Direction'] = segment['Direction'].astype(int)\n",
    "            segment['OD'] = segment['StartSeq'].astype(str) + \"-\" + segment['EndSeq'].astype(str)\n",
    "            segment = segment[['RouteName', 'OD', 'Direction', 'StartSeq', 'EndSeq', 'length' ,'geometry']]\n",
    "            allgeodataframe.append(segment)\n",
    "        except:\n",
    "            pass\n",
    "allgeodataframe = pd.concat(allgeodataframe)\n",
    "allgeodataframe = allgeodataframe.reset_index(drop = True)\n",
    "# allgeodataframe.to_file(os.path.join(shp_outputfolder, 'busroute_segment.shp'))\n",
    "# 篩選出只包含 LINESTRING 類型的資料\n",
    "line_segments = allgeodataframe[allgeodataframe.geometry.type == 'LineString']\n",
    "# 寫入 Shapefile\n",
    "line_segments.to_file(os.path.join(shp_outputfolder, 'busroute_segment.shp'))\n",
    "\n",
    "print(\"目前沒有拆分路段的BusRoute如下：\")\n",
    "print( list(set(routelist) - set (line_segments['RouteName']) ))"
   ]
  }
 ],
 "metadata": {
  "kernelspec": {
   "display_name": "Python 3",
   "language": "python",
   "name": "python3"
  },
  "language_info": {
   "codemirror_mode": {
    "name": "ipython",
    "version": 3
   },
   "file_extension": ".py",
   "mimetype": "text/x-python",
   "name": "python",
   "nbconvert_exporter": "python",
   "pygments_lexer": "ipython3",
   "version": "3.11.9"
  }
 },
 "nbformat": 4,
 "nbformat_minor": 2
}
