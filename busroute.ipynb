{
 "cells": [
  {
   "cell_type": "code",
   "execution_count": 17,
   "metadata": {},
   "outputs": [],
   "source": [
    "import geopandas as gpd\n",
    "import pandas as pd\n",
    "import os\n",
    "from shapely.geometry import Point, LineString\n",
    "\n",
    "# busroute.shp 的 欄位名稱(因每次資料來源提供的會有所不同)\n",
    "route_routename_col = 'RouteNameZ'\n",
    "route_direction_col = 'Direction'\n",
    "\n",
    "# Seq 的欄位名稱 (因每次資料來源提供的會有所不同)\n",
    "seq_routename_col = 'RouteName'\n",
    "seq_direction_col = 'Direction'\n",
    "seq_seq_col = 'Seq'\n",
    "seq_lat_col = 'Lat'\n",
    "seq_lng_col = 'Lon'\n",
    "\n",
    "busroute = gpd.read_file(os.path.join(os.getcwd(),'..', 'input','Shp','BusRoute.shp'))\n",
    "seq = seq = pd.read_csv(os.path.join(os.getcwd(),'..', 'input','seq.csv'))"
   ]
  },
  {
   "cell_type": "code",
   "execution_count": 18,
   "metadata": {},
   "outputs": [
    {
     "name": "stdout",
     "output_type": "stream",
     "text": [
      "可計算的路線共有: 379 條\n",
      "只有路線檔案的路線: []\n",
      "只有站序檔案的路線: []\n"
     ]
    }
   ],
   "source": [
    "# 只做同時有站序 & 路線檔案的\n",
    "routelist = list(set(list(busroute[route_routename_col])) & set(list(seq[seq_routename_col])))\n",
    "print(\"可計算的路線共有:\", len(routelist),'條')\n",
    "only_in_route = list(set(busroute[route_routename_col]) - set(seq[seq_routename_col]))\n",
    "print(\"只有路線檔案的路線:\", only_in_route)\n",
    "only_in_seq = list(set(seq[seq_routename_col]) - set(busroute[route_routename_col]))\n",
    "print(\"只有站序檔案的路線:\", only_in_seq)"
   ]
  },
  {
   "cell_type": "code",
   "execution_count": 19,
   "metadata": {},
   "outputs": [],
   "source": [
    "def split_line(line):\n",
    "    \"\"\"將長的 LineString 拆解為多個小段\"\"\"\n",
    "    coords = list(line.coords)\n",
    "    segments = []\n",
    "    for i in range(len(coords) - 1):\n",
    "        segment = LineString([coords[i], coords[i + 1]])\n",
    "        segments.append(segment)\n",
    "    return segments\n",
    "\n",
    "# 2. 找出最近的路線段的函數\n",
    "def find_nearest_segment(point, line_segments):\n",
    "    \"\"\"找出站點與所有路線段中距離最近的那條路線段\"\"\"\n",
    "    min_distance = float('inf')\n",
    "    nearest_segment = None\n",
    "    for segment in line_segments:\n",
    "        distance = point.distance(segment)\n",
    "        if distance < min_distance:\n",
    "            min_distance = distance\n",
    "            nearest_segment = segment\n",
    "    return nearest_segment\n",
    "\n",
    "# 3. 主函數：將路線與站點結合\n",
    "def get_busroute_segment(busroute_select, seq_select, seq_seq_col):\n",
    "    \"\"\"\n",
    "    這個函數會拆解公車路線，並將每個站點黏貼到最近的路線段上，\n",
    "    最後依據站點的自定義順序欄位排序並建立每段路線的 GeoDataFrame。\n",
    "\n",
    "    :param busroute_select: 包含公車路線的 GeoDataFrame\n",
    "    :param seq_select: 包含公車站點的 GeoDataFrame\n",
    "    :param seq_seq_col: 指定用於排序的站點順序欄位名稱\n",
    "    :return: 每段路線的 GeoDataFrame (gdf_segments)\n",
    "    \"\"\"\n",
    "    \n",
    "    # 1. 拆解 busroute_select 中的路線資料\n",
    "    busroute_select['geometry'] = busroute_select['geometry'].apply(\n",
    "        lambda x: split_line(x) if isinstance(x, LineString) else x\n",
    "    )\n",
    "    \n",
    "    # 2. 將站點與最近的路線段進行匹配\n",
    "    seq_select['nearest_segment'] = seq_select['geometry'].apply(\n",
    "        lambda point: find_nearest_segment(point, busroute_select['geometry'][0])\n",
    "    )\n",
    "    \n",
    "    # 3. 依據 seq_seq_col 排序站點\n",
    "    seq_select = seq_select.sort_values(by=seq_seq_col)\n",
    "    \n",
    "    # 4. 創建每段路線的 GeoDataFrame\n",
    "    segments = []\n",
    "    for i in range(len(seq_select) - 1):\n",
    "        start_stop = seq_select.iloc[i]\n",
    "        end_stop = seq_select.iloc[i + 1]\n",
    "        \n",
    "        # 連接兩個站點\n",
    "        segment = {\n",
    "            'StartSeq': start_stop[seq_seq_col],\n",
    "            'EndSeq': end_stop[seq_seq_col],\n",
    "            'geometry': LineString([start_stop['geometry'], end_stop['geometry']])\n",
    "        }\n",
    "        segments.append(segment)\n",
    "    \n",
    "    # 創建 GeoDataFrame 來儲存每段路線\n",
    "    gdf_segments = gpd.GeoDataFrame(segments, geometry='geometry', crs=\"EPSG:4326\")\n",
    "    gdf_segments = gdf_segments[gdf_segments['StartSeq'] < gdf_segments['EndSeq']].reset_index(drop = True)\n",
    "    gdf_segments = gdf_segments.sort_values(['StartSeq', 'EndSeq'])\n",
    "    gdf_segments['OD'] = gdf_segments['StartSeq'].astype(str) + \"-\" + gdf_segments['EndSeq'].astype(str)\n",
    "    return gdf_segments\n"
   ]
  },
  {
   "cell_type": "markdown",
   "metadata": {},
   "source": [
    "以下嘗試"
   ]
  },
  {
   "cell_type": "code",
   "execution_count": 20,
   "metadata": {},
   "outputs": [],
   "source": [
    "shp_outputfolder = os.path.join(os.getcwd(),'..', 'output','shp')\n",
    "os.makedirs(shp_outputfolder, exist_ok=True)"
   ]
  },
  {
   "cell_type": "code",
   "execution_count": 21,
   "metadata": {},
   "outputs": [
    {
     "name": "stdout",
     "output_type": "stream",
     "text": [
      "現在示範的路線編號為： 105B\n",
      "現在示範的方向為： 0\n"
     ]
    }
   ],
   "source": [
    "route = routelist[0]\n",
    "print(\"現在示範的路線編號為：\", route)\n",
    "\n",
    "directions = [0,1]\n",
    "direction = directions[0]\n",
    "print(\"現在示範的方向為：\", direction)"
   ]
  },
  {
   "cell_type": "code",
   "execution_count": null,
   "metadata": {},
   "outputs": [
    {
     "name": "stderr",
     "output_type": "stream",
     "text": [
      "C:\\Users\\kjchang\\AppData\\Local\\Temp\\ipykernel_26484\\2327857774.py:35: UserWarning: Geometry column does not contain geometry.\n",
      "  busroute_select['geometry'] = busroute_select['geometry'].apply(\n",
      "C:\\Users\\kjchang\\AppData\\Local\\Temp\\ipykernel_26484\\2327857774.py:35: UserWarning: Geometry column does not contain geometry.\n",
      "  busroute_select['geometry'] = busroute_select['geometry'].apply(\n",
      "C:\\Users\\kjchang\\AppData\\Local\\Temp\\ipykernel_26484\\2327857774.py:35: UserWarning: Geometry column does not contain geometry.\n",
      "  busroute_select['geometry'] = busroute_select['geometry'].apply(\n"
     ]
    },
    {
     "name": "stdout",
     "output_type": "stream",
     "text": [
      "Error processing route 227A, direction 1: Unknown column geometry\n"
     ]
    },
    {
     "name": "stderr",
     "output_type": "stream",
     "text": [
      "C:\\Users\\kjchang\\AppData\\Local\\Temp\\ipykernel_26484\\2327857774.py:35: UserWarning: Geometry column does not contain geometry.\n",
      "  busroute_select['geometry'] = busroute_select['geometry'].apply(\n",
      "C:\\Users\\kjchang\\AppData\\Local\\Temp\\ipykernel_26484\\2327857774.py:35: UserWarning: Geometry column does not contain geometry.\n",
      "  busroute_select['geometry'] = busroute_select['geometry'].apply(\n",
      "C:\\Users\\kjchang\\AppData\\Local\\Temp\\ipykernel_26484\\2327857774.py:35: UserWarning: Geometry column does not contain geometry.\n",
      "  busroute_select['geometry'] = busroute_select['geometry'].apply(\n",
      "C:\\Users\\kjchang\\AppData\\Local\\Temp\\ipykernel_26484\\2327857774.py:35: UserWarning: Geometry column does not contain geometry.\n",
      "  busroute_select['geometry'] = busroute_select['geometry'].apply(\n",
      "C:\\Users\\kjchang\\AppData\\Local\\Temp\\ipykernel_26484\\2327857774.py:35: UserWarning: Geometry column does not contain geometry.\n",
      "  busroute_select['geometry'] = busroute_select['geometry'].apply(\n"
     ]
    },
    {
     "name": "stdout",
     "output_type": "stream",
     "text": [
      "Error processing route L723, direction 1: Unknown column geometry\n"
     ]
    },
    {
     "name": "stderr",
     "output_type": "stream",
     "text": [
      "C:\\Users\\kjchang\\AppData\\Local\\Temp\\ipykernel_26484\\2327857774.py:35: UserWarning: Geometry column does not contain geometry.\n",
      "  busroute_select['geometry'] = busroute_select['geometry'].apply(\n",
      "C:\\Users\\kjchang\\AppData\\Local\\Temp\\ipykernel_26484\\2327857774.py:35: UserWarning: Geometry column does not contain geometry.\n",
      "  busroute_select['geometry'] = busroute_select['geometry'].apply(\n",
      "C:\\Users\\kjchang\\AppData\\Local\\Temp\\ipykernel_26484\\2327857774.py:35: UserWarning: Geometry column does not contain geometry.\n",
      "  busroute_select['geometry'] = busroute_select['geometry'].apply(\n",
      "C:\\Users\\kjchang\\AppData\\Local\\Temp\\ipykernel_26484\\2327857774.py:35: UserWarning: Geometry column does not contain geometry.\n",
      "  busroute_select['geometry'] = busroute_select['geometry'].apply(\n",
      "C:\\Users\\kjchang\\AppData\\Local\\Temp\\ipykernel_26484\\2327857774.py:35: UserWarning: Geometry column does not contain geometry.\n",
      "  busroute_select['geometry'] = busroute_select['geometry'].apply(\n",
      "C:\\Users\\kjchang\\AppData\\Local\\Temp\\ipykernel_26484\\2327857774.py:35: UserWarning: Geometry column does not contain geometry.\n",
      "  busroute_select['geometry'] = busroute_select['geometry'].apply(\n",
      "C:\\Users\\kjchang\\AppData\\Local\\Temp\\ipykernel_26484\\2327857774.py:35: UserWarning: Geometry column does not contain geometry.\n",
      "  busroute_select['geometry'] = busroute_select['geometry'].apply(\n"
     ]
    },
    {
     "name": "stdout",
     "output_type": "stream",
     "text": [
      "Error processing route 167, direction 1: Unknown column geometry\n"
     ]
    },
    {
     "name": "stderr",
     "output_type": "stream",
     "text": [
      "C:\\Users\\kjchang\\AppData\\Local\\Temp\\ipykernel_26484\\2327857774.py:35: UserWarning: Geometry column does not contain geometry.\n",
      "  busroute_select['geometry'] = busroute_select['geometry'].apply(\n",
      "C:\\Users\\kjchang\\AppData\\Local\\Temp\\ipykernel_26484\\2327857774.py:35: UserWarning: Geometry column does not contain geometry.\n",
      "  busroute_select['geometry'] = busroute_select['geometry'].apply(\n",
      "C:\\Users\\kjchang\\AppData\\Local\\Temp\\ipykernel_26484\\2327857774.py:35: UserWarning: Geometry column does not contain geometry.\n",
      "  busroute_select['geometry'] = busroute_select['geometry'].apply(\n",
      "C:\\Users\\kjchang\\AppData\\Local\\Temp\\ipykernel_26484\\2327857774.py:35: UserWarning: Geometry column does not contain geometry.\n",
      "  busroute_select['geometry'] = busroute_select['geometry'].apply(\n",
      "C:\\Users\\kjchang\\AppData\\Local\\Temp\\ipykernel_26484\\2327857774.py:35: UserWarning: Geometry column does not contain geometry.\n",
      "  busroute_select['geometry'] = busroute_select['geometry'].apply(\n",
      "C:\\Users\\kjchang\\AppData\\Local\\Temp\\ipykernel_26484\\2327857774.py:35: UserWarning: Geometry column does not contain geometry.\n",
      "  busroute_select['geometry'] = busroute_select['geometry'].apply(\n"
     ]
    },
    {
     "name": "stdout",
     "output_type": "stream",
     "text": [
      "Error processing route L115, direction 1: Unknown column geometry\n",
      "Error processing route 222, direction 1: Unknown column geometry\n"
     ]
    },
    {
     "name": "stderr",
     "output_type": "stream",
     "text": [
      "C:\\Users\\kjchang\\AppData\\Local\\Temp\\ipykernel_26484\\2327857774.py:35: UserWarning: Geometry column does not contain geometry.\n",
      "  busroute_select['geometry'] = busroute_select['geometry'].apply(\n",
      "C:\\Users\\kjchang\\AppData\\Local\\Temp\\ipykernel_26484\\2327857774.py:35: UserWarning: Geometry column does not contain geometry.\n",
      "  busroute_select['geometry'] = busroute_select['geometry'].apply(\n",
      "C:\\Users\\kjchang\\AppData\\Local\\Temp\\ipykernel_26484\\2327857774.py:35: UserWarning: Geometry column does not contain geometry.\n",
      "  busroute_select['geometry'] = busroute_select['geometry'].apply(\n",
      "C:\\Users\\kjchang\\AppData\\Local\\Temp\\ipykernel_26484\\2327857774.py:35: UserWarning: Geometry column does not contain geometry.\n",
      "  busroute_select['geometry'] = busroute_select['geometry'].apply(\n"
     ]
    },
    {
     "name": "stdout",
     "output_type": "stream",
     "text": [
      "Error processing route 112N, direction 1: Unknown column geometry\n",
      "Error processing route F901A, direction 0: 'MultiLineString' object is not iterable\n",
      "Error processing route F901A, direction 1: Unknown column geometry\n"
     ]
    },
    {
     "name": "stderr",
     "output_type": "stream",
     "text": [
      "C:\\Users\\kjchang\\AppData\\Local\\Temp\\ipykernel_26484\\2327857774.py:35: UserWarning: Geometry column does not contain geometry.\n",
      "  busroute_select['geometry'] = busroute_select['geometry'].apply(\n",
      "C:\\Users\\kjchang\\AppData\\Local\\Temp\\ipykernel_26484\\2327857774.py:35: UserWarning: Geometry column does not contain geometry.\n",
      "  busroute_select['geometry'] = busroute_select['geometry'].apply(\n",
      "C:\\Users\\kjchang\\AppData\\Local\\Temp\\ipykernel_26484\\2327857774.py:35: UserWarning: Geometry column does not contain geometry.\n",
      "  busroute_select['geometry'] = busroute_select['geometry'].apply(\n",
      "C:\\Users\\kjchang\\AppData\\Local\\Temp\\ipykernel_26484\\2327857774.py:35: UserWarning: Geometry column does not contain geometry.\n",
      "  busroute_select['geometry'] = busroute_select['geometry'].apply(\n",
      "C:\\Users\\kjchang\\AppData\\Local\\Temp\\ipykernel_26484\\2327857774.py:35: UserWarning: Geometry column does not contain geometry.\n",
      "  busroute_select['geometry'] = busroute_select['geometry'].apply(\n"
     ]
    },
    {
     "name": "stdout",
     "output_type": "stream",
     "text": [
      "Error processing route L309A, direction 1: Unknown column geometry\n"
     ]
    },
    {
     "name": "stderr",
     "output_type": "stream",
     "text": [
      "C:\\Users\\kjchang\\AppData\\Local\\Temp\\ipykernel_26484\\2327857774.py:35: UserWarning: Geometry column does not contain geometry.\n",
      "  busroute_select['geometry'] = busroute_select['geometry'].apply(\n",
      "C:\\Users\\kjchang\\AppData\\Local\\Temp\\ipykernel_26484\\2327857774.py:35: UserWarning: Geometry column does not contain geometry.\n",
      "  busroute_select['geometry'] = busroute_select['geometry'].apply(\n"
     ]
    },
    {
     "name": "stdout",
     "output_type": "stream",
     "text": [
      "Error processing route L302, direction 0: 'MultiLineString' object is not iterable\n",
      "Error processing route L302, direction 1: 'MultiLineString' object is not iterable\n",
      "Error processing route F907A, direction 1: Unknown column geometry\n"
     ]
    },
    {
     "name": "stderr",
     "output_type": "stream",
     "text": [
      "C:\\Users\\kjchang\\AppData\\Local\\Temp\\ipykernel_26484\\2327857774.py:35: UserWarning: Geometry column does not contain geometry.\n",
      "  busroute_select['geometry'] = busroute_select['geometry'].apply(\n",
      "C:\\Users\\kjchang\\AppData\\Local\\Temp\\ipykernel_26484\\2327857774.py:35: UserWarning: Geometry column does not contain geometry.\n",
      "  busroute_select['geometry'] = busroute_select['geometry'].apply(\n"
     ]
    },
    {
     "name": "stdout",
     "output_type": "stream",
     "text": [
      "Error processing route L329, direction 1: Unknown column geometry\n"
     ]
    },
    {
     "name": "stderr",
     "output_type": "stream",
     "text": [
      "C:\\Users\\kjchang\\AppData\\Local\\Temp\\ipykernel_26484\\2327857774.py:35: UserWarning: Geometry column does not contain geometry.\n",
      "  busroute_select['geometry'] = busroute_select['geometry'].apply(\n",
      "C:\\Users\\kjchang\\AppData\\Local\\Temp\\ipykernel_26484\\2327857774.py:35: UserWarning: Geometry column does not contain geometry.\n",
      "  busroute_select['geometry'] = busroute_select['geometry'].apply(\n"
     ]
    },
    {
     "name": "stdout",
     "output_type": "stream",
     "text": [
      "Error processing route 5008, direction 0: 'MultiLineString' object is not iterable\n"
     ]
    },
    {
     "name": "stderr",
     "output_type": "stream",
     "text": [
      "C:\\Users\\kjchang\\AppData\\Local\\Temp\\ipykernel_26484\\2327857774.py:35: UserWarning: Geometry column does not contain geometry.\n",
      "  busroute_select['geometry'] = busroute_select['geometry'].apply(\n",
      "C:\\Users\\kjchang\\AppData\\Local\\Temp\\ipykernel_26484\\2327857774.py:35: UserWarning: Geometry column does not contain geometry.\n",
      "  busroute_select['geometry'] = busroute_select['geometry'].apply(\n"
     ]
    },
    {
     "name": "stdout",
     "output_type": "stream",
     "text": [
      "Error processing route L311, direction 1: Unknown column geometry\n"
     ]
    },
    {
     "name": "stderr",
     "output_type": "stream",
     "text": [
      "C:\\Users\\kjchang\\AppData\\Local\\Temp\\ipykernel_26484\\2327857774.py:35: UserWarning: Geometry column does not contain geometry.\n",
      "  busroute_select['geometry'] = busroute_select['geometry'].apply(\n",
      "C:\\Users\\kjchang\\AppData\\Local\\Temp\\ipykernel_26484\\2327857774.py:35: UserWarning: Geometry column does not contain geometry.\n",
      "  busroute_select['geometry'] = busroute_select['geometry'].apply(\n",
      "C:\\Users\\kjchang\\AppData\\Local\\Temp\\ipykernel_26484\\2327857774.py:35: UserWarning: Geometry column does not contain geometry.\n",
      "  busroute_select['geometry'] = busroute_select['geometry'].apply(\n",
      "C:\\Users\\kjchang\\AppData\\Local\\Temp\\ipykernel_26484\\2327857774.py:35: UserWarning: Geometry column does not contain geometry.\n",
      "  busroute_select['geometry'] = busroute_select['geometry'].apply(\n",
      "C:\\Users\\kjchang\\AppData\\Local\\Temp\\ipykernel_26484\\2327857774.py:35: UserWarning: Geometry column does not contain geometry.\n",
      "  busroute_select['geometry'] = busroute_select['geometry'].apply(\n",
      "C:\\Users\\kjchang\\AppData\\Local\\Temp\\ipykernel_26484\\2327857774.py:35: UserWarning: Geometry column does not contain geometry.\n",
      "  busroute_select['geometry'] = busroute_select['geometry'].apply(\n",
      "C:\\Users\\kjchang\\AppData\\Local\\Temp\\ipykernel_26484\\2327857774.py:35: UserWarning: Geometry column does not contain geometry.\n",
      "  busroute_select['geometry'] = busroute_select['geometry'].apply(\n",
      "C:\\Users\\kjchang\\AppData\\Local\\Temp\\ipykernel_26484\\2327857774.py:35: UserWarning: Geometry column does not contain geometry.\n",
      "  busroute_select['geometry'] = busroute_select['geometry'].apply(\n",
      "C:\\Users\\kjchang\\AppData\\Local\\Temp\\ipykernel_26484\\2327857774.py:35: UserWarning: Geometry column does not contain geometry.\n",
      "  busroute_select['geometry'] = busroute_select['geometry'].apply(\n",
      "C:\\Users\\kjchang\\AppData\\Local\\Temp\\ipykernel_26484\\2327857774.py:35: UserWarning: Geometry column does not contain geometry.\n",
      "  busroute_select['geometry'] = busroute_select['geometry'].apply(\n",
      "C:\\Users\\kjchang\\AppData\\Local\\Temp\\ipykernel_26484\\2327857774.py:35: UserWarning: Geometry column does not contain geometry.\n",
      "  busroute_select['geometry'] = busroute_select['geometry'].apply(\n"
     ]
    },
    {
     "name": "stdout",
     "output_type": "stream",
     "text": [
      "Error processing route L117, direction 1: Unknown column geometry\n"
     ]
    },
    {
     "name": "stderr",
     "output_type": "stream",
     "text": [
      "C:\\Users\\kjchang\\AppData\\Local\\Temp\\ipykernel_26484\\2327857774.py:35: UserWarning: Geometry column does not contain geometry.\n",
      "  busroute_select['geometry'] = busroute_select['geometry'].apply(\n",
      "C:\\Users\\kjchang\\AppData\\Local\\Temp\\ipykernel_26484\\2327857774.py:35: UserWarning: Geometry column does not contain geometry.\n",
      "  busroute_select['geometry'] = busroute_select['geometry'].apply(\n",
      "C:\\Users\\kjchang\\AppData\\Local\\Temp\\ipykernel_26484\\2327857774.py:35: UserWarning: Geometry column does not contain geometry.\n",
      "  busroute_select['geometry'] = busroute_select['geometry'].apply(\n",
      "C:\\Users\\kjchang\\AppData\\Local\\Temp\\ipykernel_26484\\2327857774.py:35: UserWarning: Geometry column does not contain geometry.\n",
      "  busroute_select['geometry'] = busroute_select['geometry'].apply(\n"
     ]
    },
    {
     "name": "stdout",
     "output_type": "stream",
     "text": [
      "Error processing route 5069, direction 0: 'MultiLineString' object is not iterable\n"
     ]
    },
    {
     "name": "stderr",
     "output_type": "stream",
     "text": [
      "C:\\Users\\kjchang\\AppData\\Local\\Temp\\ipykernel_26484\\2327857774.py:35: UserWarning: Geometry column does not contain geometry.\n",
      "  busroute_select['geometry'] = busroute_select['geometry'].apply(\n",
      "C:\\Users\\kjchang\\AppData\\Local\\Temp\\ipykernel_26484\\2327857774.py:35: UserWarning: Geometry column does not contain geometry.\n",
      "  busroute_select['geometry'] = busroute_select['geometry'].apply(\n",
      "C:\\Users\\kjchang\\AppData\\Local\\Temp\\ipykernel_26484\\2327857774.py:35: UserWarning: Geometry column does not contain geometry.\n",
      "  busroute_select['geometry'] = busroute_select['geometry'].apply(\n",
      "C:\\Users\\kjchang\\AppData\\Local\\Temp\\ipykernel_26484\\2327857774.py:35: UserWarning: Geometry column does not contain geometry.\n",
      "  busroute_select['geometry'] = busroute_select['geometry'].apply(\n"
     ]
    },
    {
     "name": "stdout",
     "output_type": "stream",
     "text": [
      "Error processing route 231A, direction 1: Unknown column geometry\n",
      "Error processing route L331D, direction 1: Unknown column geometry\n",
      "Error processing route 5073A, direction 1: Unknown column geometry\n"
     ]
    },
    {
     "name": "stderr",
     "output_type": "stream",
     "text": [
      "C:\\Users\\kjchang\\AppData\\Local\\Temp\\ipykernel_26484\\2327857774.py:35: UserWarning: Geometry column does not contain geometry.\n",
      "  busroute_select['geometry'] = busroute_select['geometry'].apply(\n",
      "C:\\Users\\kjchang\\AppData\\Local\\Temp\\ipykernel_26484\\2327857774.py:35: UserWarning: Geometry column does not contain geometry.\n",
      "  busroute_select['geometry'] = busroute_select['geometry'].apply(\n",
      "C:\\Users\\kjchang\\AppData\\Local\\Temp\\ipykernel_26484\\2327857774.py:35: UserWarning: Geometry column does not contain geometry.\n",
      "  busroute_select['geometry'] = busroute_select['geometry'].apply(\n",
      "C:\\Users\\kjchang\\AppData\\Local\\Temp\\ipykernel_26484\\2327857774.py:35: UserWarning: Geometry column does not contain geometry.\n",
      "  busroute_select['geometry'] = busroute_select['geometry'].apply(\n",
      "C:\\Users\\kjchang\\AppData\\Local\\Temp\\ipykernel_26484\\2327857774.py:35: UserWarning: Geometry column does not contain geometry.\n",
      "  busroute_select['geometry'] = busroute_select['geometry'].apply(\n",
      "C:\\Users\\kjchang\\AppData\\Local\\Temp\\ipykernel_26484\\2327857774.py:35: UserWarning: Geometry column does not contain geometry.\n",
      "  busroute_select['geometry'] = busroute_select['geometry'].apply(\n"
     ]
    },
    {
     "name": "stdout",
     "output_type": "stream",
     "text": [
      "Error processing route L717, direction 1: Unknown column geometry\n",
      "Error processing route 167A, direction 1: Unknown column geometry\n"
     ]
    },
    {
     "name": "stderr",
     "output_type": "stream",
     "text": [
      "C:\\Users\\kjchang\\AppData\\Local\\Temp\\ipykernel_26484\\2327857774.py:35: UserWarning: Geometry column does not contain geometry.\n",
      "  busroute_select['geometry'] = busroute_select['geometry'].apply(\n",
      "C:\\Users\\kjchang\\AppData\\Local\\Temp\\ipykernel_26484\\2327857774.py:35: UserWarning: Geometry column does not contain geometry.\n",
      "  busroute_select['geometry'] = busroute_select['geometry'].apply(\n",
      "C:\\Users\\kjchang\\AppData\\Local\\Temp\\ipykernel_26484\\2327857774.py:35: UserWarning: Geometry column does not contain geometry.\n",
      "  busroute_select['geometry'] = busroute_select['geometry'].apply(\n",
      "C:\\Users\\kjchang\\AppData\\Local\\Temp\\ipykernel_26484\\2327857774.py:35: UserWarning: Geometry column does not contain geometry.\n",
      "  busroute_select['geometry'] = busroute_select['geometry'].apply(\n",
      "C:\\Users\\kjchang\\AppData\\Local\\Temp\\ipykernel_26484\\2327857774.py:35: UserWarning: Geometry column does not contain geometry.\n",
      "  busroute_select['geometry'] = busroute_select['geometry'].apply(\n",
      "C:\\Users\\kjchang\\AppData\\Local\\Temp\\ipykernel_26484\\2327857774.py:35: UserWarning: Geometry column does not contain geometry.\n",
      "  busroute_select['geometry'] = busroute_select['geometry'].apply(\n",
      "C:\\Users\\kjchang\\AppData\\Local\\Temp\\ipykernel_26484\\2327857774.py:35: UserWarning: Geometry column does not contain geometry.\n",
      "  busroute_select['geometry'] = busroute_select['geometry'].apply(\n",
      "C:\\Users\\kjchang\\AppData\\Local\\Temp\\ipykernel_26484\\2327857774.py:35: UserWarning: Geometry column does not contain geometry.\n",
      "  busroute_select['geometry'] = busroute_select['geometry'].apply(\n",
      "C:\\Users\\kjchang\\AppData\\Local\\Temp\\ipykernel_26484\\2327857774.py:35: UserWarning: Geometry column does not contain geometry.\n",
      "  busroute_select['geometry'] = busroute_select['geometry'].apply(\n"
     ]
    },
    {
     "name": "stdout",
     "output_type": "stream",
     "text": [
      "Error processing route L309B, direction 1: Unknown column geometry\n"
     ]
    },
    {
     "name": "stderr",
     "output_type": "stream",
     "text": [
      "C:\\Users\\kjchang\\AppData\\Local\\Temp\\ipykernel_26484\\2327857774.py:35: UserWarning: Geometry column does not contain geometry.\n",
      "  busroute_select['geometry'] = busroute_select['geometry'].apply(\n"
     ]
    },
    {
     "name": "stdout",
     "output_type": "stream",
     "text": [
      "Error processing route L215, direction 1: Unknown column geometry\n"
     ]
    },
    {
     "name": "stderr",
     "output_type": "stream",
     "text": [
      "C:\\Users\\kjchang\\AppData\\Local\\Temp\\ipykernel_26484\\2327857774.py:35: UserWarning: Geometry column does not contain geometry.\n",
      "  busroute_select['geometry'] = busroute_select['geometry'].apply(\n",
      "C:\\Users\\kjchang\\AppData\\Local\\Temp\\ipykernel_26484\\2327857774.py:35: UserWarning: Geometry column does not contain geometry.\n",
      "  busroute_select['geometry'] = busroute_select['geometry'].apply(\n",
      "C:\\Users\\kjchang\\AppData\\Local\\Temp\\ipykernel_26484\\2327857774.py:35: UserWarning: Geometry column does not contain geometry.\n",
      "  busroute_select['geometry'] = busroute_select['geometry'].apply(\n",
      "C:\\Users\\kjchang\\AppData\\Local\\Temp\\ipykernel_26484\\2327857774.py:35: UserWarning: Geometry column does not contain geometry.\n",
      "  busroute_select['geometry'] = busroute_select['geometry'].apply(\n",
      "C:\\Users\\kjchang\\AppData\\Local\\Temp\\ipykernel_26484\\2327857774.py:35: UserWarning: Geometry column does not contain geometry.\n",
      "  busroute_select['geometry'] = busroute_select['geometry'].apply(\n",
      "C:\\Users\\kjchang\\AppData\\Local\\Temp\\ipykernel_26484\\2327857774.py:35: UserWarning: Geometry column does not contain geometry.\n",
      "  busroute_select['geometry'] = busroute_select['geometry'].apply(\n",
      "C:\\Users\\kjchang\\AppData\\Local\\Temp\\ipykernel_26484\\2327857774.py:35: UserWarning: Geometry column does not contain geometry.\n",
      "  busroute_select['geometry'] = busroute_select['geometry'].apply(\n"
     ]
    },
    {
     "name": "stdout",
     "output_type": "stream",
     "text": [
      "Error processing route 176, direction 1: Unknown column geometry\n"
     ]
    },
    {
     "name": "stderr",
     "output_type": "stream",
     "text": [
      "C:\\Users\\kjchang\\AppData\\Local\\Temp\\ipykernel_26484\\2327857774.py:35: UserWarning: Geometry column does not contain geometry.\n",
      "  busroute_select['geometry'] = busroute_select['geometry'].apply(\n",
      "C:\\Users\\kjchang\\AppData\\Local\\Temp\\ipykernel_26484\\2327857774.py:35: UserWarning: Geometry column does not contain geometry.\n",
      "  busroute_select['geometry'] = busroute_select['geometry'].apply(\n",
      "C:\\Users\\kjchang\\AppData\\Local\\Temp\\ipykernel_26484\\2327857774.py:35: UserWarning: Geometry column does not contain geometry.\n",
      "  busroute_select['geometry'] = busroute_select['geometry'].apply(\n"
     ]
    },
    {
     "name": "stdout",
     "output_type": "stream",
     "text": [
      "Error processing route L716, direction 1: Unknown column geometry\n",
      "Error processing route 227, direction 1: Unknown column geometry\n"
     ]
    },
    {
     "name": "stderr",
     "output_type": "stream",
     "text": [
      "C:\\Users\\kjchang\\AppData\\Local\\Temp\\ipykernel_26484\\2327857774.py:35: UserWarning: Geometry column does not contain geometry.\n",
      "  busroute_select['geometry'] = busroute_select['geometry'].apply(\n",
      "C:\\Users\\kjchang\\AppData\\Local\\Temp\\ipykernel_26484\\2327857774.py:35: UserWarning: Geometry column does not contain geometry.\n",
      "  busroute_select['geometry'] = busroute_select['geometry'].apply(\n",
      "C:\\Users\\kjchang\\AppData\\Local\\Temp\\ipykernel_26484\\2327857774.py:35: UserWarning: Geometry column does not contain geometry.\n",
      "  busroute_select['geometry'] = busroute_select['geometry'].apply(\n",
      "C:\\Users\\kjchang\\AppData\\Local\\Temp\\ipykernel_26484\\2327857774.py:35: UserWarning: Geometry column does not contain geometry.\n",
      "  busroute_select['geometry'] = busroute_select['geometry'].apply(\n",
      "C:\\Users\\kjchang\\AppData\\Local\\Temp\\ipykernel_26484\\2327857774.py:35: UserWarning: Geometry column does not contain geometry.\n",
      "  busroute_select['geometry'] = busroute_select['geometry'].apply(\n",
      "C:\\Users\\kjchang\\AppData\\Local\\Temp\\ipykernel_26484\\2327857774.py:35: UserWarning: Geometry column does not contain geometry.\n",
      "  busroute_select['geometry'] = busroute_select['geometry'].apply(\n",
      "C:\\Users\\kjchang\\AppData\\Local\\Temp\\ipykernel_26484\\2327857774.py:35: UserWarning: Geometry column does not contain geometry.\n",
      "  busroute_select['geometry'] = busroute_select['geometry'].apply(\n",
      "C:\\Users\\kjchang\\AppData\\Local\\Temp\\ipykernel_26484\\2327857774.py:35: UserWarning: Geometry column does not contain geometry.\n",
      "  busroute_select['geometry'] = busroute_select['geometry'].apply(\n",
      "C:\\Users\\kjchang\\AppData\\Local\\Temp\\ipykernel_26484\\2327857774.py:35: UserWarning: Geometry column does not contain geometry.\n",
      "  busroute_select['geometry'] = busroute_select['geometry'].apply(\n",
      "C:\\Users\\kjchang\\AppData\\Local\\Temp\\ipykernel_26484\\2327857774.py:35: UserWarning: Geometry column does not contain geometry.\n",
      "  busroute_select['geometry'] = busroute_select['geometry'].apply(\n",
      "C:\\Users\\kjchang\\AppData\\Local\\Temp\\ipykernel_26484\\2327857774.py:35: UserWarning: Geometry column does not contain geometry.\n",
      "  busroute_select['geometry'] = busroute_select['geometry'].apply(\n",
      "C:\\Users\\kjchang\\AppData\\Local\\Temp\\ipykernel_26484\\2327857774.py:35: UserWarning: Geometry column does not contain geometry.\n",
      "  busroute_select['geometry'] = busroute_select['geometry'].apply(\n",
      "C:\\Users\\kjchang\\AppData\\Local\\Temp\\ipykernel_26484\\2327857774.py:35: UserWarning: Geometry column does not contain geometry.\n",
      "  busroute_select['geometry'] = busroute_select['geometry'].apply(\n"
     ]
    },
    {
     "name": "stdout",
     "output_type": "stream",
     "text": [
      "Error processing route L326, direction 1: Unknown column geometry\n"
     ]
    },
    {
     "name": "stderr",
     "output_type": "stream",
     "text": [
      "C:\\Users\\kjchang\\AppData\\Local\\Temp\\ipykernel_26484\\2327857774.py:35: UserWarning: Geometry column does not contain geometry.\n",
      "  busroute_select['geometry'] = busroute_select['geometry'].apply(\n",
      "C:\\Users\\kjchang\\AppData\\Local\\Temp\\ipykernel_26484\\2327857774.py:35: UserWarning: Geometry column does not contain geometry.\n",
      "  busroute_select['geometry'] = busroute_select['geometry'].apply(\n",
      "C:\\Users\\kjchang\\AppData\\Local\\Temp\\ipykernel_26484\\2327857774.py:35: UserWarning: Geometry column does not contain geometry.\n",
      "  busroute_select['geometry'] = busroute_select['geometry'].apply(\n",
      "C:\\Users\\kjchang\\AppData\\Local\\Temp\\ipykernel_26484\\2327857774.py:35: UserWarning: Geometry column does not contain geometry.\n",
      "  busroute_select['geometry'] = busroute_select['geometry'].apply(\n",
      "C:\\Users\\kjchang\\AppData\\Local\\Temp\\ipykernel_26484\\2327857774.py:35: UserWarning: Geometry column does not contain geometry.\n",
      "  busroute_select['geometry'] = busroute_select['geometry'].apply(\n"
     ]
    },
    {
     "name": "stdout",
     "output_type": "stream",
     "text": [
      "Error processing route L209, direction 1: Unknown column geometry\n"
     ]
    },
    {
     "name": "stderr",
     "output_type": "stream",
     "text": [
      "C:\\Users\\kjchang\\AppData\\Local\\Temp\\ipykernel_26484\\2327857774.py:35: UserWarning: Geometry column does not contain geometry.\n",
      "  busroute_select['geometry'] = busroute_select['geometry'].apply(\n",
      "C:\\Users\\kjchang\\AppData\\Local\\Temp\\ipykernel_26484\\2327857774.py:35: UserWarning: Geometry column does not contain geometry.\n",
      "  busroute_select['geometry'] = busroute_select['geometry'].apply(\n",
      "C:\\Users\\kjchang\\AppData\\Local\\Temp\\ipykernel_26484\\2327857774.py:35: UserWarning: Geometry column does not contain geometry.\n",
      "  busroute_select['geometry'] = busroute_select['geometry'].apply(\n",
      "C:\\Users\\kjchang\\AppData\\Local\\Temp\\ipykernel_26484\\2327857774.py:35: UserWarning: Geometry column does not contain geometry.\n",
      "  busroute_select['geometry'] = busroute_select['geometry'].apply(\n",
      "C:\\Users\\kjchang\\AppData\\Local\\Temp\\ipykernel_26484\\2327857774.py:35: UserWarning: Geometry column does not contain geometry.\n",
      "  busroute_select['geometry'] = busroute_select['geometry'].apply(\n",
      "C:\\Users\\kjchang\\AppData\\Local\\Temp\\ipykernel_26484\\2327857774.py:35: UserWarning: Geometry column does not contain geometry.\n",
      "  busroute_select['geometry'] = busroute_select['geometry'].apply(\n",
      "C:\\Users\\kjchang\\AppData\\Local\\Temp\\ipykernel_26484\\2327857774.py:35: UserWarning: Geometry column does not contain geometry.\n",
      "  busroute_select['geometry'] = busroute_select['geometry'].apply(\n",
      "C:\\Users\\kjchang\\AppData\\Local\\Temp\\ipykernel_26484\\2327857774.py:35: UserWarning: Geometry column does not contain geometry.\n",
      "  busroute_select['geometry'] = busroute_select['geometry'].apply(\n"
     ]
    },
    {
     "name": "stdout",
     "output_type": "stream",
     "text": [
      "Error processing route L118, direction 1: Unknown column geometry\n"
     ]
    },
    {
     "name": "stderr",
     "output_type": "stream",
     "text": [
      "C:\\Users\\kjchang\\AppData\\Local\\Temp\\ipykernel_26484\\2327857774.py:35: UserWarning: Geometry column does not contain geometry.\n",
      "  busroute_select['geometry'] = busroute_select['geometry'].apply(\n",
      "C:\\Users\\kjchang\\AppData\\Local\\Temp\\ipykernel_26484\\2327857774.py:35: UserWarning: Geometry column does not contain geometry.\n",
      "  busroute_select['geometry'] = busroute_select['geometry'].apply(\n",
      "C:\\Users\\kjchang\\AppData\\Local\\Temp\\ipykernel_26484\\2327857774.py:35: UserWarning: Geometry column does not contain geometry.\n",
      "  busroute_select['geometry'] = busroute_select['geometry'].apply(\n",
      "C:\\Users\\kjchang\\AppData\\Local\\Temp\\ipykernel_26484\\2327857774.py:35: UserWarning: Geometry column does not contain geometry.\n",
      "  busroute_select['geometry'] = busroute_select['geometry'].apply(\n",
      "C:\\Users\\kjchang\\AppData\\Local\\Temp\\ipykernel_26484\\2327857774.py:35: UserWarning: Geometry column does not contain geometry.\n",
      "  busroute_select['geometry'] = busroute_select['geometry'].apply(\n",
      "C:\\Users\\kjchang\\AppData\\Local\\Temp\\ipykernel_26484\\2327857774.py:35: UserWarning: Geometry column does not contain geometry.\n",
      "  busroute_select['geometry'] = busroute_select['geometry'].apply(\n",
      "C:\\Users\\kjchang\\AppData\\Local\\Temp\\ipykernel_26484\\2327857774.py:35: UserWarning: Geometry column does not contain geometry.\n",
      "  busroute_select['geometry'] = busroute_select['geometry'].apply(\n",
      "C:\\Users\\kjchang\\AppData\\Local\\Temp\\ipykernel_26484\\2327857774.py:35: UserWarning: Geometry column does not contain geometry.\n",
      "  busroute_select['geometry'] = busroute_select['geometry'].apply(\n",
      "C:\\Users\\kjchang\\AppData\\Local\\Temp\\ipykernel_26484\\2327857774.py:35: UserWarning: Geometry column does not contain geometry.\n",
      "  busroute_select['geometry'] = busroute_select['geometry'].apply(\n",
      "C:\\Users\\kjchang\\AppData\\Local\\Temp\\ipykernel_26484\\2327857774.py:35: UserWarning: Geometry column does not contain geometry.\n",
      "  busroute_select['geometry'] = busroute_select['geometry'].apply(\n",
      "C:\\Users\\kjchang\\AppData\\Local\\Temp\\ipykernel_26484\\2327857774.py:35: UserWarning: Geometry column does not contain geometry.\n",
      "  busroute_select['geometry'] = busroute_select['geometry'].apply(\n",
      "C:\\Users\\kjchang\\AppData\\Local\\Temp\\ipykernel_26484\\2327857774.py:35: UserWarning: Geometry column does not contain geometry.\n",
      "  busroute_select['geometry'] = busroute_select['geometry'].apply(\n"
     ]
    },
    {
     "name": "stdout",
     "output_type": "stream",
     "text": [
      "Error processing route 5040B, direction 1: Unknown column geometry\n",
      "Error processing route 225A, direction 1: Unknown column geometry\n"
     ]
    },
    {
     "name": "stderr",
     "output_type": "stream",
     "text": [
      "C:\\Users\\kjchang\\AppData\\Local\\Temp\\ipykernel_26484\\2327857774.py:35: UserWarning: Geometry column does not contain geometry.\n",
      "  busroute_select['geometry'] = busroute_select['geometry'].apply(\n",
      "C:\\Users\\kjchang\\AppData\\Local\\Temp\\ipykernel_26484\\2327857774.py:35: UserWarning: Geometry column does not contain geometry.\n",
      "  busroute_select['geometry'] = busroute_select['geometry'].apply(\n",
      "C:\\Users\\kjchang\\AppData\\Local\\Temp\\ipykernel_26484\\2327857774.py:35: UserWarning: Geometry column does not contain geometry.\n",
      "  busroute_select['geometry'] = busroute_select['geometry'].apply(\n",
      "C:\\Users\\kjchang\\AppData\\Local\\Temp\\ipykernel_26484\\2327857774.py:35: UserWarning: Geometry column does not contain geometry.\n",
      "  busroute_select['geometry'] = busroute_select['geometry'].apply(\n",
      "C:\\Users\\kjchang\\AppData\\Local\\Temp\\ipykernel_26484\\2327857774.py:35: UserWarning: Geometry column does not contain geometry.\n",
      "  busroute_select['geometry'] = busroute_select['geometry'].apply(\n",
      "C:\\Users\\kjchang\\AppData\\Local\\Temp\\ipykernel_26484\\2327857774.py:35: UserWarning: Geometry column does not contain geometry.\n",
      "  busroute_select['geometry'] = busroute_select['geometry'].apply(\n"
     ]
    },
    {
     "name": "stdout",
     "output_type": "stream",
     "text": [
      "Error processing route 236, direction 1: Unknown column geometry\n"
     ]
    },
    {
     "name": "stderr",
     "output_type": "stream",
     "text": [
      "C:\\Users\\kjchang\\AppData\\Local\\Temp\\ipykernel_26484\\2327857774.py:35: UserWarning: Geometry column does not contain geometry.\n",
      "  busroute_select['geometry'] = busroute_select['geometry'].apply(\n",
      "C:\\Users\\kjchang\\AppData\\Local\\Temp\\ipykernel_26484\\2327857774.py:35: UserWarning: Geometry column does not contain geometry.\n",
      "  busroute_select['geometry'] = busroute_select['geometry'].apply(\n",
      "C:\\Users\\kjchang\\AppData\\Local\\Temp\\ipykernel_26484\\2327857774.py:35: UserWarning: Geometry column does not contain geometry.\n",
      "  busroute_select['geometry'] = busroute_select['geometry'].apply(\n"
     ]
    },
    {
     "name": "stdout",
     "output_type": "stream",
     "text": [
      "Error processing route L110, direction 1: Unknown column geometry\n"
     ]
    },
    {
     "name": "stderr",
     "output_type": "stream",
     "text": [
      "C:\\Users\\kjchang\\AppData\\Local\\Temp\\ipykernel_26484\\2327857774.py:35: UserWarning: Geometry column does not contain geometry.\n",
      "  busroute_select['geometry'] = busroute_select['geometry'].apply(\n",
      "C:\\Users\\kjchang\\AppData\\Local\\Temp\\ipykernel_26484\\2327857774.py:35: UserWarning: Geometry column does not contain geometry.\n",
      "  busroute_select['geometry'] = busroute_select['geometry'].apply(\n",
      "C:\\Users\\kjchang\\AppData\\Local\\Temp\\ipykernel_26484\\2327857774.py:35: UserWarning: Geometry column does not contain geometry.\n",
      "  busroute_select['geometry'] = busroute_select['geometry'].apply(\n",
      "C:\\Users\\kjchang\\AppData\\Local\\Temp\\ipykernel_26484\\2327857774.py:35: UserWarning: Geometry column does not contain geometry.\n",
      "  busroute_select['geometry'] = busroute_select['geometry'].apply(\n",
      "C:\\Users\\kjchang\\AppData\\Local\\Temp\\ipykernel_26484\\2327857774.py:35: UserWarning: Geometry column does not contain geometry.\n",
      "  busroute_select['geometry'] = busroute_select['geometry'].apply(\n",
      "C:\\Users\\kjchang\\AppData\\Local\\Temp\\ipykernel_26484\\2327857774.py:35: UserWarning: Geometry column does not contain geometry.\n",
      "  busroute_select['geometry'] = busroute_select['geometry'].apply(\n",
      "C:\\Users\\kjchang\\AppData\\Local\\Temp\\ipykernel_26484\\2327857774.py:35: UserWarning: Geometry column does not contain geometry.\n",
      "  busroute_select['geometry'] = busroute_select['geometry'].apply(\n",
      "C:\\Users\\kjchang\\AppData\\Local\\Temp\\ipykernel_26484\\2327857774.py:35: UserWarning: Geometry column does not contain geometry.\n",
      "  busroute_select['geometry'] = busroute_select['geometry'].apply(\n",
      "C:\\Users\\kjchang\\AppData\\Local\\Temp\\ipykernel_26484\\2327857774.py:35: UserWarning: Geometry column does not contain geometry.\n",
      "  busroute_select['geometry'] = busroute_select['geometry'].apply(\n",
      "C:\\Users\\kjchang\\AppData\\Local\\Temp\\ipykernel_26484\\2327857774.py:35: UserWarning: Geometry column does not contain geometry.\n",
      "  busroute_select['geometry'] = busroute_select['geometry'].apply(\n",
      "C:\\Users\\kjchang\\AppData\\Local\\Temp\\ipykernel_26484\\2327857774.py:35: UserWarning: Geometry column does not contain geometry.\n",
      "  busroute_select['geometry'] = busroute_select['geometry'].apply(\n",
      "C:\\Users\\kjchang\\AppData\\Local\\Temp\\ipykernel_26484\\2327857774.py:35: UserWarning: Geometry column does not contain geometry.\n",
      "  busroute_select['geometry'] = busroute_select['geometry'].apply(\n",
      "C:\\Users\\kjchang\\AppData\\Local\\Temp\\ipykernel_26484\\2327857774.py:35: UserWarning: Geometry column does not contain geometry.\n",
      "  busroute_select['geometry'] = busroute_select['geometry'].apply(\n"
     ]
    },
    {
     "name": "stdout",
     "output_type": "stream",
     "text": [
      "Error processing route L120, direction 1: Unknown column geometry\n"
     ]
    },
    {
     "name": "stderr",
     "output_type": "stream",
     "text": [
      "C:\\Users\\kjchang\\AppData\\Local\\Temp\\ipykernel_26484\\2327857774.py:35: UserWarning: Geometry column does not contain geometry.\n",
      "  busroute_select['geometry'] = busroute_select['geometry'].apply(\n",
      "C:\\Users\\kjchang\\AppData\\Local\\Temp\\ipykernel_26484\\2327857774.py:35: UserWarning: Geometry column does not contain geometry.\n",
      "  busroute_select['geometry'] = busroute_select['geometry'].apply(\n",
      "C:\\Users\\kjchang\\AppData\\Local\\Temp\\ipykernel_26484\\2327857774.py:35: UserWarning: Geometry column does not contain geometry.\n",
      "  busroute_select['geometry'] = busroute_select['geometry'].apply(\n",
      "C:\\Users\\kjchang\\AppData\\Local\\Temp\\ipykernel_26484\\2327857774.py:35: UserWarning: Geometry column does not contain geometry.\n",
      "  busroute_select['geometry'] = busroute_select['geometry'].apply(\n"
     ]
    },
    {
     "name": "stdout",
     "output_type": "stream",
     "text": [
      "Error processing route 220, direction 1: Unknown column geometry\n",
      "Error processing route 221, direction 1: Unknown column geometry\n"
     ]
    },
    {
     "name": "stderr",
     "output_type": "stream",
     "text": [
      "C:\\Users\\kjchang\\AppData\\Local\\Temp\\ipykernel_26484\\2327857774.py:35: UserWarning: Geometry column does not contain geometry.\n",
      "  busroute_select['geometry'] = busroute_select['geometry'].apply(\n",
      "C:\\Users\\kjchang\\AppData\\Local\\Temp\\ipykernel_26484\\2327857774.py:35: UserWarning: Geometry column does not contain geometry.\n",
      "  busroute_select['geometry'] = busroute_select['geometry'].apply(\n",
      "C:\\Users\\kjchang\\AppData\\Local\\Temp\\ipykernel_26484\\2327857774.py:35: UserWarning: Geometry column does not contain geometry.\n",
      "  busroute_select['geometry'] = busroute_select['geometry'].apply(\n"
     ]
    },
    {
     "name": "stdout",
     "output_type": "stream",
     "text": [
      "Error processing route 115A, direction 1: Unknown column geometry\n"
     ]
    },
    {
     "name": "stderr",
     "output_type": "stream",
     "text": [
      "C:\\Users\\kjchang\\AppData\\Local\\Temp\\ipykernel_26484\\2327857774.py:35: UserWarning: Geometry column does not contain geometry.\n",
      "  busroute_select['geometry'] = busroute_select['geometry'].apply(\n",
      "C:\\Users\\kjchang\\AppData\\Local\\Temp\\ipykernel_26484\\2327857774.py:35: UserWarning: Geometry column does not contain geometry.\n",
      "  busroute_select['geometry'] = busroute_select['geometry'].apply(\n"
     ]
    }
   ],
   "source": [
    "all_segments = []\n",
    "\n",
    "for route in routelist:  # 限制為前 3 條路線進行測試\n",
    "    for direction in [0, 1]:  # 方向 0 和 1\n",
    "        try:\n",
    "            # 選取特定路線和方向的資料\n",
    "            busroute_select = busroute[\n",
    "                (busroute[route_routename_col] == route) & \n",
    "                (busroute[route_direction_col] == direction)\n",
    "            ][[route_routename_col, route_direction_col, 'geometry']].reset_index(drop=True)\n",
    "            \n",
    "            seq_select = seq[\n",
    "                (seq[seq_routename_col] == route) & \n",
    "                (seq[seq_direction_col] == direction)\n",
    "            ].sort_values(seq_seq_col).reset_index(drop=True)\n",
    "            \n",
    "            # 將站點轉換為點的 geometry 格式\n",
    "            seq_select['geometry'] = seq_select.apply(\n",
    "                lambda row: Point(row[seq_lng_col], row[seq_lat_col]), axis=1\n",
    "            )\n",
    "            \n",
    "            # 使用函數計算分段路線\n",
    "            gdf_segments = get_busroute_segment(busroute_select, seq_select, seq_seq_col=seq_seq_col)\n",
    "            \n",
    "            # 加入路線名稱與方向欄位\n",
    "            gdf_segments['RouteName'] = route\n",
    "            gdf_segments['Direction'] = direction\n",
    "            \n",
    "            # 將分段結果加入 all_segments 列表\n",
    "            all_segments.append(gdf_segments)\n",
    "        \n",
    "        except Exception as e:\n",
    "            print(f\"Error processing route {route}, direction {direction}: {e}\")\n",
    "\n",
    "# 將所有分段結果合併成一個 GeoDataFrame\n",
    "all_segments_gdf = gpd.GeoDataFrame(pd.concat(all_segments, ignore_index=True), crs=\"EPSG:4326\")\n",
    "all_segments_gdf.to_file(os.path.join(shp_outputfolder, 'segment_route.shp'))\n"
   ]
  },
  {
   "cell_type": "code",
   "execution_count": 25,
   "metadata": {},
   "outputs": [],
   "source": [
    "# busroute_select = busroute[ (busroute[route_routename_col] == route) & (busroute[route_direction_col] == direction)][[route_routename_col,route_direction_col,'geometry' ]].reset_index(drop = True)\n",
    "# seq_select = seq[ (seq[seq_routename_col] == route) & (seq[seq_direction_col] == direction) ].sort_values(seq_seq_col).reset_index(drop = True)\n",
    "# # 假設 seq_select 包含 Lat 和 Lon 欄位，創建一個 geometry 欄位\n",
    "# seq_select['geometry'] = seq_select.apply(lambda row: Point(row[seq_lng_col], row[seq_lat_col]), axis=1)"
   ]
  },
  {
   "cell_type": "code",
   "execution_count": 26,
   "metadata": {},
   "outputs": [],
   "source": [
    "# gdf_segments = get_busroute_segment(busroute_select, seq_select, seq_seq_col='Seq')\n",
    "# gdf_segments['RouteName'] = route\n"
   ]
  },
  {
   "cell_type": "code",
   "execution_count": 27,
   "metadata": {},
   "outputs": [],
   "source": [
    "# gdf_segments"
   ]
  },
  {
   "cell_type": "markdown",
   "metadata": {},
   "source": [
    "拆分"
   ]
  },
  {
   "cell_type": "code",
   "execution_count": 28,
   "metadata": {},
   "outputs": [],
   "source": [
    "# # 1. 拆解公車路線的函數\n",
    "\n",
    "# import geopandas as gpd\n",
    "# import pandas as pd\n",
    "# import os\n",
    "# from shapely.geometry import Point, LineString\n",
    "\n",
    "# def split_line(line):\n",
    "#     \"\"\"將長的 LineString 拆解為多個小段\"\"\"\n",
    "#     coords = list(line.coords)\n",
    "#     segments = []\n",
    "#     for i in range(len(coords) - 1):\n",
    "#         segment = LineString([coords[i], coords[i + 1]])\n",
    "#         segments.append(segment)\n",
    "#     return segments\n",
    "\n",
    "# # 2. 找出最近的路線段的函數\n",
    "# def find_nearest_segment(point, line_segments):\n",
    "#     \"\"\"找出站點與所有路線段中距離最近的那條路線段\"\"\"\n",
    "#     min_distance = float('inf')\n",
    "#     nearest_segment = None\n",
    "#     for segment in line_segments:\n",
    "#         distance = point.distance(segment)\n",
    "#         if distance < min_distance:\n",
    "#             min_distance = distance\n",
    "#             nearest_segment = segment\n",
    "#     return nearest_segment\n",
    "\n",
    "# # 3. 主函數：將路線與站點結合\n",
    "# def get_busroute_segment(busroute_select, seq_select, seq_seq_col):\n",
    "#     \"\"\"\n",
    "#     這個函數會拆解公車路線，並將每個站點黏貼到最近的路線段上，\n",
    "#     最後依據站點的自定義順序欄位排序並建立每段路線的 GeoDataFrame。\n",
    "\n",
    "#     :param busroute_select: 包含公車路線的 GeoDataFrame\n",
    "#     :param seq_select: 包含公車站點的 GeoDataFrame\n",
    "#     :param seq_seq_col: 指定用於排序的站點順序欄位名稱\n",
    "#     :return: 每段路線的 GeoDataFrame (gdf_segments)\n",
    "#     \"\"\"\n",
    "    \n",
    "#     # 1. 拆解 busroute_select 中的路線資料\n",
    "#     busroute_select['geometry'] = busroute_select['geometry'].apply(\n",
    "#         lambda x: split_line(x) if isinstance(x, LineString) else x\n",
    "#     )\n",
    "    \n",
    "#     # 2. 將站點與最近的路線段進行匹配\n",
    "#     seq_select['nearest_segment'] = seq_select['geometry'].apply(\n",
    "#         lambda point: find_nearest_segment(point, busroute_select['geometry'][0])\n",
    "#     )\n",
    "    \n",
    "#     # 3. 依據 seq_seq_col 排序站點\n",
    "#     seq_select = seq_select.sort_values(by=seq_seq_col)\n",
    "    \n",
    "#     # 4. 創建每段路線的 GeoDataFrame\n",
    "#     segments = []\n",
    "#     for i in range(len(seq_select) - 1):\n",
    "#         start_stop = seq_select.iloc[i]\n",
    "#         end_stop = seq_select.iloc[i + 1]\n",
    "        \n",
    "#         # 連接兩個站點\n",
    "#         segment = {\n",
    "#             'StartSeq': start_stop[seq_seq_col],\n",
    "#             'EndSeq': end_stop[seq_seq_col],\n",
    "#             'geometry': LineString([start_stop['geometry'], end_stop['geometry']])\n",
    "#         }\n",
    "#         segments.append(segment)\n",
    "    \n",
    "#     # 創建 GeoDataFrame 來儲存每段路線\n",
    "#     gdf_segments = gpd.GeoDataFrame(segments, geometry='geometry', crs=\"EPSG:4326\")\n",
    "#     gdf_segments = gdf_segments[gdf_segments['StartSeq'] < gdf_segments['EndSeq']].reset_index(drop = True)\n",
    "#     gdf_segments = gdf_segments.sort_values(['StartSeq', 'EndSeq'])\n",
    "#     gdf_segments['OD'] = gdf_segments['StartSeq'].astype(str) + \"-\" + gdf_segments['EndSeq'].astype(str)\n",
    "#     return gdf_segments\n"
   ]
  },
  {
   "cell_type": "code",
   "execution_count": 29,
   "metadata": {},
   "outputs": [],
   "source": [
    "# gdf_segments = get_busroute_segment(busroute_select, seq_select, seq_seq_col='Seq')\n"
   ]
  },
  {
   "cell_type": "code",
   "execution_count": 30,
   "metadata": {},
   "outputs": [],
   "source": [
    "# gdf_segments"
   ]
  },
  {
   "cell_type": "code",
   "execution_count": null,
   "metadata": {},
   "outputs": [],
   "source": []
  },
  {
   "cell_type": "code",
   "execution_count": null,
   "metadata": {},
   "outputs": [],
   "source": []
  },
  {
   "cell_type": "code",
   "execution_count": 31,
   "metadata": {},
   "outputs": [],
   "source": [
    "# import geopandas as gpd\n",
    "# from shapely.geometry import Point, LineString\n",
    "# import pandas as pd\n",
    "\n",
    "# # 1. 拆解公車路線的函數\n",
    "# def split_line(line):\n",
    "#     \"\"\"將長的 LineString 拆解為多個小段\"\"\"\n",
    "#     coords = list(line.coords)\n",
    "#     segments = []\n",
    "#     for i in range(len(coords) - 1):\n",
    "#         segment = LineString([coords[i], coords[i + 1]])\n",
    "#         segments.append(segment)\n",
    "#     return segments\n",
    "\n",
    "# # 2. 找出最近的路線段的函數\n",
    "# def find_nearest_segment(point, line_segments):\n",
    "#     \"\"\"找出站點與所有路線段中距離最近的那條路線段\"\"\"\n",
    "#     min_distance = float('inf')\n",
    "#     nearest_segment = None\n",
    "#     for segment in line_segments:\n",
    "#         distance = point.distance(segment)\n",
    "#         if distance < min_distance:\n",
    "#             min_distance = distance\n",
    "#             nearest_segment = segment\n",
    "#     return nearest_segment\n",
    "\n",
    "# # 3. 主函數：將路線與站點結合\n",
    "# def get_busroute_segment(busroute_select, seq_select):\n",
    "#     \"\"\"\n",
    "#     這個函數會拆解公車路線，並將每個站點黏貼到最近的路線段上，\n",
    "#     最後依據站點的 Seq 排序並建立每段路線的 GeoDataFrame。\n",
    "\n",
    "#     :param busroute_select: 包含公車路線的 GeoDataFrame\n",
    "#     :param seq_select: 包含公車站點的 GeoDataFrame\n",
    "#     :return: 每段路線的 GeoDataFrame (gdf_segments)\n",
    "#     \"\"\"\n",
    "    \n",
    "#     # 1. 拆解 busroute_select 中的路線資料\n",
    "#     busroute_select['geometry'] = busroute_select['geometry'].apply(\n",
    "#         lambda x: split_line(x) if isinstance(x, LineString) else x\n",
    "#     )\n",
    "    \n",
    "#     # 2. 將站點與最近的路線段進行匹配\n",
    "#     seq_select['nearest_segment'] = seq_select['geometry'].apply(\n",
    "#         lambda point: find_nearest_segment(point, busroute_select['geometry'][0])\n",
    "#     )\n",
    "    \n",
    "#     # 3. 依據 Seq 排序站點\n",
    "#     seq_select = seq_select.sort_values(by='Seq')\n",
    "    \n",
    "#     # 4. 創建每段路線的 GeoDataFrame\n",
    "#     segments = []\n",
    "#     for i in range(len(seq_select) - 1):\n",
    "#         start_stop = seq_select.iloc[i]\n",
    "#         end_stop = seq_select.iloc[i + 1]\n",
    "        \n",
    "#         # 連接兩個站點\n",
    "#         segment = {\n",
    "#             'StartSeq': start_stop['Seq'],\n",
    "#             'EndSeq': end_stop['Seq'],\n",
    "#             'geometry': LineString([start_stop['geometry'], end_stop['geometry']])\n",
    "#         }\n",
    "#         segments.append(segment)\n",
    "    \n",
    "#     # 創建 GeoDataFrame 來儲存每段路線\n",
    "#     gdf_segments = gpd.GeoDataFrame(segments, geometry='geometry', crs=\"EPSG:4326\")\n",
    "    \n",
    "#     return gdf_segments\n"
   ]
  },
  {
   "cell_type": "code",
   "execution_count": 32,
   "metadata": {},
   "outputs": [],
   "source": [
    "# import geopandas as gpd\n",
    "# from shapely.geometry import Point, LineString\n",
    "# import pandas as pd\n",
    "\n",
    "# # 假設 busroute_select 是你已經匯入的公車路線 GeoDataFrame\n",
    "# # 假設 seq_select 是你已經匯入的站點 GeoDataFrame\n",
    "\n",
    "# # 1. 拆解公車路線\n",
    "# def split_line(line):\n",
    "#     \"\"\"將長的 LineString 拆解為多個小段\"\"\"\n",
    "#     coords = list(line.coords)\n",
    "#     segments = []\n",
    "#     for i in range(len(coords) - 1):\n",
    "#         segment = LineString([coords[i], coords[i + 1]])\n",
    "#         segments.append(segment)\n",
    "#     return segments\n",
    "\n",
    "# # 拆解 busroute_select 中的路線資料\n",
    "# busroute_select['geometry'] = busroute_select['geometry'].apply(lambda x: split_line(x) if isinstance(x, LineString) else x)\n",
    "\n",
    "# # 2. 站點黏貼到最近的路線段\n",
    "# # 計算每個站點到每條路線段的距離並找出最近的路線段\n",
    "# def find_nearest_segment(point, line_segments):\n",
    "#     \"\"\"找出站點與所有路線段中距離最近的那條路線段\"\"\"\n",
    "#     min_distance = float('inf')\n",
    "#     nearest_segment = None\n",
    "#     for segment in line_segments:\n",
    "#         distance = point.distance(segment)\n",
    "#         if distance < min_distance:\n",
    "#             min_distance = distance\n",
    "#             nearest_segment = segment\n",
    "#     return nearest_segment\n",
    "\n",
    "# # 將站點與最近的路線段進行匹配\n",
    "# seq_select['nearest_segment'] = seq_select['geometry'].apply(lambda point: find_nearest_segment(point, busroute_select['geometry'][0]))\n",
    "\n",
    "# # 3. 依據 Seq 排序站點，並建立每段路線\n",
    "# seq_select = seq_select.sort_values(by='Seq')\n",
    "\n",
    "# # 創建每段路線的 GeoDataFrame\n",
    "# segments = []\n",
    "# for i in range(len(seq_select) - 1):\n",
    "#     start_stop = seq_select.iloc[i]\n",
    "#     end_stop = seq_select.iloc[i + 1]\n",
    "    \n",
    "#     # 連接兩個站點\n",
    "#     segment = {\n",
    "#         'StartSeq': start_stop['Seq'],\n",
    "#         'EndSeq': end_stop['Seq'],\n",
    "#         'geometry': LineString([start_stop['geometry'], end_stop['geometry']])\n",
    "#     }\n",
    "#     segments.append(segment)\n",
    "\n",
    "# # 創建 GeoDataFrame 來儲存每段路線\n",
    "# gdf_segments = gpd.GeoDataFrame(segments, geometry='geometry', crs=\"EPSG:4326\")\n",
    "\n"
   ]
  },
  {
   "cell_type": "code",
   "execution_count": 33,
   "metadata": {},
   "outputs": [],
   "source": [
    "# gdf_segments['OD'] = gdf_segments['StartSeq'].astype(str) + \"-\" + gdf_segments['EndSeq'].astype(str)"
   ]
  },
  {
   "cell_type": "code",
   "execution_count": 34,
   "metadata": {},
   "outputs": [],
   "source": [
    "\n",
    "# gdf_segments.to_file(os.path.join(shp_outputfolder, 'select_segment_route.shp'))\n",
    "# seq_select.to_csv(os.path.join(shp_outputfolder, 'select_seq.csv'))"
   ]
  },
  {
   "cell_type": "code",
   "execution_count": null,
   "metadata": {},
   "outputs": [],
   "source": []
  },
  {
   "cell_type": "code",
   "execution_count": 35,
   "metadata": {},
   "outputs": [],
   "source": [
    "# import folium\n",
    "# from folium import plugins\n",
    "\n",
    "# # 設定地圖的初始位置\n",
    "# map_center = [seq_select['Lat'].mean(), seq_select['Lon'].mean()]\n",
    "# m = folium.Map(location=map_center, zoom_start=15)\n",
    "\n",
    "# # 1. 添加站點的標記\n",
    "# for idx, row in seq_select.iterrows():\n",
    "#     folium.Marker(\n",
    "#         location=[row['Lat'], row['Lon']],\n",
    "#         popup=row['StopName'],\n",
    "#         icon=folium.Icon(color='red', icon='info-sign')\n",
    "#     ).add_to(m)\n",
    "\n",
    "# # 2. 添加路線段\n",
    "# for i in range(len(seq_select) - 1):\n",
    "#     start = seq_select.iloc[i]\n",
    "#     end = seq_select.iloc[i + 1]\n",
    "    \n",
    "#     # 連接兩個站點\n",
    "#     folium.PolyLine(\n",
    "#         locations=[[start['Lat'], start['Lon']], [end['Lat'], end['Lon']]],\n",
    "#         color='blue',\n",
    "#         weight=2.5,\n",
    "#         opacity=1\n",
    "#     ).add_to(m)\n",
    "\n",
    "# # 顯示地圖\n",
    "# m.save(\"bus_route_map.html\")\n"
   ]
  },
  {
   "cell_type": "code",
   "execution_count": null,
   "metadata": {},
   "outputs": [],
   "source": []
  }
 ],
 "metadata": {
  "kernelspec": {
   "display_name": "Python 3",
   "language": "python",
   "name": "python3"
  },
  "language_info": {
   "codemirror_mode": {
    "name": "ipython",
    "version": 3
   },
   "file_extension": ".py",
   "mimetype": "text/x-python",
   "name": "python",
   "nbconvert_exporter": "python",
   "pygments_lexer": "ipython3",
   "version": "3.11.9"
  }
 },
 "nbformat": 4,
 "nbformat_minor": 2
}
