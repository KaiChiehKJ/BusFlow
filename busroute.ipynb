{
 "cells": [
  {
   "cell_type": "code",
   "execution_count": 1,
   "metadata": {},
   "outputs": [],
   "source": [
    "import geopandas as gpd\n",
    "import pandas as pd\n",
    "import os\n",
    "\n",
    "# busroute.shp 的 欄位名稱\n",
    "route_routename_col = 'RouteNameZ'\n",
    "route_direction_col = 'Direction'\n",
    "\n",
    "# Seq \n",
    "seq_routename_col = 'RouteName'\n",
    "seq_direction_col = 'Direction'\n",
    "seq_lat_col = 'Lat'\n",
    "seq_lng_col = 'Lon'\n",
    "\n",
    "busroute = gpd.read_file(os.path.join(os.getcwd(),'..', 'input','Shp','BusRoute.shp'))\n",
    "seq = seq = pd.read_csv(os.path.join(os.getcwd(),'..', 'input','seq.csv'))"
   ]
  }
 ],
 "metadata": {
  "kernelspec": {
   "display_name": "Python 3",
   "language": "python",
   "name": "python3"
  },
  "language_info": {
   "codemirror_mode": {
    "name": "ipython",
    "version": 3
   },
   "file_extension": ".py",
   "mimetype": "text/x-python",
   "name": "python",
   "nbconvert_exporter": "python",
   "pygments_lexer": "ipython3",
   "version": "3.11.9"
  }
 },
 "nbformat": 4,
 "nbformat_minor": 2
}
