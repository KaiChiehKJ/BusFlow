{
 "cells": [
  {
   "cell_type": "code",
   "execution_count": 33,
   "metadata": {},
   "outputs": [],
   "source": [
    "import geopandas as gpd\n",
    "import pandas as pd\n",
    "import os\n",
    "\n",
    "# busroute.shp 的 欄位名稱(因每次資料來源提供的會有所不同)\n",
    "route_routename_col = 'RouteNameZ'\n",
    "route_direction_col = 'Direction'\n",
    "\n",
    "# Seq 的欄位名稱 (因每次資料來源提供的會有所不同)\n",
    "seq_routename_col = 'RouteName'\n",
    "seq_direction_col = 'Direction'\n",
    "seq_seq_col = 'Seq'\n",
    "seq_lat_col = 'Lat'\n",
    "seq_lng_col = 'Lon'\n",
    "\n",
    "busroute = gpd.read_file(os.path.join(os.getcwd(),'..', 'input','Shp','BusRoute.shp'))\n",
    "seq = seq = pd.read_csv(os.path.join(os.getcwd(),'..', 'input','seq.csv'))"
   ]
  },
  {
   "cell_type": "code",
   "execution_count": 34,
   "metadata": {},
   "outputs": [
    {
     "name": "stdout",
     "output_type": "stream",
     "text": [
      "可計算的路線共有: 379 條\n",
      "只有路線檔案的路線: []\n",
      "只有站序檔案的路線: []\n"
     ]
    }
   ],
   "source": [
    "# 只做同時有站序 & 路線檔案的\n",
    "routelist = list(set(list(busroute[route_routename_col])) & set(list(seq[seq_routename_col])))\n",
    "print(\"可計算的路線共有:\", len(routelist),'條')\n",
    "only_in_route = list(set(busroute[route_routename_col]) - set(seq[seq_routename_col]))\n",
    "print(\"只有路線檔案的路線:\", only_in_route)\n",
    "only_in_seq = list(set(seq[seq_routename_col]) - set(busroute[route_routename_col]))\n",
    "print(\"只有站序檔案的路線:\", only_in_seq)"
   ]
  },
  {
   "cell_type": "markdown",
   "metadata": {},
   "source": [
    "以下嘗試"
   ]
  },
  {
   "cell_type": "code",
   "execution_count": 43,
   "metadata": {},
   "outputs": [
    {
     "name": "stdout",
     "output_type": "stream",
     "text": [
      "現在示範的路線編號為： 5057\n",
      "現在示範的方向為： 0\n"
     ]
    }
   ],
   "source": [
    "route = routelist[0]\n",
    "print(\"現在示範的路線編號為：\", route)\n",
    "\n",
    "directions = [0,1]\n",
    "direction = directions[0]\n",
    "print(\"現在示範的方向為：\", direction)"
   ]
  },
  {
   "cell_type": "code",
   "execution_count": 50,
   "metadata": {},
   "outputs": [],
   "source": [
    "busroute_select = busroute[ (busroute[route_routename_col] == route) & (busroute[route_direction_col] == direction)][[route_routename_col,route_direction_col,'geometry' ]].reset_index(drop = True)\n",
    "seq_select = seq[ (seq[seq_routename_col] == route) & (seq[seq_direction_col] == direction) ].sort_values(seq_seq_col).reset_index(drop = True)"
   ]
  }
 ],
 "metadata": {
  "kernelspec": {
   "display_name": "Python 3",
   "language": "python",
   "name": "python3"
  },
  "language_info": {
   "codemirror_mode": {
    "name": "ipython",
    "version": 3
   },
   "file_extension": ".py",
   "mimetype": "text/x-python",
   "name": "python",
   "nbconvert_exporter": "python",
   "pygments_lexer": "ipython3",
   "version": "3.11.9"
  }
 },
 "nbformat": 4,
 "nbformat_minor": 2
}
