{
 "cells": [
  {
   "cell_type": "markdown",
   "metadata": {},
   "source": [
    "# 站間量分析"
   ]
  },
  {
   "cell_type": "markdown",
   "metadata": {},
   "source": [
    "需要準備資料：\n",
    "1. 票證資料：須包含所有佔位點的資料\n",
    "2. 站序資料：需帶有'Direction'欄位\n",
    "3. 班表資料：需帶有'Direction'、'IsWorkday'欄位\n",
    "4. 營運月報 (optional)：做票證放大率佐證用 "
   ]
  },
  {
   "cell_type": "markdown",
   "metadata": {},
   "source": [
    "## 基礎設定"
   ]
  },
  {
   "cell_type": "markdown",
   "metadata": {},
   "source": [
    "包含環境設定，以及指定對應資料夾路徑（input、process、output）"
   ]
  },
  {
   "cell_type": "code",
   "execution_count": 1,
   "metadata": {},
   "outputs": [],
   "source": [
    "import os\n",
    "import pandas as pd\n",
    "import plotly.graph_objects as go\n",
    "import ipywidgets as widgets\n",
    "from IPython.display import display\n",
    "from tickets_cleaning import tickets_cleaning, date_defined , getDaysCount, getMagnification"
   ]
  },
  {
   "cell_type": "code",
   "execution_count": 2,
   "metadata": {},
   "outputs": [],
   "source": [
    "inputfolder_path = os.path.join(os.getcwd(),'..', 'input')\n",
    "outputfolder_path = os.path.join(os.getcwd(),'..', 'output')\n",
    "processfolder_path = os.path.join(os.getcwd(),'..', 'process')\n",
    "\n",
    "# 確保資料夾存在\n",
    "os.makedirs(inputfolder_path, exist_ok=True)\n",
    "os.makedirs(outputfolder_path, exist_ok=True)\n",
    "os.makedirs(processfolder_path, exist_ok=True)\n"
   ]
  },
  {
   "cell_type": "code",
   "execution_count": 3,
   "metadata": {},
   "outputs": [],
   "source": [
    "date_turn_holiday=[20230929] # 補假、國定假日、颱風天\n",
    "date_turn_workday=[20230923] # 補班\n",
    "startdate = 20230701\n",
    "enddate = 20230930\n",
    "# 計算每月的假日與平日數\n",
    "dayscount = getDaysCount(startdate, enddate, date_turn_holiday, date_turn_workday)\n"
   ]
  },
  {
   "cell_type": "markdown",
   "metadata": {},
   "source": [
    "## 資料前處理"
   ]
  },
  {
   "cell_type": "markdown",
   "metadata": {},
   "source": [
    "1. 票證清洗(去除不可用資料)\n",
    "2. 票證定義日期欄位 (年月、平假日)\n",
    "3. 處理票證放大率"
   ]
  },
  {
   "cell_type": "code",
   "execution_count": 4,
   "metadata": {},
   "outputs": [
    {
     "name": "stderr",
     "output_type": "stream",
     "text": [
      "C:\\Users\\kjchang\\AppData\\Local\\Temp\\ipykernel_15356\\2479397280.py:8: DtypeWarning: Columns (7,8) have mixed types. Specify dtype option on import or set low_memory=False.\n",
      "  tickets = pd.read_csv(tickets_path)\n"
     ]
    }
   ],
   "source": [
    "'''進行基礎的票證清洗\n",
    "1. 找到上車時間 < 下車時間\n",
    "2. 上車站序 < 下車站序\n",
    "3. 上下車站名不同'''\n",
    "\n",
    "# 定義 tickets.csv 的相對路徑\n",
    "tickets_path = os.path.join(inputfolder_path , 'tickets.csv')\n",
    "tickets = pd.read_csv(tickets_path)\n",
    "\n",
    "# 讀取資料並進行清理\n",
    "tickets, errorstat, correctrate = tickets_cleaning(tickets, \n",
    "    getontime='GETON_DATE', \n",
    "    getofftime='GETOFF_DATE', \n",
    "    getonstop='GETON_STOP_NAME', \n",
    "    getoffstop='GETOFF_STOP_NAME', \n",
    "    getonseq='GETON_STOP_SEQ', \n",
    "    getoffseq='GETOFF_STOP_SEQ')\n",
    "\n",
    "# 把清洗過的資料轉存至process\n",
    "tickets.to_csv(os.path.join(processfolder_path , 'tickets_cleaned.csv'))\n",
    "# tickets.to_csv(os.path.join(os.path.dirname(__file__), '..', 'process', 'tickets_cleaned.csv'))\n",
    "\n",
    "# 輸出數據清洗統計\n",
    "errorstat_path = os.path.join(outputfolder_path , 'ErrorDataStat.txt')\n",
    "with open(errorstat_path , 'w', encoding='utf-8') as file:\n",
    "    for key, value in errorstat.items():\n",
    "        file.write(f\"{key}: {value}\\n\")\n",
    "# del errorstat\n",
    "tickets = date_defined(tickets, getontime_columns='GETON_DATE', date_turn_holiday=date_turn_holiday,\\\n",
    "                       date_turn_workday=date_turn_workday)\n",
    "\n",
    "# 針對這次的資料去做調整\n",
    "tickets = tickets.rename(columns = {'ROUTE_NAME':'RouteName'})\n"
   ]
  },
  {
   "cell_type": "code",
   "execution_count": 5,
   "metadata": {},
   "outputs": [],
   "source": [
    "'''處理票證資料放大率'''\n",
    "\n",
    "operation = pd.read_csv(os.path.join(inputfolder_path, 'operation.csv'))\n",
    "\n",
    "# 計算 DataYearMonth 並格式化\n",
    "operation['DataYearMonth'] = (\n",
    "    pd.to_datetime((operation['YEAR'] + 1911) * 100 + operation['MONTH'], format='%Y%m')\n",
    "    .dt.strftime('%Y%m')\n",
    ")\n",
    "\n",
    "tickets_magnification = getMagnification(\n",
    "    tickets=tickets,\n",
    "    tickets_routename_col='RouteName',\n",
    "    tickets_yearmonth_col='DataYearMonth',  # 指定票證數據的年月欄位\n",
    "    operation=operation,\n",
    "    operation_routename_col='ROUTE_NAME',\n",
    "    operation_yearmonth_col='DataYearMonth',  # 指定運營數據的年月欄位\n",
    "    operation_passengers_col='PASSENGERS'\n",
    ")\n",
    "\n",
    "# 列出所有放大率會有異常的路線\n",
    "ooc_route_list = list(set(tickets_magnification[tickets_magnification['Magnification'] >= 1.3]['RouteName'].unique()).union(\n",
    "    set(tickets_magnification[tickets_magnification['Magnification'] <= 0.8]['RouteName'].unique())\n",
    "))"
   ]
  },
  {
   "cell_type": "code",
   "execution_count": 36,
   "metadata": {},
   "outputs": [
    {
     "name": "stdout",
     "output_type": "stream",
     "text": [
      "缺票證資料: []\n",
      "缺班表資料: ['L210', 'L302A', 'L701', 'L701A', 'L115', 'L705', 'L319A', 'L728', 'L716', 'L306A', 'L206A', 'L209A', 'L723', 'L217', 'L603B', 'L507', 'L302B', 'L331D', 'L517', 'L721', 'L207A', 'L515', 'L209', 'L331C', 'L717', 'L110', 'L318', 'L325', 'L211', 'L513', 'L303A', 'L512', 'L502', 'L518', 'L117', 'L309A', 'L319', 'L722', 'L516A', 'L207', 'L326', 'L302', 'L309', 'L317', 'L712', 'L309B', 'L216', 'L118', 'L718', 'L706', 'L120', 'L111', 'L506', 'L727', 'L516B', 'L206', 'L113', 'L306B', 'L331A', 'L208', 'L602B', 'L311', 'L218', 'L310', 'L516', 'L112', 'L725', 'L215', 'L303', 'L329', 'L327', 'L121', 'L508', 'L119', 'L317A', 'L116']\n",
      "本次可算的路線: ['L603A', 'L603', 'L602A', 'L601', 'L602', 'L605', 'L605A', 'L617']\n"
     ]
    }
   ],
   "source": [
    "# 讀取班表資料\n",
    "shift = pd.read_excel(os.path.join(inputfolder_path, 'shift.xlsx'))\n",
    "shift.columns = ['RouteName', 'Direction', 'Shift', 'IsWorkday']\n",
    "shift['IsWorkday'] = shift['IsWorkday'].replace({'假日': '0', '平日': '1'})\n",
    "shift['Shift'] = shift['Shift'].astype(str)\n",
    "shift['Shift'] = pd.to_datetime(shift['Shift'], format='%H:%M').dt.time\n",
    "shift = shift.sort_values(['RouteName', 'IsWorkday','Shift', 'Direction'], ascending=[True, True, True, True])\n",
    "\n",
    "# 讀取相關的站序 \n",
    "seq = pd.read_csv(os.path.join(inputfolder_path,'seq.csv'))\n",
    "\n",
    "# 具有班表的RouteName_list\n",
    "shift_routename_list = list(shift['RouteName'].unique()) \n",
    "tickets_routename_list = list(tickets['RouteName'].unique())\n",
    "seq_routename_list = list(shift['RouteName'].unique())\n",
    "\n",
    "# 不在 tickets_routename_list 中但在 shift_routename_list 中的項目\n",
    "only_in_shift = list(set(shift_routename_list) - set(tickets_routename_list))\n",
    "# 不在 shift_routename_list 中但在 tickets_routename_list 中的項目\n",
    "only_in_tickets = list(set(tickets_routename_list) - set(shift_routename_list))\n",
    "common_routes = list(set(tickets_routename_list) & set(shift_routename_list) & set(seq_routename_list))\n",
    "\n",
    "\n",
    "\n",
    "\n",
    "\n",
    "# 印出結果\n",
    "print(\"缺票證資料:\", only_in_shift)\n",
    "print(\"缺班表資料:\", only_in_tickets)\n",
    "print(\"本次可算的路線:\", common_routes)\n",
    "\n"
   ]
  },
  {
   "cell_type": "markdown",
   "metadata": {},
   "source": [
    "### 基本判讀指標：是否繼續往下做"
   ]
  },
  {
   "cell_type": "markdown",
   "metadata": {},
   "source": [
    "1. 列出本次資料正常資料的佔比\n",
    "2. 列出本次放大率異常的路線 ( 可以進一步以plotly 圖表檢視長條圖)"
   ]
  },
  {
   "cell_type": "code",
   "execution_count": 37,
   "metadata": {},
   "outputs": [
    {
     "name": "stdout",
     "output_type": "stream",
     "text": [
      "資料可用比例 = 99.5% 本次的資料可以使用\n",
      "本次放大率異常路線共57條\n",
      "票證放大率異常的路線編號:['L603A', 'L210', 'L317A', 'L302A', 'L326', 'L302', 'L115', 'L309', 'L317', 'L309B', 'L319A', 'L216', 'L118', 'L718', 'L728', 'L716', 'L306A', 'L120', 'L206A', 'L209A', 'L723', 'L217', 'L603B', 'L506', 'L727', 'L302B', 'L331D', 'L517', 'L721', 'L207A', 'L602A', 'L206', 'L209', 'L331C', 'L113', 'L717', 'L306B', 'L331A', 'L208', 'L602B', 'L211', 'L218', 'L303A', 'L725', 'L112', 'L215', 'L303', 'L117', 'L309A', 'L327', 'L602', 'L121', 'L319', 'L119', 'L722', 'L116', 'L603']\n"
     ]
    }
   ],
   "source": [
    "print(f'資料可用比例 = {correctrate}%',end=' ')\n",
    "if correctrate <= 95:\n",
    "    print('本次取得的資料錯誤率太高，建議重新檢視')\n",
    "else : \n",
    "    print('本次的資料可以使用')\n",
    "\n",
    "try:\n",
    "    if len(ooc_route_list) > 0:\n",
    "        print(f'本次放大率異常路線共{len(ooc_route_list)}條')\n",
    "        print('票證放大率異常的路線編號', end= ':')\n",
    "        print(ooc_route_list)\n",
    "except:\n",
    "    pass"
   ]
  },
  {
   "cell_type": "code",
   "execution_count": null,
   "metadata": {},
   "outputs": [],
   "source": [
    "# unique_year_months = tickets_magnification[\"DataYearMonth\"].unique()\n",
    "# # 創建篩選器 (Dropdown)\n",
    "# dropdown = widgets.Dropdown(\n",
    "#     options=unique_year_months,\n",
    "#     value=unique_year_months[0],\n",
    "#     description=\"月份:\"\n",
    "# )\n",
    "\n",
    "# # 定義繪圖函數\n",
    "# def plot_barchart(selected_month):\n",
    "#     # 篩選 DataFrame\n",
    "#     filtered_df = tickets_magnification[tickets_magnification[\"DataYearMonth\"] == selected_month]\n",
    "    \n",
    "#     if filtered_df.empty:\n",
    "#         print(f\"No data available for {selected_month}\")\n",
    "#         return\n",
    "    \n",
    "#     # 創建條形圖\n",
    "#     fig = go.Figure()\n",
    "\n",
    "#     # 定義顯示在 hover 上的格式\n",
    "#     hover_text_tickets = [\n",
    "#     f\"RouteName: {row['RouteName']}<br>Magnification: {row['Magnification'] * 100:.2f}%<br>Tickets: {row['Tickets']:,}\"  # Magnification 顯示為百分比，Tickets 顯示為實際數字\n",
    "#     for _, row in filtered_df.iterrows()\n",
    "#     ]\n",
    "#     hover_text_passengers = [\n",
    "#     f\"RouteName: {row['RouteName']}<br>Magnification: {row['Magnification'] * 100:.2f}%<br>Passengers: {row['Passengers']:,}\"  # Magnification 顯示為百分比，Passengers 顯示為實際數字\n",
    "#     for _, row in filtered_df.iterrows()\n",
    "#     ]\n",
    "\n",
    "#     # 添加 Tickets 的長條圖\n",
    "#     fig.add_trace(go.Bar(\n",
    "#         x=filtered_df[\"RouteName\"],\n",
    "#         y=filtered_df[\"Tickets\"],\n",
    "#         name=\"Tickets\",\n",
    "#         marker_color=\"#84C1FF\",\n",
    "#         hovertext=hover_text_tickets,  # 顯示格式化過的 hovertext\n",
    "#         hoverinfo=\"text\"  # 只顯示 hovertext 的內容\n",
    "#     ))\n",
    "\n",
    "#     # 添加 Passengers 的長條圖\n",
    "#     fig.add_trace(go.Bar(\n",
    "#         x=filtered_df[\"RouteName\"],\n",
    "#         y=filtered_df[\"Passengers\"],  # 更新欄位名稱為 Passengers\n",
    "#         name=\"Passengers\",\n",
    "#         marker_color=\"#FF8000\",\n",
    "#         hovertext=hover_text_passengers,  # 顯示格式化過的 hovertext\n",
    "#         hoverinfo=\"text\"  # 只顯示 hovertext 的內容\n",
    "#     ))\n",
    "\n",
    "#     # 設定標題與軸標籤\n",
    "#     fig.update_layout(\n",
    "#         title=f\"Tickets and Passengers for {selected_month}\",\n",
    "#         xaxis_title=\"路線編號\",\n",
    "#         yaxis_title=\"人次\",\n",
    "#         barmode=\"group\",  # 並列顯示長條圖\n",
    "#         xaxis_tickangle=-90,\n",
    "#         template=\"plotly_white\"  # 使用白色背景的模板\n",
    "#     )\n",
    "\n",
    "#     # 顯示圖表\n",
    "#     fig.show()\n",
    "\n",
    "# # 綁定事件到篩選器\n",
    "# dropdown.observe(lambda change: plot_barchart(change.new), names=\"value\")\n",
    "\n",
    "# # 初始顯示\n",
    "# display(dropdown)\n",
    "# plot_barchart(dropdown.value)\n"
   ]
  },
  {
   "cell_type": "markdown",
   "metadata": {},
   "source": [
    "## 資料運算"
   ]
  },
  {
   "cell_type": "markdown",
   "metadata": {},
   "source": [
    "1. 把班表資料黏上"
   ]
  },
  {
   "cell_type": "code",
   "execution_count": 38,
   "metadata": {},
   "outputs": [
    {
     "name": "stdout",
     "output_type": "stream",
     "text": [
      "L603A\n"
     ]
    }
   ],
   "source": [
    "route = common_routes[0]\n",
    "print(route)"
   ]
  },
  {
   "cell_type": "code",
   "execution_count": null,
   "metadata": {},
   "outputs": [],
   "source": [
    "# 要開始用for 迴圈套入route 進行計算\n",
    "# route 以 common_routes 可以的進行 "
   ]
  },
  {
   "cell_type": "code",
   "execution_count": 39,
   "metadata": {},
   "outputs": [],
   "source": [
    "getontime_col = 'GETON_DATE'\n",
    "direction_col = 'DIRECTION'\n",
    "direction = 0\n",
    "\n",
    "# 先挑選特定路線\n",
    "tickets_select = tickets[tickets['RouteName'] == route].sort_values(getontime_col).reset_index(drop = True)\n",
    "\n",
    "# 根據這個路線 挑選他有提供的月份進行計算\n",
    "yearmonthlist = list(tickets['DataYearMonth'].unique())\n",
    "yearmonth = yearmonthlist[0]\n",
    "tickets_select_month = tickets_select[tickets_select['DataYearMonth'] == yearmonth].sort_values(getontime_col).reset_index(drop = True)\n",
    "\n",
    "# 一個一個方向進行計算\n",
    "tickets_select_month_direction = tickets_select_month[tickets_select_month[direction_col] == direction].sort_values(getontime_col).reset_index(drop = True)\n"
   ]
  },
  {
   "cell_type": "code",
   "execution_count": 46,
   "metadata": {},
   "outputs": [],
   "source": [
    "seq_select = seq[seq['RouteName'] == route].reset_index(drop = True)\n",
    "shift_select = shift[shift['RouteName'] == route].reset_index(drop = True)"
   ]
  }
 ],
 "metadata": {
  "kernelspec": {
   "display_name": "Python 3",
   "language": "python",
   "name": "python3"
  },
  "language_info": {
   "codemirror_mode": {
    "name": "ipython",
    "version": 3
   },
   "file_extension": ".py",
   "mimetype": "text/x-python",
   "name": "python",
   "nbconvert_exporter": "python",
   "pygments_lexer": "ipython3",
   "version": "3.11.9"
  }
 },
 "nbformat": 4,
 "nbformat_minor": 2
}
