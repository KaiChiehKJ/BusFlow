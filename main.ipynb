{
 "cells": [
  {
   "cell_type": "markdown",
   "metadata": {},
   "source": [
    "# 站間量分析"
   ]
  },
  {
   "cell_type": "markdown",
   "metadata": {},
   "source": [
    "需要準備資料：\n",
    "1. 票證資料：須包含所有佔位點的資料\n",
    "2. 站序資料：需帶有'Direction'欄位\n",
    "3. 班表資料：需帶有'Direction'、'IsWorkday'欄位\n",
    "4. 營運月報 (optional)：做票證放大率佐證用 "
   ]
  },
  {
   "cell_type": "markdown",
   "metadata": {},
   "source": [
    "## 基礎設定"
   ]
  },
  {
   "cell_type": "markdown",
   "metadata": {},
   "source": [
    "包含環境設定，以及指定對應資料夾路徑（input、process、output）"
   ]
  },
  {
   "cell_type": "code",
   "execution_count": 1,
   "metadata": {},
   "outputs": [],
   "source": [
    "import os\n",
    "import pandas as pd\n",
    "import plotly.graph_objects as go\n",
    "import ipywidgets as widgets\n",
    "from IPython.display import display\n",
    "from tickets_cleaning import tickets_cleaning, date_defined , getDaysCount, getMagnification, tickets_match_shift"
   ]
  },
  {
   "cell_type": "code",
   "execution_count": 2,
   "metadata": {},
   "outputs": [],
   "source": [
    "inputfolder_path = os.path.join(os.getcwd(),'..', 'input')\n",
    "outputfolder_path = os.path.join(os.getcwd(),'..', 'output')\n",
    "processfolder_path = os.path.join(os.getcwd(),'..', 'process')\n",
    "\n",
    "# 確保資料夾存在\n",
    "os.makedirs(inputfolder_path, exist_ok=True)\n",
    "os.makedirs(outputfolder_path, exist_ok=True)\n",
    "os.makedirs(processfolder_path, exist_ok=True)\n"
   ]
  },
  {
   "cell_type": "code",
   "execution_count": 3,
   "metadata": {},
   "outputs": [],
   "source": [
    "date_turn_holiday=[20230929] # 補假、國定假日、颱風天\n",
    "date_turn_workday=[20230923] # 補班\n",
    "startdate = 20230701\n",
    "enddate = 20230930\n",
    "# 計算每月的假日與平日數\n",
    "dayscount = getDaysCount(startdate, enddate, date_turn_holiday, date_turn_workday)\n"
   ]
  },
  {
   "cell_type": "code",
   "execution_count": 11,
   "metadata": {},
   "outputs": [],
   "source": [
    "# 定義票證資料的欄位名稱\n",
    "direction_col = 'DIRECTION'\n",
    "getontime_col ='GETON_DATE'\n",
    "getofftime_col ='GETOFF_DATE'\n",
    "getonstop_col ='GETON_STOP_NAME'\n",
    "getoffstop_col ='GETOFF_STOP_NAME'\n",
    "getonseq_col ='GETON_STOP_SEQ'\n",
    "getoffseq_col ='GETOFF_STOP_SEQ'"
   ]
  },
  {
   "cell_type": "markdown",
   "metadata": {},
   "source": [
    "## 資料前處理"
   ]
  },
  {
   "cell_type": "markdown",
   "metadata": {},
   "source": [
    "1. 票證清洗(去除不可用資料)\n",
    "2. 票證定義日期欄位 (年月、平假日)\n",
    "3. 處理票證放大率"
   ]
  },
  {
   "cell_type": "code",
   "execution_count": null,
   "metadata": {},
   "outputs": [],
   "source": [
    "'''進行基礎的票證清洗\n",
    "1. 找到上車時間 < 下車時間\n",
    "2. 上車站序 < 下車站序\n",
    "3. 上下車站名不同'''\n",
    "\n",
    "# 定義 tickets.csv 的相對路徑\n",
    "tickets_path = os.path.join(inputfolder_path , 'tickets.csv')\n",
    "tickets = pd.read_csv(tickets_path)\n",
    "\n",
    "# 讀取資料並進行清理\n",
    "tickets, errorstat, correctrate = tickets_cleaning(tickets, \n",
    "    getontime=getontime_col, \n",
    "    getofftime=getofftime_col, \n",
    "    getonstop=getonstop_col, \n",
    "    getoffstop=getoffstop_col, \n",
    "    getonseq=getonseq_col, \n",
    "    getoffseq=getoffseq_col)\n",
    "\n",
    "# 把清洗過的資料轉存至process\n",
    "tickets.to_csv(os.path.join(processfolder_path , 'tickets_cleaned.csv'))\n",
    "# tickets.to_csv(os.path.join(os.path.dirname(__file__), '..', 'process', 'tickets_cleaned.csv'))\n",
    "\n",
    "# 輸出數據清洗統計\n",
    "errorstat_path = os.path.join(outputfolder_path , 'ErrorDataStat.txt')\n",
    "with open(errorstat_path , 'w', encoding='utf-8') as file:\n",
    "    for key, value in errorstat.items():\n",
    "        file.write(f\"{key}: {value}\\n\")\n",
    "# del errorstat\n",
    "tickets = date_defined(tickets, getontime_columns=getontime_col, date_turn_holiday=date_turn_holiday,\\\n",
    "                       date_turn_workday=date_turn_workday)\n"
   ]
  },
  {
   "cell_type": "code",
   "execution_count": null,
   "metadata": {},
   "outputs": [],
   "source": [
    "# tickets = pd.read_csv(os.path.join(processfolder_path , 'tickets_cleaned.csv'))\n",
    "# tickets = tickets.rename(columns = {'RouteName':'ROUTE_NAME'})"
   ]
  },
  {
   "cell_type": "code",
   "execution_count": 6,
   "metadata": {},
   "outputs": [
    {
     "ename": "KeyError",
     "evalue": "'RouteName'",
     "output_type": "error",
     "traceback": [
      "\u001b[1;31m---------------------------------------------------------------------------\u001b[0m",
      "\u001b[1;31mKeyError\u001b[0m                                  Traceback (most recent call last)",
      "Cell \u001b[1;32mIn[6], line 11\u001b[0m\n\u001b[0;32m      5\u001b[0m \u001b[38;5;66;03m# 計算 DataYearMonth 並格式化\u001b[39;00m\n\u001b[0;32m      6\u001b[0m operation[\u001b[38;5;124m'\u001b[39m\u001b[38;5;124mDataYearMonth\u001b[39m\u001b[38;5;124m'\u001b[39m] \u001b[38;5;241m=\u001b[39m (\n\u001b[0;32m      7\u001b[0m     pd\u001b[38;5;241m.\u001b[39mto_datetime((operation[\u001b[38;5;124m'\u001b[39m\u001b[38;5;124mYEAR\u001b[39m\u001b[38;5;124m'\u001b[39m] \u001b[38;5;241m+\u001b[39m \u001b[38;5;241m1911\u001b[39m) \u001b[38;5;241m*\u001b[39m \u001b[38;5;241m100\u001b[39m \u001b[38;5;241m+\u001b[39m operation[\u001b[38;5;124m'\u001b[39m\u001b[38;5;124mMONTH\u001b[39m\u001b[38;5;124m'\u001b[39m], \u001b[38;5;28mformat\u001b[39m\u001b[38;5;241m=\u001b[39m\u001b[38;5;124m'\u001b[39m\u001b[38;5;124m%\u001b[39m\u001b[38;5;124mY\u001b[39m\u001b[38;5;124m%\u001b[39m\u001b[38;5;124mm\u001b[39m\u001b[38;5;124m'\u001b[39m)\n\u001b[0;32m      8\u001b[0m     \u001b[38;5;241m.\u001b[39mdt\u001b[38;5;241m.\u001b[39mstrftime(\u001b[38;5;124m'\u001b[39m\u001b[38;5;124m%\u001b[39m\u001b[38;5;124mY\u001b[39m\u001b[38;5;124m%\u001b[39m\u001b[38;5;124mm\u001b[39m\u001b[38;5;124m'\u001b[39m)\n\u001b[0;32m      9\u001b[0m )\n\u001b[1;32m---> 11\u001b[0m tickets_magnification \u001b[38;5;241m=\u001b[39m \u001b[43mgetMagnification\u001b[49m\u001b[43m(\u001b[49m\n\u001b[0;32m     12\u001b[0m \u001b[43m    \u001b[49m\u001b[43mtickets\u001b[49m\u001b[38;5;241;43m=\u001b[39;49m\u001b[43mtickets\u001b[49m\u001b[43m,\u001b[49m\n\u001b[0;32m     13\u001b[0m \u001b[43m    \u001b[49m\u001b[43mtickets_routename_col\u001b[49m\u001b[38;5;241;43m=\u001b[39;49m\u001b[38;5;124;43m'\u001b[39;49m\u001b[38;5;124;43mRouteName\u001b[39;49m\u001b[38;5;124;43m'\u001b[39;49m\u001b[43m,\u001b[49m\n\u001b[0;32m     14\u001b[0m \u001b[43m    \u001b[49m\u001b[43mtickets_yearmonth_col\u001b[49m\u001b[38;5;241;43m=\u001b[39;49m\u001b[38;5;124;43m'\u001b[39;49m\u001b[38;5;124;43mDataYearMonth\u001b[39;49m\u001b[38;5;124;43m'\u001b[39;49m\u001b[43m,\u001b[49m\u001b[43m  \u001b[49m\u001b[38;5;66;43;03m# 指定票證數據的年月欄位\u001b[39;49;00m\n\u001b[0;32m     15\u001b[0m \u001b[43m    \u001b[49m\u001b[43moperation\u001b[49m\u001b[38;5;241;43m=\u001b[39;49m\u001b[43moperation\u001b[49m\u001b[43m,\u001b[49m\n\u001b[0;32m     16\u001b[0m \u001b[43m    \u001b[49m\u001b[43moperation_routename_col\u001b[49m\u001b[38;5;241;43m=\u001b[39;49m\u001b[38;5;124;43m'\u001b[39;49m\u001b[38;5;124;43mROUTE_NAME\u001b[39;49m\u001b[38;5;124;43m'\u001b[39;49m\u001b[43m,\u001b[49m\n\u001b[0;32m     17\u001b[0m \u001b[43m    \u001b[49m\u001b[43moperation_yearmonth_col\u001b[49m\u001b[38;5;241;43m=\u001b[39;49m\u001b[38;5;124;43m'\u001b[39;49m\u001b[38;5;124;43mDataYearMonth\u001b[39;49m\u001b[38;5;124;43m'\u001b[39;49m\u001b[43m,\u001b[49m\u001b[43m  \u001b[49m\u001b[38;5;66;43;03m# 指定運營數據的年月欄位\u001b[39;49;00m\n\u001b[0;32m     18\u001b[0m \u001b[43m    \u001b[49m\u001b[43moperation_passengers_col\u001b[49m\u001b[38;5;241;43m=\u001b[39;49m\u001b[38;5;124;43m'\u001b[39;49m\u001b[38;5;124;43mPASSENGERS\u001b[39;49m\u001b[38;5;124;43m'\u001b[39;49m\n\u001b[0;32m     19\u001b[0m \u001b[43m)\u001b[49m\n\u001b[0;32m     21\u001b[0m \u001b[38;5;66;03m# 列出所有放大率會有異常的路線\u001b[39;00m\n\u001b[0;32m     22\u001b[0m ooc_route_list \u001b[38;5;241m=\u001b[39m \u001b[38;5;28mlist\u001b[39m(\u001b[38;5;28mset\u001b[39m(tickets_magnification[tickets_magnification[\u001b[38;5;124m'\u001b[39m\u001b[38;5;124mMagnification\u001b[39m\u001b[38;5;124m'\u001b[39m] \u001b[38;5;241m>\u001b[39m\u001b[38;5;241m=\u001b[39m \u001b[38;5;241m1.3\u001b[39m][\u001b[38;5;124m'\u001b[39m\u001b[38;5;124mRouteName\u001b[39m\u001b[38;5;124m'\u001b[39m]\u001b[38;5;241m.\u001b[39munique())\u001b[38;5;241m.\u001b[39munion(\n\u001b[0;32m     23\u001b[0m     \u001b[38;5;28mset\u001b[39m(tickets_magnification[tickets_magnification[\u001b[38;5;124m'\u001b[39m\u001b[38;5;124mMagnification\u001b[39m\u001b[38;5;124m'\u001b[39m] \u001b[38;5;241m<\u001b[39m\u001b[38;5;241m=\u001b[39m \u001b[38;5;241m0.8\u001b[39m][\u001b[38;5;124m'\u001b[39m\u001b[38;5;124mRouteName\u001b[39m\u001b[38;5;124m'\u001b[39m]\u001b[38;5;241m.\u001b[39munique())\n\u001b[0;32m     24\u001b[0m ))\n",
      "File \u001b[1;32mc:\\Users\\kjchang\\OneDrive - 鼎漢國際工程顧問股份有限公司\\KJGit\\Analysis\\Bus\\Tickets\\Bus-flow-between-stops\\BusFlow\\tickets_cleaning.py:176\u001b[0m, in \u001b[0;36mgetMagnification\u001b[1;34m(tickets, tickets_routename_col, tickets_yearmonth_col, operation, operation_routename_col, operation_yearmonth_col, operation_passengers_col)\u001b[0m\n\u001b[0;32m    173\u001b[0m \u001b[38;5;28;01mimport\u001b[39;00m \u001b[38;5;21;01mpandas\u001b[39;00m \u001b[38;5;28;01mas\u001b[39;00m \u001b[38;5;21;01mpd\u001b[39;00m \n\u001b[0;32m    174\u001b[0m \u001b[38;5;66;03m# 聚合票證數據\u001b[39;00m\n\u001b[0;32m    175\u001b[0m tickets_agg \u001b[38;5;241m=\u001b[39m (\n\u001b[1;32m--> 176\u001b[0m     \u001b[43mtickets\u001b[49m\u001b[38;5;241;43m.\u001b[39;49m\u001b[43mgroupby\u001b[49m\u001b[43m(\u001b[49m\u001b[43m[\u001b[49m\u001b[43mtickets_routename_col\u001b[49m\u001b[43m,\u001b[49m\u001b[43m \u001b[49m\u001b[43mtickets_yearmonth_col\u001b[49m\u001b[43m]\u001b[49m\u001b[43m)\u001b[49m\n\u001b[0;32m    177\u001b[0m     \u001b[38;5;241m.\u001b[39msize()\n\u001b[0;32m    178\u001b[0m     \u001b[38;5;241m.\u001b[39mreset_index(name\u001b[38;5;241m=\u001b[39m\u001b[38;5;124m'\u001b[39m\u001b[38;5;124mTickets\u001b[39m\u001b[38;5;124m'\u001b[39m)\n\u001b[0;32m    179\u001b[0m     \u001b[38;5;241m.\u001b[39mrename(columns\u001b[38;5;241m=\u001b[39m{tickets_routename_col: \u001b[38;5;124m'\u001b[39m\u001b[38;5;124mRouteName\u001b[39m\u001b[38;5;124m'\u001b[39m, tickets_yearmonth_col: \u001b[38;5;124m'\u001b[39m\u001b[38;5;124mDataYearMonth\u001b[39m\u001b[38;5;124m'\u001b[39m})\n\u001b[0;32m    180\u001b[0m )\n\u001b[0;32m    182\u001b[0m \u001b[38;5;66;03m# 聚合運營數據\u001b[39;00m\n\u001b[0;32m    183\u001b[0m operation_agg \u001b[38;5;241m=\u001b[39m (\n\u001b[0;32m    184\u001b[0m     operation\u001b[38;5;241m.\u001b[39mgroupby([operation_routename_col, operation_yearmonth_col])\n\u001b[0;32m    185\u001b[0m     \u001b[38;5;241m.\u001b[39magg({operation_passengers_col: \u001b[38;5;124m'\u001b[39m\u001b[38;5;124msum\u001b[39m\u001b[38;5;124m'\u001b[39m})\n\u001b[0;32m    186\u001b[0m     \u001b[38;5;241m.\u001b[39mreset_index()\n\u001b[0;32m    187\u001b[0m     \u001b[38;5;241m.\u001b[39mrename(columns\u001b[38;5;241m=\u001b[39m{operation_routename_col: \u001b[38;5;124m'\u001b[39m\u001b[38;5;124mRouteName\u001b[39m\u001b[38;5;124m'\u001b[39m, operation_yearmonth_col: \u001b[38;5;124m'\u001b[39m\u001b[38;5;124mDataYearMonth\u001b[39m\u001b[38;5;124m'\u001b[39m, operation_passengers_col: \u001b[38;5;124m'\u001b[39m\u001b[38;5;124mPassengers\u001b[39m\u001b[38;5;124m'\u001b[39m})\n\u001b[0;32m    188\u001b[0m )\n",
      "File \u001b[1;32m~\\AppData\\Local\\Packages\\PythonSoftwareFoundation.Python.3.11_qbz5n2kfra8p0\\LocalCache\\local-packages\\Python311\\site-packages\\pandas\\core\\frame.py:9183\u001b[0m, in \u001b[0;36mDataFrame.groupby\u001b[1;34m(self, by, axis, level, as_index, sort, group_keys, observed, dropna)\u001b[0m\n\u001b[0;32m   9180\u001b[0m \u001b[38;5;28;01mif\u001b[39;00m level \u001b[38;5;129;01mis\u001b[39;00m \u001b[38;5;28;01mNone\u001b[39;00m \u001b[38;5;129;01mand\u001b[39;00m by \u001b[38;5;129;01mis\u001b[39;00m \u001b[38;5;28;01mNone\u001b[39;00m:\n\u001b[0;32m   9181\u001b[0m     \u001b[38;5;28;01mraise\u001b[39;00m \u001b[38;5;167;01mTypeError\u001b[39;00m(\u001b[38;5;124m\"\u001b[39m\u001b[38;5;124mYou have to supply one of \u001b[39m\u001b[38;5;124m'\u001b[39m\u001b[38;5;124mby\u001b[39m\u001b[38;5;124m'\u001b[39m\u001b[38;5;124m and \u001b[39m\u001b[38;5;124m'\u001b[39m\u001b[38;5;124mlevel\u001b[39m\u001b[38;5;124m'\u001b[39m\u001b[38;5;124m\"\u001b[39m)\n\u001b[1;32m-> 9183\u001b[0m \u001b[38;5;28;01mreturn\u001b[39;00m \u001b[43mDataFrameGroupBy\u001b[49m\u001b[43m(\u001b[49m\n\u001b[0;32m   9184\u001b[0m \u001b[43m    \u001b[49m\u001b[43mobj\u001b[49m\u001b[38;5;241;43m=\u001b[39;49m\u001b[38;5;28;43mself\u001b[39;49m\u001b[43m,\u001b[49m\n\u001b[0;32m   9185\u001b[0m \u001b[43m    \u001b[49m\u001b[43mkeys\u001b[49m\u001b[38;5;241;43m=\u001b[39;49m\u001b[43mby\u001b[49m\u001b[43m,\u001b[49m\n\u001b[0;32m   9186\u001b[0m \u001b[43m    \u001b[49m\u001b[43maxis\u001b[49m\u001b[38;5;241;43m=\u001b[39;49m\u001b[43maxis\u001b[49m\u001b[43m,\u001b[49m\n\u001b[0;32m   9187\u001b[0m \u001b[43m    \u001b[49m\u001b[43mlevel\u001b[49m\u001b[38;5;241;43m=\u001b[39;49m\u001b[43mlevel\u001b[49m\u001b[43m,\u001b[49m\n\u001b[0;32m   9188\u001b[0m \u001b[43m    \u001b[49m\u001b[43mas_index\u001b[49m\u001b[38;5;241;43m=\u001b[39;49m\u001b[43mas_index\u001b[49m\u001b[43m,\u001b[49m\n\u001b[0;32m   9189\u001b[0m \u001b[43m    \u001b[49m\u001b[43msort\u001b[49m\u001b[38;5;241;43m=\u001b[39;49m\u001b[43msort\u001b[49m\u001b[43m,\u001b[49m\n\u001b[0;32m   9190\u001b[0m \u001b[43m    \u001b[49m\u001b[43mgroup_keys\u001b[49m\u001b[38;5;241;43m=\u001b[39;49m\u001b[43mgroup_keys\u001b[49m\u001b[43m,\u001b[49m\n\u001b[0;32m   9191\u001b[0m \u001b[43m    \u001b[49m\u001b[43mobserved\u001b[49m\u001b[38;5;241;43m=\u001b[39;49m\u001b[43mobserved\u001b[49m\u001b[43m,\u001b[49m\n\u001b[0;32m   9192\u001b[0m \u001b[43m    \u001b[49m\u001b[43mdropna\u001b[49m\u001b[38;5;241;43m=\u001b[39;49m\u001b[43mdropna\u001b[49m\u001b[43m,\u001b[49m\n\u001b[0;32m   9193\u001b[0m \u001b[43m\u001b[49m\u001b[43m)\u001b[49m\n",
      "File \u001b[1;32m~\\AppData\\Local\\Packages\\PythonSoftwareFoundation.Python.3.11_qbz5n2kfra8p0\\LocalCache\\local-packages\\Python311\\site-packages\\pandas\\core\\groupby\\groupby.py:1329\u001b[0m, in \u001b[0;36mGroupBy.__init__\u001b[1;34m(self, obj, keys, axis, level, grouper, exclusions, selection, as_index, sort, group_keys, observed, dropna)\u001b[0m\n\u001b[0;32m   1326\u001b[0m \u001b[38;5;28mself\u001b[39m\u001b[38;5;241m.\u001b[39mdropna \u001b[38;5;241m=\u001b[39m dropna\n\u001b[0;32m   1328\u001b[0m \u001b[38;5;28;01mif\u001b[39;00m grouper \u001b[38;5;129;01mis\u001b[39;00m \u001b[38;5;28;01mNone\u001b[39;00m:\n\u001b[1;32m-> 1329\u001b[0m     grouper, exclusions, obj \u001b[38;5;241m=\u001b[39m \u001b[43mget_grouper\u001b[49m\u001b[43m(\u001b[49m\n\u001b[0;32m   1330\u001b[0m \u001b[43m        \u001b[49m\u001b[43mobj\u001b[49m\u001b[43m,\u001b[49m\n\u001b[0;32m   1331\u001b[0m \u001b[43m        \u001b[49m\u001b[43mkeys\u001b[49m\u001b[43m,\u001b[49m\n\u001b[0;32m   1332\u001b[0m \u001b[43m        \u001b[49m\u001b[43maxis\u001b[49m\u001b[38;5;241;43m=\u001b[39;49m\u001b[43maxis\u001b[49m\u001b[43m,\u001b[49m\n\u001b[0;32m   1333\u001b[0m \u001b[43m        \u001b[49m\u001b[43mlevel\u001b[49m\u001b[38;5;241;43m=\u001b[39;49m\u001b[43mlevel\u001b[49m\u001b[43m,\u001b[49m\n\u001b[0;32m   1334\u001b[0m \u001b[43m        \u001b[49m\u001b[43msort\u001b[49m\u001b[38;5;241;43m=\u001b[39;49m\u001b[43msort\u001b[49m\u001b[43m,\u001b[49m\n\u001b[0;32m   1335\u001b[0m \u001b[43m        \u001b[49m\u001b[43mobserved\u001b[49m\u001b[38;5;241;43m=\u001b[39;49m\u001b[38;5;28;43;01mFalse\u001b[39;49;00m\u001b[43m \u001b[49m\u001b[38;5;28;43;01mif\u001b[39;49;00m\u001b[43m \u001b[49m\u001b[43mobserved\u001b[49m\u001b[43m \u001b[49m\u001b[38;5;129;43;01mis\u001b[39;49;00m\u001b[43m \u001b[49m\u001b[43mlib\u001b[49m\u001b[38;5;241;43m.\u001b[39;49m\u001b[43mno_default\u001b[49m\u001b[43m \u001b[49m\u001b[38;5;28;43;01melse\u001b[39;49;00m\u001b[43m \u001b[49m\u001b[43mobserved\u001b[49m\u001b[43m,\u001b[49m\n\u001b[0;32m   1336\u001b[0m \u001b[43m        \u001b[49m\u001b[43mdropna\u001b[49m\u001b[38;5;241;43m=\u001b[39;49m\u001b[38;5;28;43mself\u001b[39;49m\u001b[38;5;241;43m.\u001b[39;49m\u001b[43mdropna\u001b[49m\u001b[43m,\u001b[49m\n\u001b[0;32m   1337\u001b[0m \u001b[43m    \u001b[49m\u001b[43m)\u001b[49m\n\u001b[0;32m   1339\u001b[0m \u001b[38;5;28;01mif\u001b[39;00m observed \u001b[38;5;129;01mis\u001b[39;00m lib\u001b[38;5;241m.\u001b[39mno_default:\n\u001b[0;32m   1340\u001b[0m     \u001b[38;5;28;01mif\u001b[39;00m \u001b[38;5;28many\u001b[39m(ping\u001b[38;5;241m.\u001b[39m_passed_categorical \u001b[38;5;28;01mfor\u001b[39;00m ping \u001b[38;5;129;01min\u001b[39;00m grouper\u001b[38;5;241m.\u001b[39mgroupings):\n",
      "File \u001b[1;32m~\\AppData\\Local\\Packages\\PythonSoftwareFoundation.Python.3.11_qbz5n2kfra8p0\\LocalCache\\local-packages\\Python311\\site-packages\\pandas\\core\\groupby\\grouper.py:1043\u001b[0m, in \u001b[0;36mget_grouper\u001b[1;34m(obj, key, axis, level, sort, observed, validate, dropna)\u001b[0m\n\u001b[0;32m   1041\u001b[0m         in_axis, level, gpr \u001b[38;5;241m=\u001b[39m \u001b[38;5;28;01mFalse\u001b[39;00m, gpr, \u001b[38;5;28;01mNone\u001b[39;00m\n\u001b[0;32m   1042\u001b[0m     \u001b[38;5;28;01melse\u001b[39;00m:\n\u001b[1;32m-> 1043\u001b[0m         \u001b[38;5;28;01mraise\u001b[39;00m \u001b[38;5;167;01mKeyError\u001b[39;00m(gpr)\n\u001b[0;32m   1044\u001b[0m \u001b[38;5;28;01melif\u001b[39;00m \u001b[38;5;28misinstance\u001b[39m(gpr, Grouper) \u001b[38;5;129;01mand\u001b[39;00m gpr\u001b[38;5;241m.\u001b[39mkey \u001b[38;5;129;01mis\u001b[39;00m \u001b[38;5;129;01mnot\u001b[39;00m \u001b[38;5;28;01mNone\u001b[39;00m:\n\u001b[0;32m   1045\u001b[0m     \u001b[38;5;66;03m# Add key to exclusions\u001b[39;00m\n\u001b[0;32m   1046\u001b[0m     exclusions\u001b[38;5;241m.\u001b[39madd(gpr\u001b[38;5;241m.\u001b[39mkey)\n",
      "\u001b[1;31mKeyError\u001b[0m: 'RouteName'"
     ]
    }
   ],
   "source": [
    "'''處理票證資料放大率'''\n",
    "\n",
    "operation = pd.read_csv(os.path.join(inputfolder_path, 'operation.csv'))\n",
    "\n",
    "# 計算 DataYearMonth 並格式化\n",
    "operation['DataYearMonth'] = (\n",
    "    pd.to_datetime((operation['YEAR'] + 1911) * 100 + operation['MONTH'], format='%Y%m')\n",
    "    .dt.strftime('%Y%m')\n",
    ")\n",
    "\n",
    "tickets_magnification = getMagnification(\n",
    "    tickets=tickets,\n",
    "    tickets_routename_col='RouteName',\n",
    "    tickets_yearmonth_col='DataYearMonth',  # 指定票證數據的年月欄位\n",
    "    operation=operation,\n",
    "    operation_routename_col='ROUTE_NAME',\n",
    "    operation_yearmonth_col='DataYearMonth',  # 指定運營數據的年月欄位\n",
    "    operation_passengers_col='PASSENGERS'\n",
    ")\n",
    "\n",
    "# 列出所有放大率會有異常的路線\n",
    "ooc_route_list = list(set(tickets_magnification[tickets_magnification['Magnification'] >= 1.3]['RouteName'].unique()).union(\n",
    "    set(tickets_magnification[tickets_magnification['Magnification'] <= 0.8]['RouteName'].unique())\n",
    "))"
   ]
  },
  {
   "cell_type": "code",
   "execution_count": null,
   "metadata": {},
   "outputs": [],
   "source": [
    "# # 讀取班表資料\n",
    "# shift = pd.read_excel(os.path.join(inputfolder_path, 'shift.xlsx'))\n",
    "# shift.columns = ['RouteName', 'Direction', 'Shift', 'IsWorkday']\n",
    "# shift['IsWorkday'] = shift['IsWorkday'].replace({'假日': '0', '平日': '1'})\n",
    "# shift['Shift'] = shift['Shift'].astype(str)\n",
    "# shift['Shift'] = pd.to_datetime(shift['Shift'], format='%H:%M').dt.time\n",
    "# shift = shift.sort_values(['RouteName', 'IsWorkday','Shift', 'Direction'], ascending=[True, True, True, True])\n",
    "\n",
    "# 讀取班表資料\n",
    "shift = pd.read_csv(os.path.join(inputfolder_path, 'shift.csv'))\n",
    "shift['Shift'] = shift['Shift'].astype(str)\n",
    "shift['Shift'] = pd.to_datetime(shift['Shift'], format='%H:%M').dt.time\n",
    "shift = shift.sort_values(['RouteName', 'IsWorkday','Shift', 'Direction'], ascending=[True, True, True, True]).reset_index(drop = True)\n",
    "\n",
    "# 讀取相關的站序 \n",
    "seq = pd.read_csv(os.path.join(inputfolder_path,'seq.csv'))\n",
    "\n",
    "# 具有班表的RouteName_list\n",
    "shift_routename_list = list(shift['RouteName'].unique()) \n",
    "tickets_routename_list = list(tickets['RouteName'].unique())\n",
    "seq_routename_list = list(shift['RouteName'].unique())\n",
    "\n",
    "# 不在 tickets_routename_list 中但在 shift_routename_list 中的項目\n",
    "only_in_shift = list(set(shift_routename_list) - set(tickets_routename_list))\n",
    "# 不在 shift_routename_list 中但在 tickets_routename_list 中的項目\n",
    "only_in_tickets = list(set(tickets_routename_list) - set(shift_routename_list))\n",
    "common_routes = list(set(tickets_routename_list) & set(shift_routename_list) & set(seq_routename_list))\n",
    "\n",
    "# 印出結果\n",
    "print(\"缺票證資料:\", only_in_shift)\n",
    "print(\"缺班表資料:\", only_in_tickets)\n",
    "print(\"本次可算的路線:\", common_routes)"
   ]
  },
  {
   "cell_type": "markdown",
   "metadata": {},
   "source": [
    "### 基本判讀指標：是否繼續往下做"
   ]
  },
  {
   "cell_type": "markdown",
   "metadata": {},
   "source": [
    "1. 列出本次資料正常資料的佔比\n",
    "2. 列出本次放大率異常的路線 ( 可以進一步以plotly 圖表檢視長條圖)"
   ]
  },
  {
   "cell_type": "code",
   "execution_count": 7,
   "metadata": {},
   "outputs": [
    {
     "ename": "NameError",
     "evalue": "name 'correctrate' is not defined",
     "output_type": "error",
     "traceback": [
      "\u001b[1;31m---------------------------------------------------------------------------\u001b[0m",
      "\u001b[1;31mNameError\u001b[0m                                 Traceback (most recent call last)",
      "Cell \u001b[1;32mIn[7], line 1\u001b[0m\n\u001b[1;32m----> 1\u001b[0m \u001b[38;5;28mprint\u001b[39m(\u001b[38;5;124mf\u001b[39m\u001b[38;5;124m'\u001b[39m\u001b[38;5;124m資料可用比例 = \u001b[39m\u001b[38;5;132;01m{\u001b[39;00m\u001b[43mcorrectrate\u001b[49m\u001b[38;5;132;01m}\u001b[39;00m\u001b[38;5;124m%\u001b[39m\u001b[38;5;124m'\u001b[39m,end\u001b[38;5;241m=\u001b[39m\u001b[38;5;124m'\u001b[39m\u001b[38;5;124m \u001b[39m\u001b[38;5;124m'\u001b[39m)\n\u001b[0;32m      2\u001b[0m \u001b[38;5;28;01mif\u001b[39;00m correctrate \u001b[38;5;241m<\u001b[39m\u001b[38;5;241m=\u001b[39m \u001b[38;5;241m95\u001b[39m:\n\u001b[0;32m      3\u001b[0m     \u001b[38;5;28mprint\u001b[39m(\u001b[38;5;124m'\u001b[39m\u001b[38;5;124m本次取得的資料錯誤率太高，建議重新檢視\u001b[39m\u001b[38;5;124m'\u001b[39m)\n",
      "\u001b[1;31mNameError\u001b[0m: name 'correctrate' is not defined"
     ]
    }
   ],
   "source": [
    "print(f'資料可用比例 = {correctrate}%',end=' ')\n",
    "if correctrate <= 95:\n",
    "    print('本次取得的資料錯誤率太高，建議重新檢視')\n",
    "else : \n",
    "    print('本次的資料可以使用')\n",
    "\n",
    "try:\n",
    "    if len(ooc_route_list) > 0:\n",
    "        print(f'本次放大率異常路線共{len(ooc_route_list)}條')\n",
    "        print('票證放大率異常的路線編號', end= ':')\n",
    "        print(ooc_route_list)\n",
    "except:\n",
    "    pass"
   ]
  },
  {
   "cell_type": "code",
   "execution_count": 8,
   "metadata": {},
   "outputs": [],
   "source": [
    "# unique_year_months = tickets_magnification[\"DataYearMonth\"].unique()\n",
    "# # 創建篩選器 (Dropdown)\n",
    "# dropdown = widgets.Dropdown(\n",
    "#     options=unique_year_months,\n",
    "#     value=unique_year_months[0],\n",
    "#     description=\"月份:\"\n",
    "# )\n",
    "\n",
    "# # 定義繪圖函數\n",
    "# def plot_barchart(selected_month):\n",
    "#     # 篩選 DataFrame\n",
    "#     filtered_df = tickets_magnification[tickets_magnification[\"DataYearMonth\"] == selected_month]\n",
    "    \n",
    "#     if filtered_df.empty:\n",
    "#         print(f\"No data available for {selected_month}\")\n",
    "#         return\n",
    "    \n",
    "#     # 創建條形圖\n",
    "#     fig = go.Figure()\n",
    "\n",
    "#     # 定義顯示在 hover 上的格式\n",
    "#     hover_text_tickets = [\n",
    "#     f\"RouteName: {row['RouteName']}<br>Magnification: {row['Magnification'] * 100:.2f}%<br>Tickets: {row['Tickets']:,}\"  # Magnification 顯示為百分比，Tickets 顯示為實際數字\n",
    "#     for _, row in filtered_df.iterrows()\n",
    "#     ]\n",
    "#     hover_text_passengers = [\n",
    "#     f\"RouteName: {row['RouteName']}<br>Magnification: {row['Magnification'] * 100:.2f}%<br>Passengers: {row['Passengers']:,}\"  # Magnification 顯示為百分比，Passengers 顯示為實際數字\n",
    "#     for _, row in filtered_df.iterrows()\n",
    "#     ]\n",
    "\n",
    "#     # 添加 Tickets 的長條圖\n",
    "#     fig.add_trace(go.Bar(\n",
    "#         x=filtered_df[\"RouteName\"],\n",
    "#         y=filtered_df[\"Tickets\"],\n",
    "#         name=\"Tickets\",\n",
    "#         marker_color=\"#84C1FF\",\n",
    "#         hovertext=hover_text_tickets,  # 顯示格式化過的 hovertext\n",
    "#         hoverinfo=\"text\"  # 只顯示 hovertext 的內容\n",
    "#     ))\n",
    "\n",
    "#     # 添加 Passengers 的長條圖\n",
    "#     fig.add_trace(go.Bar(\n",
    "#         x=filtered_df[\"RouteName\"],\n",
    "#         y=filtered_df[\"Passengers\"],  # 更新欄位名稱為 Passengers\n",
    "#         name=\"Passengers\",\n",
    "#         marker_color=\"#FF8000\",\n",
    "#         hovertext=hover_text_passengers,  # 顯示格式化過的 hovertext\n",
    "#         hoverinfo=\"text\"  # 只顯示 hovertext 的內容\n",
    "#     ))\n",
    "\n",
    "#     # 設定標題與軸標籤\n",
    "#     fig.update_layout(\n",
    "#         title=f\"Tickets and Passengers for {selected_month}\",\n",
    "#         xaxis_title=\"路線編號\",\n",
    "#         yaxis_title=\"人次\",\n",
    "#         barmode=\"group\",  # 並列顯示長條圖\n",
    "#         xaxis_tickangle=-90,\n",
    "#         template=\"plotly_white\"  # 使用白色背景的模板\n",
    "#     )\n",
    "\n",
    "#     # 顯示圖表\n",
    "#     fig.show()\n",
    "\n",
    "# # 綁定事件到篩選器\n",
    "# dropdown.observe(lambda change: plot_barchart(change.new), names=\"value\")\n",
    "\n",
    "# # 初始顯示\n",
    "# display(dropdown)\n",
    "# plot_barchart(dropdown.value)\n"
   ]
  },
  {
   "cell_type": "markdown",
   "metadata": {},
   "source": [
    "## 資料運算"
   ]
  },
  {
   "cell_type": "markdown",
   "metadata": {},
   "source": [
    "1. 把班表資料黏上"
   ]
  },
  {
   "cell_type": "code",
   "execution_count": 9,
   "metadata": {},
   "outputs": [
    {
     "ename": "NameError",
     "evalue": "name 'common_routes' is not defined",
     "output_type": "error",
     "traceback": [
      "\u001b[1;31m---------------------------------------------------------------------------\u001b[0m",
      "\u001b[1;31mNameError\u001b[0m                                 Traceback (most recent call last)",
      "Cell \u001b[1;32mIn[9], line 1\u001b[0m\n\u001b[1;32m----> 1\u001b[0m route \u001b[38;5;241m=\u001b[39m \u001b[43mcommon_routes\u001b[49m[\u001b[38;5;241m1\u001b[39m]\n\u001b[0;32m      2\u001b[0m \u001b[38;5;28mprint\u001b[39m(route)\n",
      "\u001b[1;31mNameError\u001b[0m: name 'common_routes' is not defined"
     ]
    }
   ],
   "source": [
    "route = common_routes[1]\n",
    "print(route)"
   ]
  },
  {
   "cell_type": "code",
   "execution_count": null,
   "metadata": {},
   "outputs": [],
   "source": [
    "# 要開始用for 迴圈套入route 進行計算\n",
    "\n",
    "# route 以 common_routes 可以的進行 "
   ]
  },
  {
   "cell_type": "code",
   "execution_count": null,
   "metadata": {},
   "outputs": [],
   "source": [
    "\n",
    "\n",
    "seq_select = seq[seq['RouteName'] == route].reset_index(drop = True)\n",
    "shift_select = shift[shift['RouteName'] == route].reset_index(drop = True)\n",
    "\n",
    "# 先挑選特定路線\n",
    "tickets_select = tickets[tickets['RouteName'] == route].sort_values(getontime_col).reset_index(drop = True)\n",
    "\n",
    "# 根據這個路線 挑選他有提供的月份進行計算\n",
    "yearmonthlist = list(tickets['DataYearMonth'].unique())\n",
    "yearmonth = yearmonthlist[0]\n",
    "tickets_select_month = tickets_select[tickets_select['DataYearMonth'] == yearmonth].sort_values(getontime_col).reset_index(drop = True)\n",
    "tickets_select_month = tickets_select_month[tickets_select_month['DIRECTION'].isin(list(shift_select['Direction'].unique()))].sort_values(getontime_col).reset_index(drop = True)\n",
    "# tickets_select_month = tickets_select_month.rename(columns= {direction_col:'Direction'})"
   ]
  },
  {
   "cell_type": "markdown",
   "metadata": {},
   "source": [
    "以下嘗試"
   ]
  },
  {
   "cell_type": "code",
   "execution_count": null,
   "metadata": {},
   "outputs": [],
   "source": [
    "def tickets_match_shift(tickets, shifts, routename_col = \"ROUTE_NAME\" ,getontime_col='GETON_DATE', direction_col='DIRECTION'):\n",
    "    \"\"\"\n",
    "    將刷卡資料匹配到最接近的班次。\n",
    "\n",
    "    參數:\n",
    "        tickets (DataFrame): 包含刷卡資料的 DataFrame。\n",
    "        shifts (DataFrame): 包含班次資料的 DataFrame。\n",
    "        getontime_col (str): 表示刷卡時間的欄位名稱，默認為 'GETON_DATE'。\n",
    "        direction_col (str): 表示方向的欄位名稱，默認為 'DIRECTION'。\n",
    "\n",
    "    返回:\n",
    "        DataFrame: 加入 \"Matched_Shift\" 欄位的刷卡資料 DataFrame。\n",
    "    \"\"\"\n",
    "    import pandas as pd\n",
    "    # 轉換時間欄位格式\n",
    "    tickets[getontime_col] = pd.to_datetime(tickets[getontime_col])\n",
    "    shifts[\"Shift\"] = pd.to_datetime(shifts[\"Shift\"], format=\"%H:%M:%S\").dt.time\n",
    "\n",
    "    # 定義函數來匹配班次\n",
    "    def match_shift(row, available_shifts):\n",
    "        geton_time = row[getontime_col].time()\n",
    "        available_shifts = sorted(available_shifts)\n",
    "        for i in range(len(available_shifts)):\n",
    "            if geton_time < available_shifts[i]:  # 比最早的 Shift 早\n",
    "                return available_shifts[max(0, i - 1)]  # 返回上一個班次（或第一個班次）\n",
    "        return available_shifts[-1]  # 晚於所有班次，返回最後一個班次\n",
    "\n",
    "    # 匹配班次的主要邏輯\n",
    "    matched_shifts = []\n",
    "    for _, ticket in tickets.iterrows():\n",
    "        # 找到對應的班次\n",
    "        route_shifts = shifts[\n",
    "            (shifts[\"RouteName\"] == ticket[routename_col]) &\n",
    "            (shifts[\"IsWorkday\"] == ticket[\"IsWorkday\"]) &\n",
    "            (shifts[\"Direction\"] == ticket[direction_col])\n",
    "        ][\"Shift\"].tolist()\n",
    "\n",
    "        # 如果有班次，匹配\n",
    "        if route_shifts:\n",
    "            matched_shift = match_shift(ticket, route_shifts)\n",
    "            matched_shifts.append(matched_shift)\n",
    "        else:\n",
    "            matched_shifts.append(None)  # 如果沒有匹配的班次\n",
    "\n",
    "    # 新增匹配結果欄位\n",
    "    tickets[\"Matched_Shift\"] = matched_shifts\n",
    "    return tickets"
   ]
  },
  {
   "cell_type": "code",
   "execution_count": null,
   "metadata": {},
   "outputs": [],
   "source": [
    "tickets_select_month = tickets_match_shift(tickets_select_month.rename(columns={'RouteName':'ROUTE_NAME'}), shift_select)\n",
    "tickets_select_month"
   ]
  },
  {
   "cell_type": "code",
   "execution_count": null,
   "metadata": {},
   "outputs": [],
   "source": [
    "getontime_col = 'GETON_DATE'\n",
    "direction_col = 'DIRECTION'\n",
    "\n",
    "# 轉換時間欄位格式\n",
    "tickets_select_month[getontime_col] = pd.to_datetime(tickets_select_month[getontime_col])\n",
    "shift_select[\"Shift\"] = pd.to_datetime(shift_select[\"Shift\"], format=\"%H:%M:%S\").dt.time\n",
    "\n",
    "# 定義函數來匹配班次\n",
    "def match_shift(row, shifts):\n",
    "    geton_time = row[getontime_col].time()\n",
    "    shifts = sorted(shifts)\n",
    "    for i in range(len(shifts)):\n",
    "        if geton_time < shifts[i]:  # 比最早的 Shift 早\n",
    "            return shifts[max(0, i - 1)]  # 返回上一個班次（或第一個班次）\n",
    "    return shifts[-1]  # 晚於所有班次，返回最後一個班次\n",
    "\n",
    "# 匹配班次函數\n",
    "def assign_matched_shifts(tickets_df, shifts_df):\n",
    "    matched_shifts = []\n",
    "    for _, ticket in tickets_df.iterrows():\n",
    "        # 找到對應的班次\n",
    "        route_shifts = shifts_df[\n",
    "            (shifts_df[\"RouteName\"] == ticket[\"RouteName\"]) &\n",
    "            (shifts_df[\"IsWorkday\"] == ticket[\"IsWorkday\"]) &\n",
    "            (shifts_df[\"Direction\"] == ticket[direction_col])\n",
    "        ][\"Shift\"].tolist()\n",
    "\n",
    "        # 如果有班次，匹配\n",
    "        if route_shifts:\n",
    "            matched_shift = match_shift(ticket, route_shifts)\n",
    "            matched_shifts.append(matched_shift)\n",
    "        else:\n",
    "            matched_shifts.append(None)  # 如果沒有匹配的班次\n",
    "\n",
    "    # 新增匹配結果欄位\n",
    "    tickets_df[\"Matched_Shift\"] = matched_shifts\n",
    "    return tickets_df\n",
    "\n",
    "# 執行匹配\n",
    "tickets_select_month = assign_matched_shifts(tickets_select_month, shift_select)\n"
   ]
  },
  {
   "cell_type": "code",
   "execution_count": null,
   "metadata": {},
   "outputs": [],
   "source": [
    "shift_select"
   ]
  },
  {
   "cell_type": "code",
   "execution_count": null,
   "metadata": {},
   "outputs": [],
   "source": [
    "tickets_select_month[ (tickets_select_month['IsWorkday'] == 0) & (tickets_select_month[direction_col] == 1) ][['RouteName','GETON_DATE','IsWorkday',direction_col,'GETON_STOP_SEQ','GETON_STOP_NAME', 'GETOFF_STOP_SEQ','GETOFF_STOP_NAME','Matched_Shift']].head(30)"
   ]
  },
  {
   "cell_type": "code",
   "execution_count": null,
   "metadata": {},
   "outputs": [],
   "source": [
    "# getontime_col = 'GETON_DATE'\n",
    "# direction_col = 'DIRECTION'\n",
    "\n",
    "# # 轉換時間欄位格式\n",
    "# tickets_select_month[\"GETON_DATE\"] = pd.to_datetime(tickets_select_month[\"GETON_DATE\"])\n",
    "# shift_select[\"Shift\"] = pd.to_datetime(shift_select[\"Shift\"], format=\"%H:%M:%S\").dt.time\n",
    "\n",
    "# # 定義函數來匹配班次\n",
    "# def match_shift(row, shifts):\n",
    "#     geton_time = row[\"GETON_DATE\"].time()\n",
    "#     shifts = sorted(shifts)\n",
    "#     for i in range(len(shifts)):\n",
    "#         if geton_time < shifts[i]:  # 比最早的 Shift 早\n",
    "#             return shifts[max(0, i - 1)]  # 返回上一個班次（或第一個班次）\n",
    "#     return shifts[-1]  # 晚於所有班次，返回最後一個班次\n",
    "\n",
    "# # 開始比對\n",
    "# matched_shifts = []\n",
    "# for _, ticket in tickets_select_month.iterrows():\n",
    "#     # 找到對應的班次\n",
    "#     route_shifts = shift_select[\n",
    "#         (shift_select[\"RouteName\"] == ticket[\"RouteName\"]) &\n",
    "#         (shift_select[\"IsWorkday\"] == ticket[\"IsWorkday\"]) &\n",
    "#         (shift_select[\"Direction\"] == ticket[\"Direction\"])\n",
    "#     ][\"Shift\"].tolist()\n",
    "\n",
    "#     # 如果有班次，匹配\n",
    "#     if route_shifts:\n",
    "#         matched_shift = match_shift(ticket, route_shifts)\n",
    "#         matched_shifts.append(matched_shift)\n",
    "#     else:\n",
    "#         matched_shifts.append(None)  # 如果沒有匹配的班次\n",
    "\n",
    "# # 新增匹配結果欄位\n",
    "# tickets_select_month[\"Matched_Shift\"] = matched_shifts\n",
    "\n",
    "# # 輸出結果\n",
    "# print(tickets_select_month)\n"
   ]
  },
  {
   "cell_type": "code",
   "execution_count": null,
   "metadata": {},
   "outputs": [],
   "source": [
    "tickets_select_month[['RouteName','GETON_DATE','IsWorkday','Direction','GETON_STOP_SEQ','GETON_STOP_NAME', 'GETOFF_STOP_SEQ','GETOFF_STOP_NAME','Matched_Shift']]"
   ]
  },
  {
   "cell_type": "markdown",
   "metadata": {},
   "source": []
  },
  {
   "cell_type": "code",
   "execution_count": null,
   "metadata": {},
   "outputs": [],
   "source": [
    "tickets_select_month[tickets_select_month['DIRECTION'] == 0][['RouteName','GETON_DATE','IsWorkday','DIRECTION','GETON_STOP_SEQ','GETON_STOP_NAME', 'GETOFF_STOP_SEQ','GETOFF_STOP_NAME']]"
   ]
  },
  {
   "cell_type": "code",
   "execution_count": null,
   "metadata": {},
   "outputs": [],
   "source": [
    "tickets_select_month[['RouteName','GETON_DATE','IsWorkday','DIRECTION','GETON_STOP_SEQ', 'GETOFF_STOP_SEQ']]"
   ]
  },
  {
   "cell_type": "code",
   "execution_count": null,
   "metadata": {},
   "outputs": [],
   "source": [
    "tickets_select_month.info()"
   ]
  },
  {
   "cell_type": "code",
   "execution_count": null,
   "metadata": {},
   "outputs": [],
   "source": [
    "tickets"
   ]
  },
  {
   "cell_type": "code",
   "execution_count": null,
   "metadata": {},
   "outputs": [],
   "source": [
    "def find_bus_shift(swipe_time, is_weekend, schedule):\n",
    "    shifts = schedule['Shift'].tolist()\n",
    "    if swipe_time < shifts[0]:\n",
    "        return shifts[0]\n",
    "    for i in range(1, len(shifts)):\n",
    "        if shifts[i-1] <= swipe_time < shifts[i]:\n",
    "            return shifts[i-1]\n",
    "    return shifts[-1]\n",
    "\n",
    "# 刷卡找到對應班次\n",
    "results = []\n",
    "for i, row in df.iterrows():\n",
    "    swipe_time = row['上車時間']\n",
    "    is_weekend = row['平日假日'] == '假日'\n",
    "    filtered_schedule = sch[sch['WeekendorNot'] == ('假日' if is_weekend else '平日')]\n",
    "    shift = find_bus_shift(swipe_time, is_weekend, filtered_schedule)\n",
    "    results.append(shift)\n",
    "\n",
    "df['Shift'] = results"
   ]
  }
 ],
 "metadata": {
  "kernelspec": {
   "display_name": "Python 3",
   "language": "python",
   "name": "python3"
  },
  "language_info": {
   "codemirror_mode": {
    "name": "ipython",
    "version": 3
   },
   "file_extension": ".py",
   "mimetype": "text/x-python",
   "name": "python",
   "nbconvert_exporter": "python",
   "pygments_lexer": "ipython3",
   "version": "3.11.9"
  }
 },
 "nbformat": 4,
 "nbformat_minor": 2
}
