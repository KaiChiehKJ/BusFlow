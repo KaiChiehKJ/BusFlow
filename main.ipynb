{
 "cells": [
  {
   "cell_type": "markdown",
   "metadata": {},
   "source": [
    "# 站間量分析"
   ]
  },
  {
   "cell_type": "markdown",
   "metadata": {},
   "source": [
    "需要準備資料：\n",
    "1. 票證資料：須包含所有佔位點的資料\n",
    "2. 站序資料：需帶有'Direction'欄位\n",
    "3. 班表資料：需帶有'Direction'、'IsWorkday'欄位\n",
    "4. 營運月報 (optional)：做票證放大率佐證用 "
   ]
  },
  {
   "cell_type": "markdown",
   "metadata": {},
   "source": [
    "## 基礎設定"
   ]
  },
  {
   "cell_type": "markdown",
   "metadata": {},
   "source": [
    "包含環境設定，以及指定對應資料夾路徑（input、process、output）"
   ]
  },
  {
   "cell_type": "code",
   "execution_count": 1,
   "metadata": {},
   "outputs": [],
   "source": [
    "import os\n",
    "import pandas as pd\n",
    "import plotly.graph_objects as go\n",
    "import ipywidgets as widgets\n",
    "from IPython.display import display\n",
    "from tickets_cleaning import tickets_cleaning, date_defined , getDaysCount, getMagnification"
   ]
  },
  {
   "cell_type": "code",
   "execution_count": 2,
   "metadata": {},
   "outputs": [],
   "source": [
    "inputfolder_path = os.path.join(os.getcwd(),'..', 'input')\n",
    "outputfolder_path = os.path.join(os.getcwd(),'..', 'output')\n",
    "processfolder_path = os.path.join(os.getcwd(),'..', 'process')\n",
    "\n",
    "# 確保資料夾存在\n",
    "os.makedirs(inputfolder_path, exist_ok=True)\n",
    "os.makedirs(outputfolder_path, exist_ok=True)\n",
    "os.makedirs(processfolder_path, exist_ok=True)\n"
   ]
  },
  {
   "cell_type": "code",
   "execution_count": 3,
   "metadata": {},
   "outputs": [],
   "source": [
    "date_turn_holiday=[20230929] # 補假、國定假日、颱風天\n",
    "date_turn_workday=[20230923] # 補班\n",
    "startdate = 20230701\n",
    "enddate = 20230930\n",
    "# 計算每月的假日與平日數\n",
    "dayscount = getDaysCount(startdate, enddate, date_turn_holiday, date_turn_workday)\n"
   ]
  },
  {
   "cell_type": "markdown",
   "metadata": {},
   "source": [
    "## 資料前處理"
   ]
  },
  {
   "cell_type": "markdown",
   "metadata": {},
   "source": [
    "1. 票證清洗(去除不可用資料)\n",
    "2. 票證定義日期欄位 (年月、平假日)\n",
    "3. 處理票證放大率"
   ]
  },
  {
   "cell_type": "code",
   "execution_count": 4,
   "metadata": {},
   "outputs": [
    {
     "name": "stderr",
     "output_type": "stream",
     "text": [
      "C:\\Users\\kjchang\\AppData\\Local\\Temp\\ipykernel_28276\\2479397280.py:8: DtypeWarning: Columns (7,8) have mixed types. Specify dtype option on import or set low_memory=False.\n",
      "  tickets = pd.read_csv(tickets_path)\n"
     ]
    }
   ],
   "source": [
    "'''進行基礎的票證清洗\n",
    "1. 找到上車時間 < 下車時間\n",
    "2. 上車站序 < 下車站序\n",
    "3. 上下車站名不同'''\n",
    "\n",
    "# 定義 tickets.csv 的相對路徑\n",
    "tickets_path = os.path.join(inputfolder_path , 'tickets.csv')\n",
    "tickets = pd.read_csv(tickets_path)\n",
    "\n",
    "# 讀取資料並進行清理\n",
    "tickets, errorstat, correctrate = tickets_cleaning(tickets, \n",
    "    getontime='GETON_DATE', \n",
    "    getofftime='GETOFF_DATE', \n",
    "    getonstop='GETON_STOP_NAME', \n",
    "    getoffstop='GETOFF_STOP_NAME', \n",
    "    getonseq='GETON_STOP_SEQ', \n",
    "    getoffseq='GETOFF_STOP_SEQ')\n",
    "\n",
    "# 把清洗過的資料轉存至process\n",
    "tickets.to_csv(os.path.join(processfolder_path , 'tickets_cleaned.csv'))\n",
    "# tickets.to_csv(os.path.join(os.path.dirname(__file__), '..', 'process', 'tickets_cleaned.csv'))\n",
    "\n",
    "# 輸出數據清洗統計\n",
    "errorstat_path = os.path.join(outputfolder_path , 'ErrorDataStat.txt')\n",
    "with open(errorstat_path , 'w', encoding='utf-8') as file:\n",
    "    for key, value in errorstat.items():\n",
    "        file.write(f\"{key}: {value}\\n\")\n",
    "# del errorstat\n",
    "tickets = date_defined(tickets, getontime_columns='GETON_DATE', date_turn_holiday=date_turn_holiday,\\\n",
    "                       date_turn_workday=date_turn_workday)\n",
    "\n",
    "# 針對這次的資料去做調整\n",
    "tickets = tickets.rename(columns = {'ROUTE_NAME':'RouteName'})\n"
   ]
  },
  {
   "cell_type": "code",
   "execution_count": 5,
   "metadata": {},
   "outputs": [],
   "source": [
    "'''處理票證資料放大率'''\n",
    "\n",
    "operation = pd.read_csv(os.path.join(inputfolder_path, 'operation.csv'))\n",
    "\n",
    "# 計算 DataYearMonth 並格式化\n",
    "operation['DataYearMonth'] = (\n",
    "    pd.to_datetime((operation['YEAR'] + 1911) * 100 + operation['MONTH'], format='%Y%m')\n",
    "    .dt.strftime('%Y%m')\n",
    ")\n",
    "\n",
    "tickets_magnification = getMagnification(\n",
    "    tickets=tickets,\n",
    "    tickets_routename_col='RouteName',\n",
    "    tickets_yearmonth_col='DataYearMonth',  # 指定票證數據的年月欄位\n",
    "    operation=operation,\n",
    "    operation_routename_col='ROUTE_NAME',\n",
    "    operation_yearmonth_col='DataYearMonth',  # 指定運營數據的年月欄位\n",
    "    operation_passengers_col='PASSENGERS'\n",
    ")\n",
    "\n",
    "# 列出所有放大率會有異常的路線\n",
    "ooc_route_list = list(set(tickets_magnification[tickets_magnification['Magnification'] >= 1.3]['RouteName'].unique()).union(\n",
    "    set(tickets_magnification[tickets_magnification['Magnification'] <= 0.8]['RouteName'].unique())\n",
    "))"
   ]
  },
  {
   "cell_type": "markdown",
   "metadata": {},
   "source": [
    "### 基本判讀指標：是否繼續往下做"
   ]
  },
  {
   "cell_type": "markdown",
   "metadata": {},
   "source": [
    "1. 列出本次資料正常資料的佔比\n",
    "2. 列出本次放大率異常的路線 ( 可以進一步以plotly 圖表檢視長條圖)"
   ]
  },
  {
   "cell_type": "code",
   "execution_count": 9,
   "metadata": {},
   "outputs": [
    {
     "name": "stdout",
     "output_type": "stream",
     "text": [
      "資料可用比例 = 99.5% 本次的資料可以使用\n",
      "本次放大率異常路線共57條\n",
      "票證放大率異常的路線編號:['L602A', 'L302B', 'L309B', 'L206A', 'L112', 'L309', 'L303A', 'L216', 'L721', 'L317A', 'L208', 'L725', 'L327', 'L115', 'L331A', 'L302', 'L116', 'L121', 'L319A', 'L306B', 'L218', 'L210', 'L728', 'L326', 'L723', 'L118', 'L722', 'L603B', 'L303', 'L317', 'L602B', 'L727', 'L716', 'L309A', 'L319', 'L517', 'L117', 'L113', 'L302A', 'L506', 'L209', 'L331D', 'L603A', 'L603', 'L306A', 'L717', 'L119', 'L211', 'L209A', 'L331C', 'L602', 'L215', 'L206', 'L718', 'L217', 'L207A', 'L120']\n"
     ]
    }
   ],
   "source": [
    "print(f'資料可用比例 = {correctrate}%',end=' ')\n",
    "if correctrate <= 95:\n",
    "    print('本次取得的資料錯誤率太高，建議重新檢視')\n",
    "else : \n",
    "    print('本次的資料可以使用')\n",
    "\n",
    "try:\n",
    "    if len(ooc_route_list) > 0:\n",
    "        print(f'本次放大率異常路線共{len(ooc_route_list)}條')\n",
    "        print('票證放大率異常的路線編號', end= ':')\n",
    "        print(ooc_route_list)\n",
    "except:\n",
    "    pass"
   ]
  },
  {
   "cell_type": "code",
   "execution_count": 10,
   "metadata": {},
   "outputs": [
    {
     "data": {
      "application/vnd.jupyter.widget-view+json": {
       "model_id": "8dddf50832134554bdc0c0db74f05b90",
       "version_major": 2,
       "version_minor": 0
      },
      "text/plain": [
       "Dropdown(description='月份:', options=('202307', '202308', '202309'), value='202307')"
      ]
     },
     "metadata": {},
     "output_type": "display_data"
    },
    {
     "data": {
      "application/vnd.plotly.v1+json": {
       "config": {
        "plotlyServerURL": "https://plot.ly"
       },
       "data": [
        {
         "hoverinfo": "text",
         "hovertext": [
          "RouteName: L718<br>Magnification: 64100.00%<br>Tickets: 1",
          "RouteName: L112<br>Magnification: 2383.30%<br>Tickets: 1,236",
          "RouteName: L302<br>Magnification: 758.80%<br>Tickets: 495",
          "RouteName: L210<br>Magnification: 695.00%<br>Tickets: 202",
          "RouteName: L309<br>Magnification: 614.50%<br>Tickets: 380",
          "RouteName: L118<br>Magnification: 599.40%<br>Tickets: 166",
          "RouteName: L331A<br>Magnification: 540.00%<br>Tickets: 40",
          "RouteName: L306A<br>Magnification: 518.00%<br>Tickets: 388",
          "RouteName: L116<br>Magnification: 515.60%<br>Tickets: 147",
          "RouteName: L120<br>Magnification: 504.70%<br>Tickets: 191",
          "RouteName: L113<br>Magnification: 493.90%<br>Tickets: 164",
          "RouteName: L517<br>Magnification: 321.50%<br>Tickets: 307",
          "RouteName: L603<br>Magnification: 310.30%<br>Tickets: 156",
          "RouteName: L603A<br>Magnification: 268.90%<br>Tickets: 411",
          "RouteName: L602<br>Magnification: 268.10%<br>Tickets: 348",
          "RouteName: L217<br>Magnification: 243.20%<br>Tickets: 192",
          "RouteName: L603B<br>Magnification: 240.70%<br>Tickets: 59",
          "RouteName: L303<br>Magnification: 212.90%<br>Tickets: 1,116",
          "RouteName: L218<br>Magnification: 210.90%<br>Tickets: 192",
          "RouteName: L319<br>Magnification: 195.00%<br>Tickets: 1,018",
          "RouteName: L317<br>Magnification: 193.40%<br>Tickets: 907",
          "RouteName: L216<br>Magnification: 191.20%<br>Tickets: 571",
          "RouteName: L602B<br>Magnification: 188.60%<br>Tickets: 105",
          "RouteName: L215<br>Magnification: 182.70%<br>Tickets: 591",
          "RouteName: L725<br>Magnification: 156.30%<br>Tickets: 501",
          "RouteName: L723<br>Magnification: 155.50%<br>Tickets: 521",
          "RouteName: L721<br>Magnification: 138.40%<br>Tickets: 1,134",
          "RouteName: L728<br>Magnification: 136.50%<br>Tickets: 1,211",
          "RouteName: L602A<br>Magnification: 135.70%<br>Tickets: 888",
          "RouteName: L722<br>Magnification: 134.60%<br>Tickets: 1,263",
          "RouteName: L716<br>Magnification: 133.80%<br>Tickets: 2,461",
          "RouteName: L209<br>Magnification: 132.60%<br>Tickets: 556",
          "RouteName: L208<br>Magnification: 131.80%<br>Tickets: 2,593",
          "RouteName: L727<br>Magnification: 128.30%<br>Tickets: 1,126",
          "RouteName: L207<br>Magnification: 126.50%<br>Tickets: 818",
          "RouteName: L211<br>Magnification: 124.80%<br>Tickets: 1,153",
          "RouteName: L206<br>Magnification: 123.50%<br>Tickets: 715",
          "RouteName: L701A<br>Magnification: 121.50%<br>Tickets: 418",
          "RouteName: L712<br>Magnification: 119.30%<br>Tickets: 409",
          "RouteName: L311<br>Magnification: 117.30%<br>Tickets: 619",
          "RouteName: L701<br>Magnification: 115.80%<br>Tickets: 537",
          "RouteName: L502<br>Magnification: 114.00%<br>Tickets: 821",
          "RouteName: L310<br>Magnification: 113.50%<br>Tickets: 734",
          "RouteName: L516B<br>Magnification: 111.40%<br>Tickets: 88",
          "RouteName: L515<br>Magnification: 108.90%<br>Tickets: 45",
          "RouteName: L513<br>Magnification: 108.50%<br>Tickets: 425",
          "RouteName: L516<br>Magnification: 108.30%<br>Tickets: 230",
          "RouteName: L512<br>Magnification: 107.40%<br>Tickets: 487",
          "RouteName: L601<br>Magnification: 107.40%<br>Tickets: 5,630",
          "RouteName: L705<br>Magnification: 106.70%<br>Tickets: 807",
          "RouteName: L507<br>Magnification: 106.50%<br>Tickets: 341",
          "RouteName: L318<br>Magnification: 106.40%<br>Tickets: 545",
          "RouteName: L508<br>Magnification: 105.80%<br>Tickets: 2,777",
          "RouteName: L110<br>Magnification: 105.50%<br>Tickets: 1,864",
          "RouteName: L325<br>Magnification: 104.60%<br>Tickets: 843",
          "RouteName: L518<br>Magnification: 104.60%<br>Tickets: 390",
          "RouteName: L605<br>Magnification: 104.20%<br>Tickets: 1,688",
          "RouteName: L329<br>Magnification: 103.30%<br>Tickets: 2,241",
          "RouteName: L605A<br>Magnification: 103.30%<br>Tickets: 2,358",
          "RouteName: L516A<br>Magnification: 102.70%<br>Tickets: 186",
          "RouteName: L326<br>Magnification: 102.60%<br>Tickets: 456",
          "RouteName: L706<br>Magnification: 102.00%<br>Tickets: 700",
          "RouteName: L111<br>Magnification: 101.80%<br>Tickets: 2,102",
          "RouteName: L617<br>Magnification: 100.60%<br>Tickets: 349",
          "RouteName: L327<br>Magnification: 96.70%<br>Tickets: 120",
          "RouteName: L506<br>Magnification: 78.80%<br>Tickets: 66",
          "RouteName: L115<br>Magnification: 0.00%<br>Tickets: 42",
          "RouteName: L117<br>Magnification: 0.00%<br>Tickets: 59",
          "RouteName: L119<br>Magnification: 0.00%<br>Tickets: 121",
          "RouteName: L121<br>Magnification: 0.00%<br>Tickets: 67",
          "RouteName: L206A<br>Magnification: 0.00%<br>Tickets: 140",
          "RouteName: L207A<br>Magnification: 0.00%<br>Tickets: 155",
          "RouteName: L209A<br>Magnification: 0.00%<br>Tickets: 133",
          "RouteName: L302A<br>Magnification: 0.00%<br>Tickets: 206",
          "RouteName: L302B<br>Magnification: 0.00%<br>Tickets: 225",
          "RouteName: L303A<br>Magnification: 0.00%<br>Tickets: 222",
          "RouteName: L306B<br>Magnification: 0.00%<br>Tickets: 787",
          "RouteName: L309A<br>Magnification: 0.00%<br>Tickets: 109",
          "RouteName: L309B<br>Magnification: 0.00%<br>Tickets: 491",
          "RouteName: L317A<br>Magnification: 0.00%<br>Tickets: 900",
          "RouteName: L319A<br>Magnification: 0.00%<br>Tickets: 955",
          "RouteName: L331D<br>Magnification: 0.00%<br>Tickets: 10"
         ],
         "marker": {
          "color": "#84C1FF"
         },
         "name": "Tickets",
         "type": "bar",
         "x": [
          "L718",
          "L112",
          "L302",
          "L210",
          "L309",
          "L118",
          "L331A",
          "L306A",
          "L116",
          "L120",
          "L113",
          "L517",
          "L603",
          "L603A",
          "L602",
          "L217",
          "L603B",
          "L303",
          "L218",
          "L319",
          "L317",
          "L216",
          "L602B",
          "L215",
          "L725",
          "L723",
          "L721",
          "L728",
          "L602A",
          "L722",
          "L716",
          "L209",
          "L208",
          "L727",
          "L207",
          "L211",
          "L206",
          "L701A",
          "L712",
          "L311",
          "L701",
          "L502",
          "L310",
          "L516B",
          "L515",
          "L513",
          "L516",
          "L512",
          "L601",
          "L705",
          "L507",
          "L318",
          "L508",
          "L110",
          "L325",
          "L518",
          "L605",
          "L329",
          "L605A",
          "L516A",
          "L326",
          "L706",
          "L111",
          "L617",
          "L327",
          "L506",
          "L115",
          "L117",
          "L119",
          "L121",
          "L206A",
          "L207A",
          "L209A",
          "L302A",
          "L302B",
          "L303A",
          "L306B",
          "L309A",
          "L309B",
          "L317A",
          "L319A",
          "L331D"
         ],
         "y": [
          1,
          1236,
          495,
          202,
          380,
          166,
          40,
          388,
          147,
          191,
          164,
          307,
          156,
          411,
          348,
          192,
          59,
          1116,
          192,
          1018,
          907,
          571,
          105,
          591,
          501,
          521,
          1134,
          1211,
          888,
          1263,
          2461,
          556,
          2593,
          1126,
          818,
          1153,
          715,
          418,
          409,
          619,
          537,
          821,
          734,
          88,
          45,
          425,
          230,
          487,
          5630,
          807,
          341,
          545,
          2777,
          1864,
          843,
          390,
          1688,
          2241,
          2358,
          186,
          456,
          700,
          2102,
          349,
          120,
          66,
          42,
          59,
          121,
          67,
          140,
          155,
          133,
          206,
          225,
          222,
          787,
          109,
          491,
          900,
          955,
          10
         ]
        },
        {
         "hoverinfo": "text",
         "hovertext": [
          "RouteName: L718<br>Magnification: 64100.00%<br>Passengers: 641.0",
          "RouteName: L112<br>Magnification: 2383.30%<br>Passengers: 29,458.0",
          "RouteName: L302<br>Magnification: 758.80%<br>Passengers: 3,756.0",
          "RouteName: L210<br>Magnification: 695.00%<br>Passengers: 1,404.0",
          "RouteName: L309<br>Magnification: 614.50%<br>Passengers: 2,335.0",
          "RouteName: L118<br>Magnification: 599.40%<br>Passengers: 995.0",
          "RouteName: L331A<br>Magnification: 540.00%<br>Passengers: 216.0",
          "RouteName: L306A<br>Magnification: 518.00%<br>Passengers: 2,010.0",
          "RouteName: L116<br>Magnification: 515.60%<br>Passengers: 758.0",
          "RouteName: L120<br>Magnification: 504.70%<br>Passengers: 964.0",
          "RouteName: L113<br>Magnification: 493.90%<br>Passengers: 810.0",
          "RouteName: L517<br>Magnification: 321.50%<br>Passengers: 987.0",
          "RouteName: L603<br>Magnification: 310.30%<br>Passengers: 484.0",
          "RouteName: L603A<br>Magnification: 268.90%<br>Passengers: 1,105.0",
          "RouteName: L602<br>Magnification: 268.10%<br>Passengers: 933.0",
          "RouteName: L217<br>Magnification: 243.20%<br>Passengers: 467.0",
          "RouteName: L603B<br>Magnification: 240.70%<br>Passengers: 142.0",
          "RouteName: L303<br>Magnification: 212.90%<br>Passengers: 2,376.0",
          "RouteName: L218<br>Magnification: 210.90%<br>Passengers: 405.0",
          "RouteName: L319<br>Magnification: 195.00%<br>Passengers: 1,985.0",
          "RouteName: L317<br>Magnification: 193.40%<br>Passengers: 1,754.0",
          "RouteName: L216<br>Magnification: 191.20%<br>Passengers: 1,092.0",
          "RouteName: L602B<br>Magnification: 188.60%<br>Passengers: 198.0",
          "RouteName: L215<br>Magnification: 182.70%<br>Passengers: 1,080.0",
          "RouteName: L725<br>Magnification: 156.30%<br>Passengers: 783.0",
          "RouteName: L723<br>Magnification: 155.50%<br>Passengers: 810.0",
          "RouteName: L721<br>Magnification: 138.40%<br>Passengers: 1,570.0",
          "RouteName: L728<br>Magnification: 136.50%<br>Passengers: 1,653.0",
          "RouteName: L602A<br>Magnification: 135.70%<br>Passengers: 1,205.0",
          "RouteName: L722<br>Magnification: 134.60%<br>Passengers: 1,700.0",
          "RouteName: L716<br>Magnification: 133.80%<br>Passengers: 3,292.0",
          "RouteName: L209<br>Magnification: 132.60%<br>Passengers: 737.0",
          "RouteName: L208<br>Magnification: 131.80%<br>Passengers: 3,417.0",
          "RouteName: L727<br>Magnification: 128.30%<br>Passengers: 1,445.0",
          "RouteName: L207<br>Magnification: 126.50%<br>Passengers: 1,035.0",
          "RouteName: L211<br>Magnification: 124.80%<br>Passengers: 1,439.0",
          "RouteName: L206<br>Magnification: 123.50%<br>Passengers: 883.0",
          "RouteName: L701A<br>Magnification: 121.50%<br>Passengers: 508.0",
          "RouteName: L712<br>Magnification: 119.30%<br>Passengers: 488.0",
          "RouteName: L311<br>Magnification: 117.30%<br>Passengers: 726.0",
          "RouteName: L701<br>Magnification: 115.80%<br>Passengers: 622.0",
          "RouteName: L502<br>Magnification: 114.00%<br>Passengers: 936.0",
          "RouteName: L310<br>Magnification: 113.50%<br>Passengers: 833.0",
          "RouteName: L516B<br>Magnification: 111.40%<br>Passengers: 98.0",
          "RouteName: L515<br>Magnification: 108.90%<br>Passengers: 49.0",
          "RouteName: L513<br>Magnification: 108.50%<br>Passengers: 461.0",
          "RouteName: L516<br>Magnification: 108.30%<br>Passengers: 249.0",
          "RouteName: L512<br>Magnification: 107.40%<br>Passengers: 523.0",
          "RouteName: L601<br>Magnification: 107.40%<br>Passengers: 6,048.0",
          "RouteName: L705<br>Magnification: 106.70%<br>Passengers: 861.0",
          "RouteName: L507<br>Magnification: 106.50%<br>Passengers: 363.0",
          "RouteName: L318<br>Magnification: 106.40%<br>Passengers: 580.0",
          "RouteName: L508<br>Magnification: 105.80%<br>Passengers: 2,939.0",
          "RouteName: L110<br>Magnification: 105.50%<br>Passengers: 1,967.0",
          "RouteName: L325<br>Magnification: 104.60%<br>Passengers: 882.0",
          "RouteName: L518<br>Magnification: 104.60%<br>Passengers: 408.0",
          "RouteName: L605<br>Magnification: 104.20%<br>Passengers: 1,759.0",
          "RouteName: L329<br>Magnification: 103.30%<br>Passengers: 2,314.0",
          "RouteName: L605A<br>Magnification: 103.30%<br>Passengers: 2,435.0",
          "RouteName: L516A<br>Magnification: 102.70%<br>Passengers: 191.0",
          "RouteName: L326<br>Magnification: 102.60%<br>Passengers: 468.0",
          "RouteName: L706<br>Magnification: 102.00%<br>Passengers: 714.0",
          "RouteName: L111<br>Magnification: 101.80%<br>Passengers: 2,139.0",
          "RouteName: L617<br>Magnification: 100.60%<br>Passengers: 351.0",
          "RouteName: L327<br>Magnification: 96.70%<br>Passengers: 116.0",
          "RouteName: L506<br>Magnification: 78.80%<br>Passengers: 52.0",
          "RouteName: L115<br>Magnification: 0.00%<br>Passengers: 0.0",
          "RouteName: L117<br>Magnification: 0.00%<br>Passengers: 0.0",
          "RouteName: L119<br>Magnification: 0.00%<br>Passengers: 0.0",
          "RouteName: L121<br>Magnification: 0.00%<br>Passengers: 0.0",
          "RouteName: L206A<br>Magnification: 0.00%<br>Passengers: 0.0",
          "RouteName: L207A<br>Magnification: 0.00%<br>Passengers: 0.0",
          "RouteName: L209A<br>Magnification: 0.00%<br>Passengers: 0.0",
          "RouteName: L302A<br>Magnification: 0.00%<br>Passengers: 0.0",
          "RouteName: L302B<br>Magnification: 0.00%<br>Passengers: 0.0",
          "RouteName: L303A<br>Magnification: 0.00%<br>Passengers: 0.0",
          "RouteName: L306B<br>Magnification: 0.00%<br>Passengers: 0.0",
          "RouteName: L309A<br>Magnification: 0.00%<br>Passengers: 0.0",
          "RouteName: L309B<br>Magnification: 0.00%<br>Passengers: 0.0",
          "RouteName: L317A<br>Magnification: 0.00%<br>Passengers: 0.0",
          "RouteName: L319A<br>Magnification: 0.00%<br>Passengers: 0.0",
          "RouteName: L331D<br>Magnification: 0.00%<br>Passengers: 0.0"
         ],
         "marker": {
          "color": "#FF8000"
         },
         "name": "Passengers",
         "type": "bar",
         "x": [
          "L718",
          "L112",
          "L302",
          "L210",
          "L309",
          "L118",
          "L331A",
          "L306A",
          "L116",
          "L120",
          "L113",
          "L517",
          "L603",
          "L603A",
          "L602",
          "L217",
          "L603B",
          "L303",
          "L218",
          "L319",
          "L317",
          "L216",
          "L602B",
          "L215",
          "L725",
          "L723",
          "L721",
          "L728",
          "L602A",
          "L722",
          "L716",
          "L209",
          "L208",
          "L727",
          "L207",
          "L211",
          "L206",
          "L701A",
          "L712",
          "L311",
          "L701",
          "L502",
          "L310",
          "L516B",
          "L515",
          "L513",
          "L516",
          "L512",
          "L601",
          "L705",
          "L507",
          "L318",
          "L508",
          "L110",
          "L325",
          "L518",
          "L605",
          "L329",
          "L605A",
          "L516A",
          "L326",
          "L706",
          "L111",
          "L617",
          "L327",
          "L506",
          "L115",
          "L117",
          "L119",
          "L121",
          "L206A",
          "L207A",
          "L209A",
          "L302A",
          "L302B",
          "L303A",
          "L306B",
          "L309A",
          "L309B",
          "L317A",
          "L319A",
          "L331D"
         ],
         "y": [
          641,
          29458,
          3756,
          1404,
          2335,
          995,
          216,
          2010,
          758,
          964,
          810,
          987,
          484,
          1105,
          933,
          467,
          142,
          2376,
          405,
          1985,
          1754,
          1092,
          198,
          1080,
          783,
          810,
          1570,
          1653,
          1205,
          1700,
          3292,
          737,
          3417,
          1445,
          1035,
          1439,
          883,
          508,
          488,
          726,
          622,
          936,
          833,
          98,
          49,
          461,
          249,
          523,
          6048,
          861,
          363,
          580,
          2939,
          1967,
          882,
          408,
          1759,
          2314,
          2435,
          191,
          468,
          714,
          2139,
          351,
          116,
          52,
          0,
          0,
          0,
          0,
          0,
          0,
          0,
          0,
          0,
          0,
          0,
          0,
          0,
          0,
          0,
          0
         ]
        }
       ],
       "layout": {
        "barmode": "group",
        "template": {
         "data": {
          "bar": [
           {
            "error_x": {
             "color": "#2a3f5f"
            },
            "error_y": {
             "color": "#2a3f5f"
            },
            "marker": {
             "line": {
              "color": "white",
              "width": 0.5
             },
             "pattern": {
              "fillmode": "overlay",
              "size": 10,
              "solidity": 0.2
             }
            },
            "type": "bar"
           }
          ],
          "barpolar": [
           {
            "marker": {
             "line": {
              "color": "white",
              "width": 0.5
             },
             "pattern": {
              "fillmode": "overlay",
              "size": 10,
              "solidity": 0.2
             }
            },
            "type": "barpolar"
           }
          ],
          "carpet": [
           {
            "aaxis": {
             "endlinecolor": "#2a3f5f",
             "gridcolor": "#C8D4E3",
             "linecolor": "#C8D4E3",
             "minorgridcolor": "#C8D4E3",
             "startlinecolor": "#2a3f5f"
            },
            "baxis": {
             "endlinecolor": "#2a3f5f",
             "gridcolor": "#C8D4E3",
             "linecolor": "#C8D4E3",
             "minorgridcolor": "#C8D4E3",
             "startlinecolor": "#2a3f5f"
            },
            "type": "carpet"
           }
          ],
          "choropleth": [
           {
            "colorbar": {
             "outlinewidth": 0,
             "ticks": ""
            },
            "type": "choropleth"
           }
          ],
          "contour": [
           {
            "colorbar": {
             "outlinewidth": 0,
             "ticks": ""
            },
            "colorscale": [
             [
              0,
              "#0d0887"
             ],
             [
              0.1111111111111111,
              "#46039f"
             ],
             [
              0.2222222222222222,
              "#7201a8"
             ],
             [
              0.3333333333333333,
              "#9c179e"
             ],
             [
              0.4444444444444444,
              "#bd3786"
             ],
             [
              0.5555555555555556,
              "#d8576b"
             ],
             [
              0.6666666666666666,
              "#ed7953"
             ],
             [
              0.7777777777777778,
              "#fb9f3a"
             ],
             [
              0.8888888888888888,
              "#fdca26"
             ],
             [
              1,
              "#f0f921"
             ]
            ],
            "type": "contour"
           }
          ],
          "contourcarpet": [
           {
            "colorbar": {
             "outlinewidth": 0,
             "ticks": ""
            },
            "type": "contourcarpet"
           }
          ],
          "heatmap": [
           {
            "colorbar": {
             "outlinewidth": 0,
             "ticks": ""
            },
            "colorscale": [
             [
              0,
              "#0d0887"
             ],
             [
              0.1111111111111111,
              "#46039f"
             ],
             [
              0.2222222222222222,
              "#7201a8"
             ],
             [
              0.3333333333333333,
              "#9c179e"
             ],
             [
              0.4444444444444444,
              "#bd3786"
             ],
             [
              0.5555555555555556,
              "#d8576b"
             ],
             [
              0.6666666666666666,
              "#ed7953"
             ],
             [
              0.7777777777777778,
              "#fb9f3a"
             ],
             [
              0.8888888888888888,
              "#fdca26"
             ],
             [
              1,
              "#f0f921"
             ]
            ],
            "type": "heatmap"
           }
          ],
          "heatmapgl": [
           {
            "colorbar": {
             "outlinewidth": 0,
             "ticks": ""
            },
            "colorscale": [
             [
              0,
              "#0d0887"
             ],
             [
              0.1111111111111111,
              "#46039f"
             ],
             [
              0.2222222222222222,
              "#7201a8"
             ],
             [
              0.3333333333333333,
              "#9c179e"
             ],
             [
              0.4444444444444444,
              "#bd3786"
             ],
             [
              0.5555555555555556,
              "#d8576b"
             ],
             [
              0.6666666666666666,
              "#ed7953"
             ],
             [
              0.7777777777777778,
              "#fb9f3a"
             ],
             [
              0.8888888888888888,
              "#fdca26"
             ],
             [
              1,
              "#f0f921"
             ]
            ],
            "type": "heatmapgl"
           }
          ],
          "histogram": [
           {
            "marker": {
             "pattern": {
              "fillmode": "overlay",
              "size": 10,
              "solidity": 0.2
             }
            },
            "type": "histogram"
           }
          ],
          "histogram2d": [
           {
            "colorbar": {
             "outlinewidth": 0,
             "ticks": ""
            },
            "colorscale": [
             [
              0,
              "#0d0887"
             ],
             [
              0.1111111111111111,
              "#46039f"
             ],
             [
              0.2222222222222222,
              "#7201a8"
             ],
             [
              0.3333333333333333,
              "#9c179e"
             ],
             [
              0.4444444444444444,
              "#bd3786"
             ],
             [
              0.5555555555555556,
              "#d8576b"
             ],
             [
              0.6666666666666666,
              "#ed7953"
             ],
             [
              0.7777777777777778,
              "#fb9f3a"
             ],
             [
              0.8888888888888888,
              "#fdca26"
             ],
             [
              1,
              "#f0f921"
             ]
            ],
            "type": "histogram2d"
           }
          ],
          "histogram2dcontour": [
           {
            "colorbar": {
             "outlinewidth": 0,
             "ticks": ""
            },
            "colorscale": [
             [
              0,
              "#0d0887"
             ],
             [
              0.1111111111111111,
              "#46039f"
             ],
             [
              0.2222222222222222,
              "#7201a8"
             ],
             [
              0.3333333333333333,
              "#9c179e"
             ],
             [
              0.4444444444444444,
              "#bd3786"
             ],
             [
              0.5555555555555556,
              "#d8576b"
             ],
             [
              0.6666666666666666,
              "#ed7953"
             ],
             [
              0.7777777777777778,
              "#fb9f3a"
             ],
             [
              0.8888888888888888,
              "#fdca26"
             ],
             [
              1,
              "#f0f921"
             ]
            ],
            "type": "histogram2dcontour"
           }
          ],
          "mesh3d": [
           {
            "colorbar": {
             "outlinewidth": 0,
             "ticks": ""
            },
            "type": "mesh3d"
           }
          ],
          "parcoords": [
           {
            "line": {
             "colorbar": {
              "outlinewidth": 0,
              "ticks": ""
             }
            },
            "type": "parcoords"
           }
          ],
          "pie": [
           {
            "automargin": true,
            "type": "pie"
           }
          ],
          "scatter": [
           {
            "fillpattern": {
             "fillmode": "overlay",
             "size": 10,
             "solidity": 0.2
            },
            "type": "scatter"
           }
          ],
          "scatter3d": [
           {
            "line": {
             "colorbar": {
              "outlinewidth": 0,
              "ticks": ""
             }
            },
            "marker": {
             "colorbar": {
              "outlinewidth": 0,
              "ticks": ""
             }
            },
            "type": "scatter3d"
           }
          ],
          "scattercarpet": [
           {
            "marker": {
             "colorbar": {
              "outlinewidth": 0,
              "ticks": ""
             }
            },
            "type": "scattercarpet"
           }
          ],
          "scattergeo": [
           {
            "marker": {
             "colorbar": {
              "outlinewidth": 0,
              "ticks": ""
             }
            },
            "type": "scattergeo"
           }
          ],
          "scattergl": [
           {
            "marker": {
             "colorbar": {
              "outlinewidth": 0,
              "ticks": ""
             }
            },
            "type": "scattergl"
           }
          ],
          "scattermapbox": [
           {
            "marker": {
             "colorbar": {
              "outlinewidth": 0,
              "ticks": ""
             }
            },
            "type": "scattermapbox"
           }
          ],
          "scatterpolar": [
           {
            "marker": {
             "colorbar": {
              "outlinewidth": 0,
              "ticks": ""
             }
            },
            "type": "scatterpolar"
           }
          ],
          "scatterpolargl": [
           {
            "marker": {
             "colorbar": {
              "outlinewidth": 0,
              "ticks": ""
             }
            },
            "type": "scatterpolargl"
           }
          ],
          "scatterternary": [
           {
            "marker": {
             "colorbar": {
              "outlinewidth": 0,
              "ticks": ""
             }
            },
            "type": "scatterternary"
           }
          ],
          "surface": [
           {
            "colorbar": {
             "outlinewidth": 0,
             "ticks": ""
            },
            "colorscale": [
             [
              0,
              "#0d0887"
             ],
             [
              0.1111111111111111,
              "#46039f"
             ],
             [
              0.2222222222222222,
              "#7201a8"
             ],
             [
              0.3333333333333333,
              "#9c179e"
             ],
             [
              0.4444444444444444,
              "#bd3786"
             ],
             [
              0.5555555555555556,
              "#d8576b"
             ],
             [
              0.6666666666666666,
              "#ed7953"
             ],
             [
              0.7777777777777778,
              "#fb9f3a"
             ],
             [
              0.8888888888888888,
              "#fdca26"
             ],
             [
              1,
              "#f0f921"
             ]
            ],
            "type": "surface"
           }
          ],
          "table": [
           {
            "cells": {
             "fill": {
              "color": "#EBF0F8"
             },
             "line": {
              "color": "white"
             }
            },
            "header": {
             "fill": {
              "color": "#C8D4E3"
             },
             "line": {
              "color": "white"
             }
            },
            "type": "table"
           }
          ]
         },
         "layout": {
          "annotationdefaults": {
           "arrowcolor": "#2a3f5f",
           "arrowhead": 0,
           "arrowwidth": 1
          },
          "autotypenumbers": "strict",
          "coloraxis": {
           "colorbar": {
            "outlinewidth": 0,
            "ticks": ""
           }
          },
          "colorscale": {
           "diverging": [
            [
             0,
             "#8e0152"
            ],
            [
             0.1,
             "#c51b7d"
            ],
            [
             0.2,
             "#de77ae"
            ],
            [
             0.3,
             "#f1b6da"
            ],
            [
             0.4,
             "#fde0ef"
            ],
            [
             0.5,
             "#f7f7f7"
            ],
            [
             0.6,
             "#e6f5d0"
            ],
            [
             0.7,
             "#b8e186"
            ],
            [
             0.8,
             "#7fbc41"
            ],
            [
             0.9,
             "#4d9221"
            ],
            [
             1,
             "#276419"
            ]
           ],
           "sequential": [
            [
             0,
             "#0d0887"
            ],
            [
             0.1111111111111111,
             "#46039f"
            ],
            [
             0.2222222222222222,
             "#7201a8"
            ],
            [
             0.3333333333333333,
             "#9c179e"
            ],
            [
             0.4444444444444444,
             "#bd3786"
            ],
            [
             0.5555555555555556,
             "#d8576b"
            ],
            [
             0.6666666666666666,
             "#ed7953"
            ],
            [
             0.7777777777777778,
             "#fb9f3a"
            ],
            [
             0.8888888888888888,
             "#fdca26"
            ],
            [
             1,
             "#f0f921"
            ]
           ],
           "sequentialminus": [
            [
             0,
             "#0d0887"
            ],
            [
             0.1111111111111111,
             "#46039f"
            ],
            [
             0.2222222222222222,
             "#7201a8"
            ],
            [
             0.3333333333333333,
             "#9c179e"
            ],
            [
             0.4444444444444444,
             "#bd3786"
            ],
            [
             0.5555555555555556,
             "#d8576b"
            ],
            [
             0.6666666666666666,
             "#ed7953"
            ],
            [
             0.7777777777777778,
             "#fb9f3a"
            ],
            [
             0.8888888888888888,
             "#fdca26"
            ],
            [
             1,
             "#f0f921"
            ]
           ]
          },
          "colorway": [
           "#636efa",
           "#EF553B",
           "#00cc96",
           "#ab63fa",
           "#FFA15A",
           "#19d3f3",
           "#FF6692",
           "#B6E880",
           "#FF97FF",
           "#FECB52"
          ],
          "font": {
           "color": "#2a3f5f"
          },
          "geo": {
           "bgcolor": "white",
           "lakecolor": "white",
           "landcolor": "white",
           "showlakes": true,
           "showland": true,
           "subunitcolor": "#C8D4E3"
          },
          "hoverlabel": {
           "align": "left"
          },
          "hovermode": "closest",
          "mapbox": {
           "style": "light"
          },
          "paper_bgcolor": "white",
          "plot_bgcolor": "white",
          "polar": {
           "angularaxis": {
            "gridcolor": "#EBF0F8",
            "linecolor": "#EBF0F8",
            "ticks": ""
           },
           "bgcolor": "white",
           "radialaxis": {
            "gridcolor": "#EBF0F8",
            "linecolor": "#EBF0F8",
            "ticks": ""
           }
          },
          "scene": {
           "xaxis": {
            "backgroundcolor": "white",
            "gridcolor": "#DFE8F3",
            "gridwidth": 2,
            "linecolor": "#EBF0F8",
            "showbackground": true,
            "ticks": "",
            "zerolinecolor": "#EBF0F8"
           },
           "yaxis": {
            "backgroundcolor": "white",
            "gridcolor": "#DFE8F3",
            "gridwidth": 2,
            "linecolor": "#EBF0F8",
            "showbackground": true,
            "ticks": "",
            "zerolinecolor": "#EBF0F8"
           },
           "zaxis": {
            "backgroundcolor": "white",
            "gridcolor": "#DFE8F3",
            "gridwidth": 2,
            "linecolor": "#EBF0F8",
            "showbackground": true,
            "ticks": "",
            "zerolinecolor": "#EBF0F8"
           }
          },
          "shapedefaults": {
           "line": {
            "color": "#2a3f5f"
           }
          },
          "ternary": {
           "aaxis": {
            "gridcolor": "#DFE8F3",
            "linecolor": "#A2B1C6",
            "ticks": ""
           },
           "baxis": {
            "gridcolor": "#DFE8F3",
            "linecolor": "#A2B1C6",
            "ticks": ""
           },
           "bgcolor": "white",
           "caxis": {
            "gridcolor": "#DFE8F3",
            "linecolor": "#A2B1C6",
            "ticks": ""
           }
          },
          "title": {
           "x": 0.05
          },
          "xaxis": {
           "automargin": true,
           "gridcolor": "#EBF0F8",
           "linecolor": "#EBF0F8",
           "ticks": "",
           "title": {
            "standoff": 15
           },
           "zerolinecolor": "#EBF0F8",
           "zerolinewidth": 2
          },
          "yaxis": {
           "automargin": true,
           "gridcolor": "#EBF0F8",
           "linecolor": "#EBF0F8",
           "ticks": "",
           "title": {
            "standoff": 15
           },
           "zerolinecolor": "#EBF0F8",
           "zerolinewidth": 2
          }
         }
        },
        "title": {
         "text": "Tickets and Passengers for 202307"
        },
        "xaxis": {
         "tickangle": -90,
         "title": {
          "text": "路線編號"
         }
        },
        "yaxis": {
         "title": {
          "text": "人次"
         }
        }
       }
      }
     },
     "metadata": {},
     "output_type": "display_data"
    }
   ],
   "source": [
    "unique_year_months = tickets_magnification[\"DataYearMonth\"].unique()\n",
    "# 創建篩選器 (Dropdown)\n",
    "dropdown = widgets.Dropdown(\n",
    "    options=unique_year_months,\n",
    "    value=unique_year_months[0],\n",
    "    description=\"月份:\"\n",
    ")\n",
    "\n",
    "# 定義繪圖函數\n",
    "def plot_barchart(selected_month):\n",
    "    # 篩選 DataFrame\n",
    "    filtered_df = tickets_magnification[tickets_magnification[\"DataYearMonth\"] == selected_month]\n",
    "    \n",
    "    if filtered_df.empty:\n",
    "        print(f\"No data available for {selected_month}\")\n",
    "        return\n",
    "    \n",
    "    # 創建條形圖\n",
    "    fig = go.Figure()\n",
    "\n",
    "    # 定義顯示在 hover 上的格式\n",
    "    hover_text_tickets = [\n",
    "    f\"RouteName: {row['RouteName']}<br>Magnification: {row['Magnification'] * 100:.2f}%<br>Tickets: {row['Tickets']:,}\"  # Magnification 顯示為百分比，Tickets 顯示為實際數字\n",
    "    for _, row in filtered_df.iterrows()\n",
    "    ]\n",
    "    hover_text_passengers = [\n",
    "    f\"RouteName: {row['RouteName']}<br>Magnification: {row['Magnification'] * 100:.2f}%<br>Passengers: {row['Passengers']:,}\"  # Magnification 顯示為百分比，Passengers 顯示為實際數字\n",
    "    for _, row in filtered_df.iterrows()\n",
    "    ]\n",
    "\n",
    "    # 添加 Tickets 的長條圖\n",
    "    fig.add_trace(go.Bar(\n",
    "        x=filtered_df[\"RouteName\"],\n",
    "        y=filtered_df[\"Tickets\"],\n",
    "        name=\"Tickets\",\n",
    "        marker_color=\"#84C1FF\",\n",
    "        hovertext=hover_text_tickets,  # 顯示格式化過的 hovertext\n",
    "        hoverinfo=\"text\"  # 只顯示 hovertext 的內容\n",
    "    ))\n",
    "\n",
    "    # 添加 Passengers 的長條圖\n",
    "    fig.add_trace(go.Bar(\n",
    "        x=filtered_df[\"RouteName\"],\n",
    "        y=filtered_df[\"Passengers\"],  # 更新欄位名稱為 Passengers\n",
    "        name=\"Passengers\",\n",
    "        marker_color=\"#FF8000\",\n",
    "        hovertext=hover_text_passengers,  # 顯示格式化過的 hovertext\n",
    "        hoverinfo=\"text\"  # 只顯示 hovertext 的內容\n",
    "    ))\n",
    "\n",
    "    # 設定標題與軸標籤\n",
    "    fig.update_layout(\n",
    "        title=f\"Tickets and Passengers for {selected_month}\",\n",
    "        xaxis_title=\"路線編號\",\n",
    "        yaxis_title=\"人次\",\n",
    "        barmode=\"group\",  # 並列顯示長條圖\n",
    "        xaxis_tickangle=-90,\n",
    "        template=\"plotly_white\"  # 使用白色背景的模板\n",
    "    )\n",
    "\n",
    "    # 顯示圖表\n",
    "    fig.show()\n",
    "\n",
    "# 綁定事件到篩選器\n",
    "dropdown.observe(lambda change: plot_barchart(change.new), names=\"value\")\n",
    "\n",
    "# 初始顯示\n",
    "display(dropdown)\n",
    "plot_barchart(dropdown.value)\n"
   ]
  },
  {
   "cell_type": "code",
   "execution_count": 11,
   "metadata": {},
   "outputs": [],
   "source": [
    "# 確認班次資料皆有\n",
    "shift = pd.read_excel(os.path.join(inputfolder_path, 'shift.xlsx'))\n",
    "shift.columns = ['RouteName', 'Direction', 'Shift', 'IsWorkday']\n",
    "shift['IsWorkday'] = shift['IsWorkday'].replace({'假日': '0', '平日': '1'})\n",
    "shift = shift.sort_values(['RouteName', 'IsWorkday','Shift', 'Direction'], ascending=[True, True, True, True])"
   ]
  },
  {
   "cell_type": "markdown",
   "metadata": {},
   "source": [
    "## 資料運算"
   ]
  },
  {
   "cell_type": "markdown",
   "metadata": {},
   "source": [
    "1. 把班表資料黏上"
   ]
  },
  {
   "cell_type": "code",
   "execution_count": 14,
   "metadata": {},
   "outputs": [],
   "source": [
    "ticketsoriginal = tickets.copy()\n"
   ]
  },
  {
   "cell_type": "code",
   "execution_count": null,
   "metadata": {},
   "outputs": [],
   "source": [
    "# 這是我有提供資料的保證資料\n",
    "tickets = tickets[tickets['RouteName'].isin(shift['RouteName'])].reset_index(drop = True)\n",
    "\n",
    "# 開始對照表格"
   ]
  },
  {
   "cell_type": "code",
   "execution_count": null,
   "metadata": {},
   "outputs": [],
   "source": []
  }
 ],
 "metadata": {
  "kernelspec": {
   "display_name": "Python 3",
   "language": "python",
   "name": "python3"
  },
  "language_info": {
   "codemirror_mode": {
    "name": "ipython",
    "version": 3
   },
   "file_extension": ".py",
   "mimetype": "text/x-python",
   "name": "python",
   "nbconvert_exporter": "python",
   "pygments_lexer": "ipython3",
   "version": "3.11.9"
  }
 },
 "nbformat": 4,
 "nbformat_minor": 2
}
